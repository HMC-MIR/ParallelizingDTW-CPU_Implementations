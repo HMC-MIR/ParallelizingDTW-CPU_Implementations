{
 "cells": [
  {
   "cell_type": "markdown",
   "metadata": {},
   "source": [
    "# Evaluate"
   ]
  },
  {
   "cell_type": "markdown",
   "metadata": {},
   "source": [
    "In this notebook we evaluate the accuracy of the predicted alignments."
   ]
  },
  {
   "cell_type": "code",
   "execution_count": 38,
   "metadata": {},
   "outputs": [],
   "source": [
    "%matplotlib inline"
   ]
  },
  {
   "cell_type": "code",
   "execution_count": 2,
   "metadata": {},
   "outputs": [],
   "source": [
    "import numpy as np\n",
    "import librosa as lb\n",
    "import matplotlib.pyplot as plt\n",
    "import seaborn as sns\n",
    "from pathlib import Path\n",
    "import glob\n",
    "import os.path\n",
    "import pandas as pd\n",
    "import pickle"
   ]
  },
  {
   "cell_type": "code",
   "execution_count": 3,
   "metadata": {},
   "outputs": [],
   "source": [
    "##### Change this cell to suit your file structure #####\n",
    "MAZURKAS_ROOT = Path('/data/Datasets/Chopin_Mazurkas') # Path to Mazurkas dataset root directory\n",
    "OUT_ROOT = Path().absolute() # Output root directory (this is where features, paths, etc. will be saved)\n",
    "########################################################"
   ]
  },
  {
   "cell_type": "code",
   "execution_count": 4,
   "metadata": {},
   "outputs": [],
   "source": [
    "ANNOTATIONS_ROOT = MAZURKAS_ROOT / 'annotations_beat'\n",
    "query_list = Path('cfg_files/query.test.list')\n",
    "query_list_train = Path('cfg_files/query.train.list')"
   ]
  },
  {
   "cell_type": "markdown",
   "metadata": {},
   "source": [
    "### Evaluate hypothesis directory"
   ]
  },
  {
   "cell_type": "markdown",
   "metadata": {},
   "source": [
    "First evaluate a single hypothesis directory."
   ]
  },
  {
   "cell_type": "code",
   "execution_count": null,
   "metadata": {},
   "outputs": [],
   "source": [
    "def eval_dir(hypdir, querylist, hop_sec, savefile = None):\n",
    "    '''\n",
    "    Find errors for all alignment paths in a given directory\n",
    "    '''\n",
    "    allErrs = {}\n",
    "    cnt = 0\n",
    "    print(f'Processing {hypdir} ', end='')\n",
    "    with open(querylist, 'r') as f:\n",
    "        for line in f:\n",
    "            parts = line.strip().split()\n",
    "            assert len(parts) == 2\n",
    "            basename = os.path.basename(parts[0]) + '__' + os.path.basename(parts[1])\n",
    "            hypfile = hypdir / (basename + '.pkl')\n",
    "            if not os.path.exists(hypfile):\n",
    "                print(\"X\", end='')\n",
    "                continue\n",
    "            allErrs[basename] = eval_file(hypfile, hop_sec)\n",
    "            cnt += 1\n",
    "            if cnt % 500 == 0:\n",
    "                print(\".\", end='')\n",
    "    print(' done')\n",
    "    if savefile:\n",
    "        os.makedirs(os.path.split(savefile)[0], exist_ok = True)\n",
    "        pickle.dump(allErrs, open(savefile, 'wb'))\n",
    "        \n",
    "    return allErrs"
   ]
  },
  {
   "cell_type": "code",
   "execution_count": null,
   "metadata": {},
   "outputs": [],
   "source": [
    "def eval_file(hypfile, hop_sec):\n",
    "    '''\n",
    "    Find errors in a given file\n",
    "    '''\n",
    "    parts = os.path.basename(hypfile).split('__')\n",
    "    assert len(parts) == 2\n",
    "    piece = extractPieceName(parts[0])\n",
    "    annotfile1 = (ANNOTATIONS_ROOT / piece / parts[0]).with_suffix('.beat')\n",
    "    annotfile2 = (ANNOTATIONS_ROOT / piece / parts[1]).with_suffix('.beat')\n",
    "    gt1 = getTimestamps(annotfile1)\n",
    "    gt2 = getTimestamps(annotfile2)\n",
    "    hypalign = loadAlignment(hypfile) # warping path in frames\n",
    "    if hypalign is None:\n",
    "        err = [] # no valid path\n",
    "    else:\n",
    "        pred2 = np.interp(gt1, hypalign[0,:]*hop_sec, hypalign[1,:]*hop_sec)\n",
    "        err = pred2 - gt2\n",
    "    return err"
   ]
  },
  {
   "cell_type": "code",
   "execution_count": null,
   "metadata": {},
   "outputs": [],
   "source": [
    "def extractPieceName(fullpath):\n",
    "    basename = os.path.basename(fullpath) # e.g. Chopin_Op068No3_Sztompka-1959_pid9170b-21\n",
    "    parts = basename.split('_')\n",
    "    piece = '_'.join(parts[0:2]) # e.g. Chopin_Op068No3\n",
    "    return piece"
   ]
  },
  {
   "cell_type": "code",
   "execution_count": null,
   "metadata": {},
   "outputs": [],
   "source": [
    "def getTimestamps(annotfile):\n",
    "    df = pd.read_csv(annotfile, header=None, sep='\\s+', skiprows=3)\n",
    "    return np.array(df[0])"
   ]
  },
  {
   "cell_type": "code",
   "execution_count": null,
   "metadata": {},
   "outputs": [],
   "source": [
    "def loadAlignment(hypfile):\n",
    "    with open(hypfile, 'rb') as f:\n",
    "        d = pickle.load(f)\n",
    "    return d"
   ]
  },
  {
   "cell_type": "markdown",
   "metadata": {},
   "source": [
    "Evaluate a single hypothesis directory."
   ]
  },
  {
   "cell_type": "code",
   "execution_count": null,
   "metadata": {},
   "outputs": [],
   "source": [
    "hypdir = OUT_ROOT / 'experiments_test/clean/WSDTW_2'\n",
    "savefile = OUT_ROOT / 'evaluations_test/clean/WSDTW_2_clean'\n",
    "hop_sec = 512 * 1 / 22050\n",
    "allErrs = eval_dir(hypdir, query_list, hop_sec, savefile)"
   ]
  },
  {
   "cell_type": "code",
   "execution_count": null,
   "metadata": {},
   "outputs": [],
   "source": [
    "hypdir = OUT_ROOT / 'experiments_test/clean/SSDTW_8'\n",
    "savefile = OUT_ROOT / 'evaluations_test/clean/SSDTW_8.pkl'\n",
    "hop_sec = 512 * 1 / 22050\n",
    "allErrs = eval_dir(hypdir, query_list, hop_sec, savefile)"
   ]
  },
  {
   "cell_type": "markdown",
   "metadata": {},
   "source": [
    "Evaluate all hypothesis directories."
   ]
  },
  {
   "cell_type": "code",
   "execution_count": null,
   "metadata": {},
   "outputs": [],
   "source": [
    "def eval_all_dirs(rootdir, querylist, hop_sec, outdir):\n",
    "    '''\n",
    "    Find errors for all alignments in all subdirectories of rootdir\n",
    "    '''\n",
    "    if not os.path.exists(outdir):\n",
    "        os.mkdir(outdir)\n",
    "    for hypdir in glob.glob(f'{str(rootdir)}/*'):\n",
    "        hypdirPath = Path(hypdir)\n",
    "        savefile = outdir / (os.path.basename(hypdir) + '.pkl')\n",
    "        allErrs = eval_dir(hypdirPath, querylist, hop_sec, savefile = savefile)"
   ]
  },
  {
   "cell_type": "code",
   "execution_count": null,
   "metadata": {},
   "outputs": [],
   "source": [
    "EXPERIMENTS_ROOT = OUT_ROOT / 'experiments_test/clean'\n",
    "hop_sec = 512 * 1 / 22050\n",
    "outdir = OUT_ROOT / 'evaluations_test/clean'\n",
    "eval_all_dirs(EXPERIMENTS_ROOT, query_list, hop_sec, outdir)"
   ]
  },
  {
   "cell_type": "markdown",
   "metadata": {},
   "source": [
    "### Plot error vs tolerance"
   ]
  },
  {
   "cell_type": "code",
   "execution_count": null,
   "metadata": {},
   "outputs": [],
   "source": [
    "def calc_error_rates(errFile, maxTol):\n",
    "    '''\n",
    "    Calculate the error rates at various error tolerances for a single error file\n",
    "    '''\n",
    "    # read from file\n",
    "    with open(errFile, 'rb') as f:\n",
    "        allErrs = pickle.load(f)\n",
    "    \n",
    "    # collect all errors\n",
    "    errsFlat = []\n",
    "    for query in allErrs:\n",
    "        errs = np.array(allErrs[query])\n",
    "        errsFlat.append(errs)\n",
    "    errsFlat = np.concatenate(errsFlat)\n",
    "    \n",
    "    # calculate error rates\n",
    "    errRates = np.zeros(maxTol+1)\n",
    "    for i in range(maxTol+1):\n",
    "        errRates[i] = np.mean(np.abs(errsFlat) > i/1000)\n",
    "    \n",
    "    return errRates, errsFlat"
   ]
  },
  {
   "cell_type": "code",
   "execution_count": null,
   "metadata": {},
   "outputs": [],
   "source": [
    "def calc_error_rates_batch(indir, basenames, maxTol):\n",
    "    '''\n",
    "    Calculate the error rates at various error tolerances for all error files\n",
    "    '''\n",
    "    errRates = np.zeros((len(basenames), maxTol+1))\n",
    "    allErrVals = []\n",
    "    print('Computing error rates ', end='')\n",
    "    for i, basename in enumerate(basenames):\n",
    "        errFile = indir / (basename + '.pkl')\n",
    "        errRates[i,:], errors = calc_error_rates(errFile, maxTol)\n",
    "        allErrVals.append(errors)\n",
    "        print('.', end='')\n",
    "    print(' done')\n",
    "    return errRates, allErrVals"
   ]
  },
  {
   "cell_type": "code",
   "execution_count": null,
   "metadata": {},
   "outputs": [],
   "source": [
    "def plot_multiple_roc(errRates, basenames):\n",
    "    '''\n",
    "    Plot error tolerance vs error rate for multiple systems as lines\n",
    "    '''\n",
    "    numSystems = errRates.shape[0]\n",
    "    maxTol = errRates.shape[1] - 1\n",
    "    for i in range(numSystems):\n",
    "        plt.plot(np.arange(maxTol+1), errRates[i,:] * 100.0)\n",
    "    plt.legend(basenames, bbox_to_anchor=(1.05, 1), loc=2, borderaxespad=0.)\n",
    "    plt.xlabel('Error Tolerance (ms)')\n",
    "    plt.ylabel('Error Rate (%)')\n",
    "    plt.show()\n",
    "    return"
   ]
  },
  {
   "cell_type": "code",
   "execution_count": null,
   "metadata": {},
   "outputs": [],
   "source": [
    "EVAL_ROOT_DIR = OUT_ROOT / 'evaluations_test/clean'\n",
    "\n",
    "toPlot = ['DTW', 'FastDTW',\n",
    "          'NSDTW_2', 'NSDTW_4', 'NSDTW_8', 'NSDTW_16', 'NSDTW_32', \\\n",
    "          'WSDTW_2', 'WSDTW_4', 'WSDTW_8', 'WSDTW_16', 'WSDTW_32', \\\n",
    "          'SSDTW_2', 'SSDTW_4', 'SSDTW_8', 'SSDTW_16', 'SSDTW_32']\n",
    "\n",
    "maxTol = 1000 # in msec\n",
    "errRates, errVals = calc_error_rates_batch(EVAL_ROOT_DIR, toPlot, maxTol)"
   ]
  },
  {
   "cell_type": "code",
   "execution_count": null,
   "metadata": {},
   "outputs": [],
   "source": [
    "plot_multiple_roc(errRates, toPlot)"
   ]
  },
  {
   "cell_type": "markdown",
   "metadata": {},
   "source": [
    "### Histogram of selected error rates"
   ]
  },
  {
   "cell_type": "code",
   "execution_count": null,
   "metadata": {},
   "outputs": [],
   "source": [
    "def plot_grouped_histogram1(errRates_bars, SSDTW_errRates, NSDTW_errRates, basenames, tols, savefile = None):\n",
    "    '''\n",
    "    Create final plot of error rates of each system at multiple error tolerances\n",
    "    '''\n",
    "    # Histogram grouped by tolerance\n",
    "    \n",
    "    # first construct DataFrame\n",
    "    data = []\n",
    "    for i, system in enumerate(basenames):\n",
    "        for tol in tols:\n",
    "            data.append((system, tol, errRates_bars[i,tol] * 100.0))\n",
    "    df = pd.DataFrame(data, columns = ['System', 'Tolerance', 'Error'])\n",
    "    \n",
    "    # grouped barplot (DTW & WSDTW)\n",
    "    sns.barplot(x=\"Tolerance\", y=\"Error\", hue=\"System\", data=df)\n",
    "    plt.xlabel(\"Tolerance (ms)\", size=14)\n",
    "    plt.ylabel(\"Error Rate (%)\", size=14)\n",
    "    plt.legend(loc='upper right')\n",
    "    \n",
    "    \n",
    "    # overlay dots for SSDTW results\n",
    "    if errRates_bars.shape[0] == 7:\n",
    "        width_bar = .116\n",
    "    else:\n",
    "        width_bar = .135\n",
    "    x_coords = []\n",
    "    y_coords = []\n",
    "    for i, tol in enumerate(tols):\n",
    "        for j in range(SSDTW_errRates.shape[0]):\n",
    "            if errRates_bars.shape[0] == 7:\n",
    "                x_coords.append(i+(-1+j)*width_bar)\n",
    "            else:\n",
    "                x_coords.append(i+(-1.5+j)*width_bar)\n",
    "            y_coords.append(SSDTW_errRates[j,tol] * 100.0)\n",
    "    plt.plot(x_coords, y_coords, 'ko', markersize=3)\n",
    "    \n",
    "    # overlay dots for NSDTW results\n",
    "    x_coords = []\n",
    "    y_coords = []\n",
    "    for i, tol in enumerate(tols):\n",
    "        for j in range(NSDTW_errRates.shape[0]):\n",
    "            if errRates_bars.shape[0] == 7:\n",
    "                x_coords.append(i+(-1+j)*width_bar)\n",
    "            else:\n",
    "                x_coords.append(i+(-1.5+j)*width_bar)\n",
    "            y_coords.append(NSDTW_errRates[j,tol] * 100.0)\n",
    "    plt.plot(x_coords, y_coords, 'rx', markersize=3)\n",
    "    \n",
    "    if savefile:\n",
    "        plt.savefig(savefile, bbox_inches = 'tight')\n",
    "    \n",
    "    return"
   ]
  },
  {
   "cell_type": "code",
   "execution_count": null,
   "metadata": {},
   "outputs": [],
   "source": [
    "tols = [10, 20, 50, 100, 200, 500] # in msec\n",
    "display_names = ['DTW', 'FastDTW', 'WSDTW-2', 'WSDTW-4', 'WSDTW-8', 'WSDTW-16','WSDTW-32']\n",
    "savefile = OUT_ROOT / 'results.png'\n",
    "barRates = np.zeros((7, errRates.shape[1]))\n",
    "barRates[0:2,:] = errRates[0:2,:]\n",
    "barRates[2:, :] = errRates[7:12,:]\n",
    "NSDTW_errRates = errRates[2:7,:]\n",
    "SSDTW_errRates = errRates[12:,:]\n",
    "plot_grouped_histogram1(barRates, SSDTW_errRates, NSDTW_errRates, display_names, tols, savefile)"
   ]
  },
  {
   "cell_type": "markdown",
   "metadata": {},
   "source": [
    "## Noisy Data Plot"
   ]
  },
  {
   "cell_type": "code",
   "execution_count": null,
   "metadata": {},
   "outputs": [],
   "source": [
    "SNR_Vals = [20, 15, 10, 5, 0, -5, -10]"
   ]
  },
  {
   "cell_type": "code",
   "execution_count": null,
   "metadata": {},
   "outputs": [],
   "source": [
    "for SNR in SNR_Vals:\n",
    "    EXPERIMENTS_ROOT = OUT_ROOT / ('experiments_test/noisy_%sdB' % str(SNR))\n",
    "    hop_sec = 512 * 1 / 22050\n",
    "    outdir = OUT_ROOT / ('evaluations_test/noisy_%sdB' % str(SNR))\n",
    "    if not os.path.exists(outdir):\n",
    "        os.mkdir(outdir)\n",
    "    eval_all_dirs(EXPERIMENTS_ROOT, query_list, hop_sec, outdir)"
   ]
  },
  {
   "cell_type": "code",
   "execution_count": null,
   "metadata": {},
   "outputs": [],
   "source": [
    "toPlot = [\"DTW\", \"FastDTW\", \"WSDTW_2\", \"WSDTW_4\", \"WSDTW_8\", \"WSDTW_16\", \"WSDTW_32\"]\n",
    "\n",
    "errRates100 = np.zeros((7, len(toPlot))) # Each row is a different SNR, each col is a different system\n",
    "errRates20 = np.zeros((7, len(toPlot)))\n",
    "errRates500 = np.zeros((7, len(toPlot)))\n",
    "\n",
    "for i, SNR in enumerate(SNR_Vals):\n",
    "    EVAL_ROOT_DIR = OUT_ROOT / ('evaluations_test/noisy_%sdB' % str(SNR))\n",
    "    \n",
    "    maxTol = 1000 # in msec\n",
    "    theseErrRates, _ = calc_error_rates_batch(EVAL_ROOT_DIR, toPlot, maxTol)\n",
    "    for j in range(len(toPlot)):\n",
    "        errRates100[i, j] = theseErrRates[j, 100]\n",
    "        errRates20[i, j] = theseErrRates[j, 20]\n",
    "        errRates500[i, j] = theseErrRates[j, 500]"
   ]
  },
  {
   "cell_type": "code",
   "execution_count": null,
   "metadata": {},
   "outputs": [],
   "source": [
    "x_coords = []\n",
    "y_coords20 = []\n",
    "y_coords500 = []\n",
    "for i in range(len(toPlot)):\n",
    "    width = 0.12\n",
    "    plt.bar(np.arange(7)+i * width, errRates100[:,i] * 100, width);\n",
    "\n",
    "    plt.ylim([0,100]);\n",
    "    plt.ylabel(\"Error Rate (%)\")\n",
    "    \n",
    "    plt.xlabel(\"SNR (dB)\")\n",
    "    plt.xticks(np.arange(7) + 3 * width, SNR_Vals);\n",
    "    \n",
    "    x_coords.append(np.arange(7) + (i - 0.1) * width)\n",
    "    y_coords20.append(errRates20[:,i] * 100)\n",
    "    y_coords500.append(errRates500[:,i] * 100)\n",
    "\n",
    "labels = [\"DTW\", \"FastDTW\", \"WSDTW-2\", \"WSDTW-4\", \"WSDTW-8\", \"WSDTW-16\", \"WSDTW-32\"]\n",
    "plt.legend(labels, loc = (1.05,0.55));\n",
    "\n",
    "plt.plot(x_coords, y_coords20, 'k_', markersize=4);\n",
    "plt.plot(x_coords, y_coords500, 'k_', markersize=4);\n",
    "\n",
    "plt.savefig(OUT_ROOT / \"SNR_results.png\", bbox_inches = 'tight')"
   ]
  },
  {
   "cell_type": "markdown",
   "metadata": {},
   "source": [
    "### Runtime Analysis"
   ]
  },
  {
   "cell_type": "code",
   "execution_count": 40,
   "metadata": {},
   "outputs": [],
   "source": [
    "dtw_runtimes, dtw_sizes = pickle.load(open(OUT_ROOT / 'profiles/dtw_prof.pkl', 'rb'))\n",
    "pardtw_runtimes, pardtw_sizes = pickle.load(open(OUT_ROOT / 'profiles/pardtw_prof.pkl', 'rb'))\n",
    "fastdtw_runtimes, fastdtw_sizes = pickle.load(open(OUT_ROOT / 'profiles/fastdtw_prof.pkl', 'rb'))\n",
    "nsdtw_runtimes, nsdtw_segments, nsdtw_sizes = pickle.load(open(OUT_ROOT / 'profiles/nsdtw_prof.pkl', 'rb'))\n",
    "wsdtw_runtimes, wsdtw_segments, wsdtw_sizes = pickle.load(open(OUT_ROOT / 'profiles/wsdtw_prof.pkl', 'rb'))\n",
    "ssdtw_runtimes, ssdtw_segments, ssdtw_sizes = pickle.load(open(OUT_ROOT / 'profiles/ssdtw_prof.pkl', 'rb'))"
   ]
  },
  {
   "cell_type": "markdown",
   "metadata": {},
   "source": [
    "Numbers for runtime table"
   ]
  },
  {
   "cell_type": "code",
   "execution_count": 41,
   "metadata": {},
   "outputs": [],
   "source": [
    "dtw_avgs = np.mean(np.sum(dtw_runtimes[::-1,:,:], axis=2), axis=1)"
   ]
  },
  {
   "cell_type": "code",
   "execution_count": 42,
   "metadata": {},
   "outputs": [],
   "source": [
    "pardtw_avgs = np.mean(np.sum(pardtw_runtimes[::-1,:,:], axis=2), axis=1)"
   ]
  },
  {
   "cell_type": "code",
   "execution_count": 43,
   "metadata": {},
   "outputs": [],
   "source": [
    "fastdtw_avgs = np.mean(fastdtw_runtimes[::-1,:], axis=1)"
   ]
  },
  {
   "cell_type": "code",
   "execution_count": 44,
   "metadata": {},
   "outputs": [],
   "source": [
    "nsdtw_avgs = np.mean(np.sum(nsdtw_runtimes[:,::-1,:,:], axis=3), axis=2)"
   ]
  },
  {
   "cell_type": "code",
   "execution_count": 45,
   "metadata": {},
   "outputs": [],
   "source": [
    "wsdtw_avgs = np.mean(np.sum(wsdtw_runtimes[:,::-1,:,:], axis=3), axis=2)"
   ]
  },
  {
   "cell_type": "code",
   "execution_count": 46,
   "metadata": {},
   "outputs": [],
   "source": [
    "ssdtw_avgs = np.mean(np.sum(ssdtw_runtimes[:,::-1,:,:], axis=3), axis=2)"
   ]
  },
  {
   "cell_type": "code",
   "execution_count": 47,
   "metadata": {},
   "outputs": [],
   "source": [
    "all_avgs = np.vstack((dtw_avgs.reshape((1,-1)), (pardtw_avgs.reshape((1,-1))), fastdtw_avgs, \\\n",
    "                     nsdtw_avgs, wsdtw_avgs, ssdtw_avgs))"
   ]
  },
  {
   "cell_type": "markdown",
   "metadata": {},
   "source": [
    "Make Runtime Table"
   ]
  },
  {
   "cell_type": "code",
   "execution_count": 35,
   "metadata": {},
   "outputs": [
    {
     "data": {
      "image/png": "[encoded data removed]",
      "text/plain": [
       "<Figure size 432x288 with 1 Axes>"
      ]
     },
     "metadata": {
      "needs_background": "light"
     },
     "output_type": "display_data"
    }
   ],
   "source": [
    "columns = ['1k', '2k', '5k', '10k', '20k', '50k']\n",
    "rows = [\"System\",'DTW', 'ParDTW', 'FastDTW']\n",
    "segment_algs = ['NSDTW', 'WSDTW', 'SSDTW']\n",
    "num_segs = [2, 4, 8, 16, 32]\n",
    "for alg_name in segment_algs:\n",
    "    for num_seg in num_segs:\n",
    "        rows.append(alg_name + '-' + str(num_seg))\n",
    "        \n",
    "cell_text = [columns]\n",
    "for i in range(len(rows) - 1):\n",
    "    cell_text.append(['%1.3f' % x for x in all_avgs[i,:]])\n",
    "        \n",
    "\n",
    "plt.axis('off')\n",
    "\n",
    "tab = plt.table(cellText=cell_text, rowLabels=rows, loc='center')\n",
    "\n",
    "for key, cell in tab.get_celld().items():\n",
    "    if key[0] in [0,1,2,3,4,9,14]: #[0,1,2,7,12]:\n",
    "        cell.visible_edges = \"TRL\"\n",
    "    elif key[0] == 18:\n",
    "        cell.visible_edges = \"BRL\"\n",
    "    else:\n",
    "        cell.visible_edges = \"RL\"\n",
    "\n",
    "tab.scale(1.5, 1.2);\n",
    "\n",
    "\n",
    "plt.savefig(OUT_ROOT / 'runtime_table.png',\n",
    "            bbox_inches='tight',\n",
    "            dpi=150\n",
    "            )\n",
    "\n",
    "plt.show()"
   ]
  },
  {
   "cell_type": "markdown",
   "metadata": {},
   "source": [
    "Breakdown of runtime by component"
   ]
  },
  {
   "cell_type": "code",
   "execution_count": 48,
   "metadata": {},
   "outputs": [],
   "source": [
    "# get DTW percent of total runtime by component\n",
    "dtw_avgs = np.mean(dtw_runtimes, axis=1)\n",
    "dtw_avgs = dtw_avgs / np.sum(dtw_avgs, axis=1, keepdims=True) * 100.0\n",
    "dtw_avgs = dtw_avgs[::-1,:]\n",
    "dtw_avgs = np.hstack((dtw_avgs, np.zeros((6,2)))) # order: cost, frm dp, frm back, seg dp, seg back\n",
    "dtw_df = pd.DataFrame(dtw_avgs, columns=['Cost', 'Frm DP', 'Frm Back','Seg DP', 'Seg Back'], index=dtw_sizes[::-1])"
   ]
  },
  {
   "cell_type": "code",
   "execution_count": 51,
   "metadata": {},
   "outputs": [
    {
     "data": {
      "text/plain": [
       "array([[1.20236669e+01, 4.85607096e+01, 1.30088568e-02],\n",
       "       [2.00321600e+00, 7.54321966e+00, 3.90474796e-03],\n",
       "       [4.79434752e-01, 1.84516020e+00, 3.22255135e-02],\n",
       "       [1.11656618e-01, 4.60662317e-01, 7.01761246e-04],\n",
       "       [1.82390928e-02, 6.78628206e-02, 2.65669823e-04],\n",
       "       [2.28569508e-03, 1.34491444e-02, 1.16181374e-04]])"
      ]
     },
     "execution_count": 51,
     "metadata": {},
     "output_type": "execute_result"
    }
   ],
   "source": [
    "np.mean(dtw_runtimes, axis=1)"
   ]
  },
  {
   "cell_type": "code",
   "execution_count": null,
   "metadata": {},
   "outputs": [],
   "source": [
    "# get NSDTW percent of total runtime by component\n",
    "nsdtw_avgs = np.mean(nsdtw_runtimes, axis=2)\n",
    "nsdtw_avgs = nsdtw_avgs / np.sum(nsdtw_avgs, axis=2, keepdims=True) * 100.0\n",
    "nsdtw_avgs = nsdtw_avgs[4,::-1,:] # focus on K=32 segments\n",
    "nsdtw_avgs = np.hstack((nsdtw_avgs, np.zeros((6,2)))) # order: cost, frm dp, frm back, seg dp, seg back\n",
    "nsdtw_df = pd.DataFrame(nsdtw_avgs, columns=['Cost', 'Frm DP', 'Frm Back','Seg DP', 'Seg Back'], index=nsdtw_sizes[::-1])"
   ]
  },
  {
   "cell_type": "code",
   "execution_count": null,
   "metadata": {},
   "outputs": [],
   "source": [
    "# get WSDTW percent of total runtime by component\n",
    "wsdtw_avgs = np.mean(wsdtw_runtimes, axis=2)\n",
    "wsdtw_avgs = wsdtw_avgs / np.sum(wsdtw_avgs, axis=2, keepdims=True) * 100.0\n",
    "wsdtw_avgs = wsdtw_avgs[4,::-1,:] # focus on K=32 segments\n",
    "wsdtw_avgs = wsdtw_avgs[:,[0,1,4,2,3]] # original order: cost, frm dp, seg dp, seg back, frm back\n",
    "wsdtw_df = pd.DataFrame(wsdtw_avgs, columns=['Cost', 'Frm DP', 'Frm Back','Seg DP', 'Seg Back'], index=wsdtw_sizes[::-1])"
   ]
  },
  {
   "cell_type": "code",
   "execution_count": null,
   "metadata": {},
   "outputs": [],
   "source": [
    "# get SSDTW percent of total runtime by component\n",
    "ssdtw_avgs = np.mean(ssdtw_runtimes, axis=2)\n",
    "ssdtw_avgs = ssdtw_avgs / np.sum(ssdtw_avgs, axis=2, keepdims=True) * 100.0\n",
    "ssdtw_avgs = ssdtw_avgs[4,::-1,:] # focus on K=32 segments\n",
    "#print(ssdtw_avgs)\n",
    "ssdtw_avgs[:,2] = ssdtw_avgs[:,2] + ssdtw_avgs[:,5] # combine runtimes from both frame-level backtracking stages\n",
    "ssdtw_avgs = ssdtw_avgs[:,0:5] # order: cost, frm dp, frm back, seg dp, seg back\n",
    "ssdtw_df = pd.DataFrame(ssdtw_avgs, columns=['Cost', 'Frm DP', 'Frm Back','Seg DP', 'Seg Back'], index=ssdtw_sizes[::-1])"
   ]
  },
  {
   "cell_type": "markdown",
   "metadata": {},
   "source": [
    "Make Plot for Breakdown of Runtime"
   ]
  },
  {
   "cell_type": "code",
   "execution_count": null,
   "metadata": {},
   "outputs": [],
   "source": [
    "fig, axes = plt.subplots(nrows=1, ncols=4)\n",
    "\n",
    "# DTW plot\n",
    "ax = dtw_df.plot(kind=\"bar\", stacked=True, colormap=\"rainbow\", ax=axes[0])\n",
    "ax.set_title(\"DTW\")\n",
    "ax.set_ylabel(\"% Total Runtime\", size=13),\n",
    "ax.set_ylim(0, 100)\n",
    "ax.set_yticks(range(0, 101, 10))\n",
    "ax.xaxis.set_ticks_position('none') \n",
    "ax.set_xticklabels(labels=['1k','2k','5k','10k','20k','50k'], rotation=90, minor=False)\n",
    "ax.get_legend().remove()\n",
    "\n",
    "# NSDTW plot\n",
    "ax = nsdtw_df.plot(kind=\"bar\", stacked=True, colormap=\"rainbow\", ax=axes[1])\n",
    "ax.set_title(\"NSDTW-32\")\n",
    "ax.set_xlabel(\"\\nCost Matrix Size\", size=13),\n",
    "ax.set_ylim(0, 100)\n",
    "ax.set_yticks([])\n",
    "ax.xaxis.set_ticks_position('none') \n",
    "ax.set_xticklabels(labels=['1k','2k','5k','10k','20k','50k'], rotation=90, minor=False)\n",
    "ax.get_legend().remove()\n",
    "\n",
    "# WSDTW plot\n",
    "ax = wsdtw_df.plot(kind=\"bar\", stacked=True, colormap=\"rainbow\", ax=axes[2])\n",
    "ax.set_title(\"WSDTW-32\")\n",
    "ax.set_ylim(0, 100)\n",
    "ax.set_yticks([])\n",
    "ax.xaxis.set_ticks_position('none') \n",
    "ax.set_xticklabels(labels=['1k','2k','5k','10k','20k','50k'], rotation=90, minor=False)\n",
    "ax.get_legend().remove()\n",
    "\n",
    "# SSDTW plot\n",
    "ax = ssdtw_df.plot(kind=\"bar\", stacked=True, colormap=\"rainbow\", ax=axes[3])\n",
    "ax.set_title(\"SSDTW-32\")\n",
    "ax.set_ylim(0, 100)\n",
    "ax.set_yticks([])\n",
    "ax.xaxis.set_ticks_position('none') \n",
    "ax.set_xticklabels(labels=['1k','2k','5k','10k','20k','50k'], rotation=90, minor=False)\n",
    "\n",
    "ax.legend(bbox_to_anchor=(1, 1))\n",
    "\n",
    "\n",
    "plt.savefig(OUT_ROOT / 'runtime_plot.png',\n",
    "            bbox_inches='tight',\n",
    "            dpi=150\n",
    "            )\n",
    "\n",
    "plt.show()"
   ]
  },
  {
   "cell_type": "markdown",
   "metadata": {},
   "source": [
    "### Data Stats for paper"
   ]
  },
  {
   "cell_type": "markdown",
   "metadata": {},
   "source": [
    "Collecting some stats on the audio data"
   ]
  },
  {
   "cell_type": "code",
   "execution_count": null,
   "metadata": {},
   "outputs": [],
   "source": [
    "root_dir = MAZURKAS_ROOT / 'wav_22050_mono'"
   ]
  },
  {
   "cell_type": "code",
   "execution_count": null,
   "metadata": {},
   "outputs": [],
   "source": [
    "def printAudioStats(indir):\n",
    "    durs = []\n",
    "    for infile in glob.glob(f'{indir}/*.wav'):\n",
    "        y, sr = lb.load(infile)\n",
    "        durs.append(len(y)/sr)\n",
    "    durs = np.array(durs)\n",
    "    \n",
    "    print(os.path.basename(indir))\n",
    "    print('---------')\n",
    "    print(f'Min: {np.min(durs)} s')\n",
    "    print(f'Max: {np.max(durs)} s')\n",
    "    print(f'Mean: {np.mean(durs)} s')\n",
    "    print(f'Std: {np.std(durs)} s')"
   ]
  },
  {
   "cell_type": "code",
   "execution_count": null,
   "metadata": {},
   "outputs": [],
   "source": [
    "for indir in glob.glob(f'{str(root_dir)}/*'):\n",
    "    printAudioStats(indir)"
   ]
  },
  {
   "cell_type": "code",
   "execution_count": null,
   "metadata": {},
   "outputs": [],
   "source": []
  }
 ],
 "metadata": {
  "kernelspec": {
   "display_name": "MIR",
   "language": "python",
   "name": "mir"
  },
  "language_info": {
   "codemirror_mode": {
    "name": "ipython",
    "version": 3
   },
   "file_extension": ".py",
   "mimetype": "text/x-python",
   "name": "python",
   "nbconvert_exporter": "python",
   "pygments_lexer": "ipython3",
   "version": "3.7.10"
  }
 },
 "nbformat": 4,
 "nbformat_minor": 4
}
