{
 "cells": [
  {
   "cell_type": "markdown",
   "metadata": {},
   "source": [
    "# Evaluate"
   ]
  },
  {
   "cell_type": "markdown",
   "metadata": {},
   "source": [
    "In this notebook we evaluate the accuracy of the predicted alignments."
   ]
  },
  {
   "cell_type": "code",
   "execution_count": 1,
   "metadata": {},
   "outputs": [],
   "source": [
    "%matplotlib inline"
   ]
  },
  {
   "cell_type": "code",
   "execution_count": 2,
   "metadata": {},
   "outputs": [],
   "source": [
    "import numpy as np\n",
    "import matplotlib.pyplot as plt\n",
    "import seaborn as sns\n",
    "from pathlib import Path\n",
    "import glob\n",
    "import os.path\n",
    "import pandas as pd\n",
    "import pickle"
   ]
  },
  {
   "cell_type": "code",
   "execution_count": 3,
   "metadata": {},
   "outputs": [],
   "source": [
    "ANNOTATIONS_ROOT = Path('/data/Datasets/Chopin_Mazurkas/annotations_beat')\n",
    "query_list = Path('cfg_files/query.test.list')"
   ]
  },
  {
   "cell_type": "markdown",
   "metadata": {},
   "source": [
    "### Evaluate hypothesis directory"
   ]
  },
  {
   "cell_type": "markdown",
   "metadata": {},
   "source": [
    "First evaluate a single hypothesis directory."
   ]
  },
  {
   "cell_type": "code",
   "execution_count": 4,
   "metadata": {},
   "outputs": [],
   "source": [
    "def eval_dir(hypdir, querylist, hop_sec, savefile = None):\n",
    "    \n",
    "    allErrs = {}\n",
    "    cnt = 0\n",
    "    print(f'Processing {hypdir} ', end='')\n",
    "    with open(querylist, 'r') as f:\n",
    "        for line in f:\n",
    "            parts = line.strip().split()\n",
    "            assert len(parts) == 2\n",
    "            basename = os.path.basename(parts[0]) + '__' + os.path.basename(parts[1])\n",
    "            hypfile = hypdir + '/' + basename + '.pkl'\n",
    "            if not os.path.exists(hypfile):\n",
    "                print(\"X\", end='')\n",
    "                continue\n",
    "            allErrs[basename] = eval_file(hypfile, hop_sec)\n",
    "            cnt += 1\n",
    "            if cnt % 500 == 0:\n",
    "                print(\".\", end='')\n",
    "    print(' done')\n",
    "    if savefile:\n",
    "        pickle.dump(allErrs, open(savefile, 'wb'))\n",
    "        \n",
    "    return allErrs"
   ]
  },
  {
   "cell_type": "code",
   "execution_count": 5,
   "metadata": {},
   "outputs": [],
   "source": [
    "def eval_file(hypfile, hop_sec):\n",
    "    parts = os.path.basename(hypfile).split('__')\n",
    "    assert len(parts) == 2\n",
    "    piece = extractPieceName(parts[0])\n",
    "    annotfile1 = (ANNOTATIONS_ROOT / piece / parts[0]).with_suffix('.beat')\n",
    "    annotfile2 = (ANNOTATIONS_ROOT / piece / parts[1]).with_suffix('.beat')\n",
    "    gt1 = getTimestamps(annotfile1)\n",
    "    gt2 = getTimestamps(annotfile2)\n",
    "    hypalign = loadAlignment(hypfile) # warping path in frames\n",
    "    if hypalign is None:\n",
    "        err = [] # no valid path\n",
    "    else:\n",
    "        pred2 = np.interp(gt1, hypalign[0,:]*hop_sec, hypalign[1,:]*hop_sec)\n",
    "        err = pred2 - gt2\n",
    "    return err"
   ]
  },
  {
   "cell_type": "code",
   "execution_count": 6,
   "metadata": {},
   "outputs": [],
   "source": [
    "def extractPieceName(fullpath):\n",
    "    basename = os.path.basename(fullpath) # e.g. Chopin_Op068No3_Sztompka-1959_pid9170b-21\n",
    "    parts = basename.split('_')\n",
    "    piece = '_'.join(parts[0:2]) # e.g. Chopin_Op068No3\n",
    "    return piece"
   ]
  },
  {
   "cell_type": "code",
   "execution_count": 7,
   "metadata": {},
   "outputs": [],
   "source": [
    "def getTimestamps(annotfile):\n",
    "    df = pd.read_csv(annotfile, header=None, sep='\\s+', skiprows=3)\n",
    "    return np.array(df[0])"
   ]
  },
  {
   "cell_type": "code",
   "execution_count": 8,
   "metadata": {},
   "outputs": [],
   "source": [
    "def loadAlignment(hypfile):\n",
    "    with open(hypfile, 'rb') as f:\n",
    "        d = pickle.load(f)\n",
    "    return d"
   ]
  },
  {
   "cell_type": "markdown",
   "metadata": {},
   "source": [
    "Debugging"
   ]
  },
  {
   "cell_type": "code",
   "execution_count": 9,
   "metadata": {},
   "outputs": [
    {
     "ename": "FileNotFoundError",
     "evalue": "[Errno 2] No such file or directory: 'experiments_train/ssdtw_8_clean/Chopin_Op024No2_Ashkenazy-1981_pid9058-15__Chopin_Op024No2_Ax-1985_pid9179-07.pkl'",
     "output_type": "error",
     "traceback": [
      "\u001b[0;31m---------------------------------------------------------------------------\u001b[0m",
      "\u001b[0;31mFileNotFoundError\u001b[0m                         Traceback (most recent call last)",
      "\u001b[0;32m<ipython-input-9-70c2576e8b24>\u001b[0m in \u001b[0;36m<module>\u001b[0;34m\u001b[0m\n\u001b[1;32m      6\u001b[0m         \u001b[0mbasename\u001b[0m \u001b[0;34m=\u001b[0m \u001b[0mos\u001b[0m\u001b[0;34m.\u001b[0m\u001b[0mpath\u001b[0m\u001b[0;34m.\u001b[0m\u001b[0mbasename\u001b[0m\u001b[0;34m(\u001b[0m\u001b[0mparts\u001b[0m\u001b[0;34m[\u001b[0m\u001b[0;36m0\u001b[0m\u001b[0;34m]\u001b[0m\u001b[0;34m)\u001b[0m \u001b[0;34m+\u001b[0m \u001b[0;34m'__'\u001b[0m \u001b[0;34m+\u001b[0m \u001b[0mos\u001b[0m\u001b[0;34m.\u001b[0m\u001b[0mpath\u001b[0m\u001b[0;34m.\u001b[0m\u001b[0mbasename\u001b[0m\u001b[0;34m(\u001b[0m\u001b[0mparts\u001b[0m\u001b[0;34m[\u001b[0m\u001b[0;36m1\u001b[0m\u001b[0;34m]\u001b[0m\u001b[0;34m)\u001b[0m\u001b[0;34m\u001b[0m\u001b[0;34m\u001b[0m\u001b[0m\n\u001b[1;32m      7\u001b[0m         \u001b[0mhypfile\u001b[0m \u001b[0;34m=\u001b[0m \u001b[0mhypdir\u001b[0m \u001b[0;34m+\u001b[0m \u001b[0;34m'/'\u001b[0m \u001b[0;34m+\u001b[0m \u001b[0mbasename\u001b[0m \u001b[0;34m+\u001b[0m \u001b[0;34m'.pkl'\u001b[0m\u001b[0;34m\u001b[0m\u001b[0;34m\u001b[0m\u001b[0m\n\u001b[0;32m----> 8\u001b[0;31m         \u001b[0mhypalign\u001b[0m \u001b[0;34m=\u001b[0m \u001b[0mloadAlignment\u001b[0m\u001b[0;34m(\u001b[0m\u001b[0mhypfile\u001b[0m\u001b[0;34m)\u001b[0m\u001b[0;34m\u001b[0m\u001b[0;34m\u001b[0m\u001b[0m\n\u001b[0m\u001b[1;32m      9\u001b[0m         \u001b[0;32mif\u001b[0m \u001b[0mhypalign\u001b[0m \u001b[0;32mis\u001b[0m \u001b[0;32mNone\u001b[0m\u001b[0;34m:\u001b[0m\u001b[0;34m\u001b[0m\u001b[0;34m\u001b[0m\u001b[0m\n\u001b[1;32m     10\u001b[0m             \u001b[0mprint\u001b[0m\u001b[0;34m(\u001b[0m\u001b[0;34m\"None: \"\u001b[0m\u001b[0;34m,\u001b[0m \u001b[0mhypfile\u001b[0m\u001b[0;34m)\u001b[0m\u001b[0;34m\u001b[0m\u001b[0;34m\u001b[0m\u001b[0m\n",
      "\u001b[0;32m<ipython-input-8-993384d0ee9a>\u001b[0m in \u001b[0;36mloadAlignment\u001b[0;34m(hypfile)\u001b[0m\n\u001b[1;32m      1\u001b[0m \u001b[0;32mdef\u001b[0m \u001b[0mloadAlignment\u001b[0m\u001b[0;34m(\u001b[0m\u001b[0mhypfile\u001b[0m\u001b[0;34m)\u001b[0m\u001b[0;34m:\u001b[0m\u001b[0;34m\u001b[0m\u001b[0;34m\u001b[0m\u001b[0m\n\u001b[0;32m----> 2\u001b[0;31m     \u001b[0;32mwith\u001b[0m \u001b[0mopen\u001b[0m\u001b[0;34m(\u001b[0m\u001b[0mhypfile\u001b[0m\u001b[0;34m,\u001b[0m \u001b[0;34m'rb'\u001b[0m\u001b[0;34m)\u001b[0m \u001b[0;32mas\u001b[0m \u001b[0mf\u001b[0m\u001b[0;34m:\u001b[0m\u001b[0;34m\u001b[0m\u001b[0;34m\u001b[0m\u001b[0m\n\u001b[0m\u001b[1;32m      3\u001b[0m         \u001b[0md\u001b[0m \u001b[0;34m=\u001b[0m \u001b[0mpickle\u001b[0m\u001b[0;34m.\u001b[0m\u001b[0mload\u001b[0m\u001b[0;34m(\u001b[0m\u001b[0mf\u001b[0m\u001b[0;34m)\u001b[0m\u001b[0;34m\u001b[0m\u001b[0;34m\u001b[0m\u001b[0m\n\u001b[1;32m      4\u001b[0m     \u001b[0;32mreturn\u001b[0m \u001b[0md\u001b[0m\u001b[0;34m\u001b[0m\u001b[0;34m\u001b[0m\u001b[0m\n",
      "\u001b[0;31mFileNotFoundError\u001b[0m: [Errno 2] No such file or directory: 'experiments_train/ssdtw_8_clean/Chopin_Op024No2_Ashkenazy-1981_pid9058-15__Chopin_Op024No2_Ax-1985_pid9179-07.pkl'"
     ]
    }
   ],
   "source": [
    "hypdir = 'experiments_train/ssdtw_8_clean'\n",
    "with open(query_list, 'r') as f:\n",
    "    for line in f:\n",
    "        parts = line.strip().split()\n",
    "        assert len(parts) == 2\n",
    "        basename = os.path.basename(parts[0]) + '__' + os.path.basename(parts[1])\n",
    "        hypfile = hypdir + '/' + basename + '.pkl'\n",
    "        hypalign = loadAlignment(hypfile)\n",
    "        if hypalign is None:\n",
    "            print(\"None: \", hypfile)\n",
    "        elif hypalign.shape[1] == 8:\n",
    "            print(hypfile)\n",
    "            break"
   ]
  },
  {
   "cell_type": "markdown",
   "metadata": {},
   "source": [
    "Evaluate a single hypothesis directory."
   ]
  },
  {
   "cell_type": "code",
   "execution_count": 10,
   "metadata": {},
   "outputs": [
    {
     "name": "stdout",
     "output_type": "stream",
     "text": [
      "Processing experiments_train/wsdtw_2_clean ... done\n"
     ]
    }
   ],
   "source": [
    "hypdir = 'experiments_train/wsdtw_2_clean'\n",
    "savefile = 'evaluations_train/wsdtw_2_clean.pkl'\n",
    "hop_sec = 512 * 1 / 22050\n",
    "allErrs = eval_dir(hypdir, query_list, hop_sec, savefile)"
   ]
  },
  {
   "cell_type": "code",
   "execution_count": 11,
   "metadata": {},
   "outputs": [
    {
     "name": "stdout",
     "output_type": "stream",
     "text": [
      "Processing experiments_train/ssdtw_8_clean ... done\n"
     ]
    }
   ],
   "source": [
    "hypdir = 'experiments_train/ssdtw_8_clean'\n",
    "savefile = 'evaluations_train/ssdtw_8_clean.pkl'\n",
    "hop_sec = 512 * 1 / 22050\n",
    "allErrs = eval_dir(hypdir, query_list, hop_sec, savefile)"
   ]
  },
  {
   "cell_type": "markdown",
   "metadata": {},
   "source": [
    "Evaluate all hypothesis directories."
   ]
  },
  {
   "cell_type": "code",
   "execution_count": 10,
   "metadata": {},
   "outputs": [],
   "source": [
    "def eval_all_dirs(rootdir, querylist, hop_sec, outdir):\n",
    "    if not os.path.exists(outdir):\n",
    "        os.mkdir(outdir)\n",
    "    for hypdir in glob.glob(f'{rootdir}/*'):\n",
    "        savefile = outdir + '/' + os.path.basename(hypdir) + '.pkl'\n",
    "        allErrs = eval_dir(hypdir, querylist, hop_sec, savefile = savefile)"
   ]
  },
  {
   "cell_type": "code",
   "execution_count": 11,
   "metadata": {},
   "outputs": [
    {
     "name": "stdout",
     "output_type": "stream",
     "text": [
      "Processing experiments_test/clean/dtw ............... done\n",
      "Processing experiments_test/clean/nsdtw_2 ............... done\n",
      "Processing experiments_test/clean/nsdtw_4 ............... done\n",
      "Processing experiments_test/clean/nsdtw_8 ............... done\n",
      "Processing experiments_test/clean/nsdtw_16 ............... done\n",
      "Processing experiments_test/clean/nsdtw_32 ............... done\n",
      "Processing experiments_test/clean/wsdtw_2 ............... done\n",
      "Processing experiments_test/clean/wsdtw_4 ............... done\n",
      "Processing experiments_test/clean/wsdtw_8 ............... done\n",
      "Processing experiments_test/clean/wsdtw_16 ............... done\n",
      "Processing experiments_test/clean/wsdtw_32 ............... done\n",
      "Processing experiments_test/clean/ssdtw_2 ............... done\n",
      "Processing experiments_test/clean/ssdtw_4 ............... done\n",
      "Processing experiments_test/clean/ssdtw_8 ............... done\n",
      "Processing experiments_test/clean/ssdtw_16 ............... done\n",
      "Processing experiments_test/clean/ssdtw_32 ............... done\n"
     ]
    }
   ],
   "source": [
    "EXPERIMENTS_ROOT = 'experiments_test/clean'\n",
    "hop_sec = 512 * 1 / 22050\n",
    "outdir = 'evaluations_test/clean'\n",
    "eval_all_dirs(EXPERIMENTS_ROOT, query_list, hop_sec, outdir)"
   ]
  },
  {
   "cell_type": "markdown",
   "metadata": {},
   "source": [
    "### Plot error vs tolerance"
   ]
  },
  {
   "cell_type": "code",
   "execution_count": 9,
   "metadata": {},
   "outputs": [],
   "source": [
    "def calc_error_rates(errFile, maxTol):\n",
    "    \n",
    "    # read from file\n",
    "    with open(errFile, 'rb') as f:\n",
    "        allErrs = pickle.load(f)\n",
    "    \n",
    "    # collect all errors\n",
    "    errsFlat = []\n",
    "    for query in allErrs:\n",
    "        errs = np.array(allErrs[query])\n",
    "        errsFlat.append(errs)\n",
    "    errsFlat = np.concatenate(errsFlat)\n",
    "    \n",
    "    # calculate error rates\n",
    "    errRates = np.zeros(maxTol+1)\n",
    "    for i in range(maxTol+1):\n",
    "        errRates[i] = np.mean(np.abs(errsFlat) > i/1000)\n",
    "    \n",
    "    return errRates, errsFlat"
   ]
  },
  {
   "cell_type": "code",
   "execution_count": 10,
   "metadata": {},
   "outputs": [],
   "source": [
    "def calc_error_rates_batch(indir, basenames, maxTol):\n",
    "    errRates = np.zeros((len(basenames), maxTol+1))\n",
    "    allErrVals = []\n",
    "    print('Computing error rates ', end='')\n",
    "    for i, basename in enumerate(basenames):\n",
    "        errFile = indir + '/' + basename + '.pkl'\n",
    "        errRates[i,:], errors = calc_error_rates(errFile, maxTol)\n",
    "        allErrVals.append(errors)\n",
    "        print('.', end='')\n",
    "    print(' done')\n",
    "    return errRates, allErrVals"
   ]
  },
  {
   "cell_type": "code",
   "execution_count": 11,
   "metadata": {},
   "outputs": [],
   "source": [
    "def plot_multiple_roc(errRates, basenames):\n",
    "    numSystems = errRates.shape[0]\n",
    "    maxTol = errRates.shape[1] - 1\n",
    "    for i in range(numSystems):\n",
    "        plt.plot(np.arange(maxTol+1), errRates[i,:] * 100.0)\n",
    "    plt.legend(basenames, bbox_to_anchor=(1.05, 1), loc=2, borderaxespad=0.)\n",
    "    plt.xlabel('Error Tolerance (ms)')\n",
    "    plt.ylabel('Error Rate (%)')\n",
    "    plt.show()\n",
    "    return"
   ]
  },
  {
   "cell_type": "code",
   "execution_count": 12,
   "metadata": {},
   "outputs": [
    {
     "name": "stdout",
     "output_type": "stream",
     "text": [
      "Computing error rates ................ done\n"
     ]
    }
   ],
   "source": [
    "EVAL_ROOT_DIR = 'evaluations_test/clean'\n",
    "\n",
    "toPlot = ['dtw',\n",
    "          'nsdtw_2', 'nsdtw_4', 'nsdtw_8', 'nsdtw_16', 'nsdtw_32', \\\n",
    "          'wsdtw_2', 'wsdtw_4', 'wsdtw_8', 'wsdtw_16', 'wsdtw_32', \\\n",
    "          'ssdtw_2', 'ssdtw_4', 'ssdtw_8', 'ssdtw_16', 'ssdtw_32']\n",
    "\n",
    "\n",
    "# toPlot = ['ssdtw_2_clean', 'ssdtw_4_clean', 'ssdtw_8_clean', 'ssdtw_16_clean', 'ssdtw_32_clean', \\\n",
    "#           'ssdtw_cython_2_clean', 'ssdtw_cython_4_clean', 'ssdtw_cython_8_clean', 'ssdtw_cython_16_clean', 'ssdtw_cython_32_clean']\n",
    "\n",
    "#toPlot = ['ssdtw_2_clean', 'ssdtw_test4_2_clean', 'ssdtw_cython_2_clean']\n",
    "maxTol = 1000 # in msec\n",
    "errRates, errVals = calc_error_rates_batch(EVAL_ROOT_DIR, toPlot, maxTol)"
   ]
  },
  {
   "cell_type": "code",
   "execution_count": 16,
   "metadata": {},
   "outputs": [
    {
     "data": {
      "image/png": "[encoded data removed]",
      "text/plain": [
       "<Figure size 432x288 with 1 Axes>"
      ]
     },
     "metadata": {
      "needs_background": "light"
     },
     "output_type": "display_data"
    }
   ],
   "source": [
    "plot_multiple_roc(errRates, toPlot)"
   ]
  },
  {
   "cell_type": "markdown",
   "metadata": {},
   "source": [
    "### Histogram of selected error rates"
   ]
  },
  {
   "cell_type": "code",
   "execution_count": 17,
   "metadata": {},
   "outputs": [],
   "source": [
    "def plot_grouped_histogram1(errRates, basenames, tols):  \n",
    "    # Histogram grouped by tolerance\n",
    "    \n",
    "    # first construct DataFrame\n",
    "    data = []\n",
    "    for i, system in enumerate(basenames):\n",
    "        for tol in tols:\n",
    "            data.append((system, tol, errRates[i,tol] * 100.0))\n",
    "    df = pd.DataFrame(data, columns = ['System', 'Tolerance', 'Error'])\n",
    "    \n",
    "    # grouped barplot\n",
    "    sns.barplot(x=\"Tolerance\", y=\"Error\", hue=\"System\", data=df)\n",
    "    plt.xlabel(\"Tolerance (ms)\", size=14)\n",
    "    plt.ylabel(\"Error Rate\", size=14)\n",
    "    plt.legend(bbox_to_anchor=(1.05, 1), loc=2, borderaxespad=0.)\n",
    "    plt.show()\n",
    "    \n",
    "    return"
   ]
  },
  {
   "cell_type": "code",
   "execution_count": 18,
   "metadata": {},
   "outputs": [
    {
     "data": {
      "image/png": "[encoded data removed]",
      "text/plain": [
       "<Figure size 432x288 with 1 Axes>"
      ]
     },
     "metadata": {
      "needs_background": "light"
     },
     "output_type": "display_data"
    }
   ],
   "source": [
    "tols = [10, 20, 50, 100, 200, 500] # in msec\n",
    "plot_grouped_histogram1(errRates, toPlot, tols)"
   ]
  },
  {
   "cell_type": "markdown",
   "metadata": {},
   "source": [
    "### Final results plot for paper"
   ]
  },
  {
   "cell_type": "markdown",
   "metadata": {},
   "source": [
    "This one is touched up to look nicer."
   ]
  },
  {
   "cell_type": "code",
   "execution_count": 14,
   "metadata": {},
   "outputs": [],
   "source": [
    "def plot_grouped_histogram1(errRates_bars, SSDTW_errRates, NSDTW_errRates, basenames, tols, savefile = None):  \n",
    "    # Histogram grouped by tolerance\n",
    "    \n",
    "    # first construct DataFrame\n",
    "    data = []\n",
    "    for i, system in enumerate(basenames):\n",
    "        for tol in tols:\n",
    "            data.append((system, tol, errRates_bars[i,tol] * 100.0))\n",
    "    df = pd.DataFrame(data, columns = ['System', 'Tolerance', 'Error'])\n",
    "    \n",
    "    # grouped barplot (DTW & WSDTW)\n",
    "    sns.barplot(x=\"Tolerance\", y=\"Error\", hue=\"System\", data=df)\n",
    "    plt.xlabel(\"Tolerance (ms)\", size=14)\n",
    "    plt.ylabel(\"Error Rate (%)\", size=14)\n",
    "    #plt.legend(bbox_to_anchor=(1.05, 1), loc=2, borderaxespad=0.)\n",
    "    plt.legend(loc='upper right')\n",
    "    \n",
    "    plt.title(\"Alignment Error Rates for DTW, WSDTW, NSDTW, and SSDTW\")\n",
    "    \n",
    "    # overlay dots for SSDTW results\n",
    "    width_bar = .135\n",
    "    x_coords = []\n",
    "    y_coords = []\n",
    "    for i, tol in enumerate(tols):\n",
    "        for j in range(SSDTW_errRates.shape[0]):\n",
    "            x_coords.append(i+(-1.5+j)*width_bar)\n",
    "            y_coords.append(SSDTW_errRates[j,tol] * 100.0)\n",
    "    plt.plot(x_coords, y_coords, 'ko', markersize=3)\n",
    "    \n",
    "    # overlay dots for NSDTW results\n",
    "    width_bar = .135\n",
    "    x_coords = []\n",
    "    y_coords = []\n",
    "    for i, tol in enumerate(tols):\n",
    "        for j in range(NSDTW_errRates.shape[0]):\n",
    "            x_coords.append(i+(-1.5+j)*width_bar)\n",
    "            y_coords.append(NSDTW_errRates[j,tol] * 100.0)\n",
    "    plt.plot(x_coords, y_coords, 'rx', markersize=3)\n",
    "    \n",
    "    if savefile:\n",
    "        plt.savefig(savefile, bbox_inches = 'tight')\n",
    "    \n",
    "    return"
   ]
  },
  {
   "cell_type": "code",
   "execution_count": 15,
   "metadata": {},
   "outputs": [
    {
     "data": {
      "image/png": "[encoded data removed]",
      "text/plain": [
       "<Figure size 432x288 with 1 Axes>"
      ]
     },
     "metadata": {
      "needs_background": "light"
     },
     "output_type": "display_data"
    }
   ],
   "source": [
    "tols = [10, 20, 50, 100, 200, 500] # in msec\n",
    "display_names = ['DTW', 'WSDTW-2', 'WSDTW-4', 'WSDTW-8', 'WSDTW-16','WSDTW-32']\n",
    "savefile = 'results_test.png'\n",
    "barRates = np.zeros((6, errRates.shape[1]))\n",
    "barRates[0,:] = errRates[0,:]\n",
    "barRates[1:, :] = errRates[6:11,:]\n",
    "NSDTW_errRates = errRates[1:6,:]\n",
    "SSDTW_errRates = errRates[11:,:]\n",
    "plot_grouped_histogram1(barRates, SSDTW_errRates, NSDTW_errRates, display_names, tols, savefile)"
   ]
  },
  {
   "cell_type": "markdown",
   "metadata": {},
   "source": [
    "## Noisy Data Plot"
   ]
  },
  {
   "cell_type": "code",
   "execution_count": 16,
   "metadata": {},
   "outputs": [],
   "source": [
    "SNR_Vals = [20, 15, 10, 5, 0, -5, -10]"
   ]
  },
  {
   "cell_type": "code",
   "execution_count": 19,
   "metadata": {},
   "outputs": [
    {
     "name": "stdout",
     "output_type": "stream",
     "text": [
      "Processing experiments_test/noisy_20dB/DTW ............... done\n",
      "Processing experiments_test/noisy_20dB/WSDTW_2 ............... done\n",
      "Processing experiments_test/noisy_20dB/WSDTW_4 ............... done\n",
      "Processing experiments_test/noisy_20dB/WSDTW_8 ............... done\n",
      "Processing experiments_test/noisy_20dB/WSDTW_16 ............... done\n",
      "Processing experiments_test/noisy_20dB/WSDTW_32 ............... done\n",
      "Processing experiments_test/noisy_15dB/DTW ............... done\n",
      "Processing experiments_test/noisy_15dB/WSDTW_2 ............... done\n",
      "Processing experiments_test/noisy_15dB/WSDTW_4 ............... done\n",
      "Processing experiments_test/noisy_15dB/WSDTW_8 ............... done\n",
      "Processing experiments_test/noisy_15dB/WSDTW_16 ............... done\n",
      "Processing experiments_test/noisy_15dB/WSDTW_32 ............... done\n",
      "Processing experiments_test/noisy_10dB/DTW ............... done\n",
      "Processing experiments_test/noisy_10dB/WSDTW_2 ............... done\n",
      "Processing experiments_test/noisy_10dB/WSDTW_4 ............... done\n",
      "Processing experiments_test/noisy_10dB/WSDTW_8 ............... done\n",
      "Processing experiments_test/noisy_10dB/WSDTW_16 ............... done\n",
      "Processing experiments_test/noisy_10dB/WSDTW_32 ............... done\n",
      "Processing experiments_test/noisy_5dB/DTW ............... done\n",
      "Processing experiments_test/noisy_5dB/WSDTW_2 ............... done\n",
      "Processing experiments_test/noisy_5dB/WSDTW_4 ............... done\n",
      "Processing experiments_test/noisy_5dB/WSDTW_8 ............... done\n",
      "Processing experiments_test/noisy_5dB/WSDTW_16 ............... done\n",
      "Processing experiments_test/noisy_5dB/WSDTW_32 ............... done\n",
      "Processing experiments_test/noisy_0dB/DTW ............... done\n",
      "Processing experiments_test/noisy_0dB/WSDTW_2 ............... done\n",
      "Processing experiments_test/noisy_0dB/WSDTW_4 ............... done\n",
      "Processing experiments_test/noisy_0dB/WSDTW_8 ............... done\n",
      "Processing experiments_test/noisy_0dB/WSDTW_16 ............... done\n",
      "Processing experiments_test/noisy_0dB/WSDTW_32 ............... done\n",
      "Processing experiments_test/noisy_-5dB/DTW ............... done\n",
      "Processing experiments_test/noisy_-5dB/WSDTW_2 ............... done\n",
      "Processing experiments_test/noisy_-5dB/WSDTW_4 ............... done\n",
      "Processing experiments_test/noisy_-5dB/WSDTW_8 ............... done\n",
      "Processing experiments_test/noisy_-5dB/WSDTW_16 ............... done\n",
      "Processing experiments_test/noisy_-5dB/WSDTW_32 ............... done\n",
      "Processing experiments_test/noisy_-10dB/DTW ............... done\n",
      "Processing experiments_test/noisy_-10dB/WSDTW_2 ............... done\n",
      "Processing experiments_test/noisy_-10dB/WSDTW_4 ............... done\n",
      "Processing experiments_test/noisy_-10dB/WSDTW_8 ............... done\n",
      "Processing experiments_test/noisy_-10dB/WSDTW_16 ............... done\n",
      "Processing experiments_test/noisy_-10dB/WSDTW_32 ............... done\n"
     ]
    }
   ],
   "source": [
    "for SNR in SNR_Vals:\n",
    "    EXPERIMENTS_ROOT = 'experiments_test/noisy_%sdB' % str(SNR)\n",
    "    hop_sec = 512 * 1 / 22050\n",
    "    outdir = 'evaluations_test/noisy_%sdB' % str(SNR)\n",
    "    if not os.path.exists(outdir):\n",
    "        os.mkdir(outdir)\n",
    "    eval_all_dirs(EXPERIMENTS_ROOT, query_list, hop_sec, outdir)"
   ]
  },
  {
   "cell_type": "code",
   "execution_count": 17,
   "metadata": {},
   "outputs": [
    {
     "name": "stdout",
     "output_type": "stream",
     "text": [
      "Computing error rates ...... done\n",
      "Computing error rates ...... done\n",
      "Computing error rates ...... done\n",
      "Computing error rates ...... done\n",
      "Computing error rates ...... done\n",
      "Computing error rates ...... done\n",
      "Computing error rates ...... done\n"
     ]
    }
   ],
   "source": [
    "errRates100 = np.zeros((7, 6)) # Each row is a different SNR, each col is a different system\n",
    "errRates20 = np.zeros((7, 6))\n",
    "errRates500 = np.zeros((7, 6))\n",
    "toPlot = [\"DTW\", \"WSDTW_2\", \"WSDTW_4\", \"WSDTW_8\", \"WSDTW_16\", \"WSDTW_32\"]\n",
    "\n",
    "for i, SNR in enumerate(SNR_Vals):\n",
    "    EVAL_ROOT_DIR = 'evaluations_train/noisy_%sdB' % str(SNR)\n",
    "    \n",
    "    maxTol = 1000 # in msec\n",
    "    theseErrRates, _ = calc_error_rates_batch(EVAL_ROOT_DIR, toPlot, maxTol)\n",
    "    for j in range(len(toPlot)):\n",
    "        errRates100[i, j] = theseErrRates[j, 100]\n",
    "        errRates20[i, j] = theseErrRates[j, 20]\n",
    "        errRates500[i, j] = theseErrRates[j, 500]"
   ]
  },
  {
   "cell_type": "code",
   "execution_count": 21,
   "metadata": {},
   "outputs": [
    {
     "data": {
      "image/png": "[encoded data removed]",
      "text/plain": [
       "<Figure size 432x288 with 1 Axes>"
      ]
     },
     "metadata": {
      "needs_background": "light"
     },
     "output_type": "display_data"
    }
   ],
   "source": [
    "x_coords = []\n",
    "y_coords20 = []\n",
    "y_coords500 = []\n",
    "for i in range(len(toPlot)):\n",
    "    width = 0.15\n",
    "    plt.bar(np.arange(7)+i * width, errRates100[:,i] * 100, width);\n",
    "    \n",
    "    plt.title(\"Noisy Alignment Error Rates with 100ms Error Tolerance\");\n",
    "    plt.legend(toPlot, loc = (1.05,0.55));\n",
    "\n",
    "    plt.ylim([0,100]);\n",
    "    plt.ylabel(\"Error Rate (%)\")\n",
    "    \n",
    "    plt.xlabel(\"SNR (dB)\")\n",
    "    plt.xticks(np.arange(7) + 2.5 * width, SNR_Vals);\n",
    "    \n",
    "    x_coords.append(np.arange(7) + i * width)\n",
    "    y_coords20.append(errRates20[:,i] * 100)\n",
    "    y_coords500.append(errRates500[:,i] * 100)\n",
    "\n",
    "plt.plot(x_coords, y_coords20, 'k_', markersize=4);\n",
    "plt.plot(x_coords, y_coords500, 'k_', markersize=4);"
   ]
  },
  {
   "cell_type": "code",
   "execution_count": 17,
   "metadata": {},
   "outputs": [
    {
     "data": {
      "text/plain": [
       "array([0.25759258, 0.26564958, 0.27911156, 0.30548182, 0.34658185,\n",
       "       0.40928108, 0.49336086])"
      ]
     },
     "execution_count": 17,
     "metadata": {},
     "output_type": "execute_result"
    }
   ],
   "source": [
    "errRates100[:,0]"
   ]
  },
  {
   "cell_type": "markdown",
   "metadata": {},
   "source": [
    "### Runtime Analysis"
   ]
  },
  {
   "cell_type": "code",
   "execution_count": 18,
   "metadata": {},
   "outputs": [],
   "source": [
    "dtw_runtimes, dtw_sizes = pickle.load(open('profiles/cython/dtw_prof.pkl', 'rb'))\n",
    "# dtwV2_runtimes, dtwV2_sizes = pickle.load(open('profiles/cython/dtw_V2_prof.pkl', 'rb'))\n",
    "#subsequence_dtw_runtimes, subsequence_dtw_sizes = pickle.load(open('profiles/subsequence_dtw_prof.pkl', 'rb'))\n",
    "nsdtw_runtimes, nsdtw_segments, nsdtw_sizes = pickle.load(open('profiles/cython/nsdtw_prof.pkl', 'rb'))\n",
    "wsdtw_runtimes, wsdtw_segments, wsdtw_sizes = pickle.load(open('profiles/cython/wsdtw_prof.pkl', 'rb'))\n",
    "ssdtw_runtimes, ssdtw_segments, ssdtw_sizes = pickle.load(open('profiles/cython/ssdtw_prof.pkl', 'rb'))"
   ]
  },
  {
   "cell_type": "markdown",
   "metadata": {},
   "source": [
    "Numbers for runtime table"
   ]
  },
  {
   "cell_type": "code",
   "execution_count": 19,
   "metadata": {},
   "outputs": [],
   "source": [
    "dtw_avgs = np.mean(np.sum(dtw_runtimes[::-1,:,:], axis=2), axis=1)"
   ]
  },
  {
   "cell_type": "code",
   "execution_count": 20,
   "metadata": {},
   "outputs": [],
   "source": [
    "# dtwV2_avgs = np.mean(np.sum(dtwV2_runtimes[::-1,:,:], axis=2), axis=1)"
   ]
  },
  {
   "cell_type": "code",
   "execution_count": 21,
   "metadata": {},
   "outputs": [],
   "source": [
    "#subsequence_dtw_avgs = np.mean(np.sum(subsequence_dtw_runtimes[::-1,:,:], axis=2), axis=1)"
   ]
  },
  {
   "cell_type": "code",
   "execution_count": 22,
   "metadata": {},
   "outputs": [],
   "source": [
    "nsdtw_avgs = np.mean(np.sum(nsdtw_runtimes[:,::-1,:,:], axis=3), axis=2)"
   ]
  },
  {
   "cell_type": "code",
   "execution_count": 23,
   "metadata": {},
   "outputs": [],
   "source": [
    "wsdtw_avgs = np.mean(np.sum(wsdtw_runtimes[:,::-1,:,:], axis=3), axis=2)"
   ]
  },
  {
   "cell_type": "code",
   "execution_count": 24,
   "metadata": {},
   "outputs": [],
   "source": [
    "ssdtw_avgs = np.mean(np.sum(ssdtw_runtimes[:,::-1,:,:], axis=3), axis=2)"
   ]
  },
  {
   "cell_type": "code",
   "execution_count": 25,
   "metadata": {},
   "outputs": [],
   "source": [
    "all_avgs = np.vstack((dtw_avgs.reshape((1,-1)), \\\n",
    "                     nsdtw_avgs, wsdtw_avgs, ssdtw_avgs))"
   ]
  },
  {
   "cell_type": "code",
   "execution_count": 26,
   "metadata": {},
   "outputs": [
    {
     "data": {
      "text/plain": [
       "array([[1.58510208e-02, 8.63675833e-02, 5.73020697e-01, 2.35682046e+00,\n",
       "        9.55034041e+00, 6.05973853e+01],\n",
       "       [1.62409306e-02, 1.10117364e-01, 5.79812980e-01, 2.28643003e+00,\n",
       "        9.38916934e+00, 5.79352327e+01],\n",
       "       [1.55390501e-02, 8.26524973e-02, 5.84822941e-01, 2.30329638e+00,\n",
       "        9.41872907e+00, 6.03684434e+01],\n",
       "       [1.43691301e-02, 8.09404135e-02, 4.91875792e-01, 2.24037914e+00,\n",
       "        9.33337524e+00, 5.76189596e+01],\n",
       "       [1.47613049e-02, 7.35070705e-02, 5.01411819e-01, 2.32152879e+00,\n",
       "        9.56253698e+00, 5.86972303e+01],\n",
       "       [1.63152218e-02, 7.47969389e-02, 4.89341235e-01, 1.95139174e+00,\n",
       "        9.57530415e+00, 5.95461876e+01],\n",
       "       [1.63762808e-02, 8.54364395e-02, 5.72295284e-01, 2.37596192e+00,\n",
       "        9.42137468e+00, 5.69792812e+01],\n",
       "       [1.44864559e-02, 7.69767761e-02, 5.65903759e-01, 2.27941942e+00,\n",
       "        9.49085891e+00, 5.77485248e+01],\n",
       "       [1.50131941e-02, 8.16477060e-02, 4.97606659e-01, 2.38122675e+00,\n",
       "        9.60870357e+00, 5.65351035e+01],\n",
       "       [1.53091192e-02, 7.39207268e-02, 4.68919897e-01, 2.15162666e+00,\n",
       "        9.58426116e+00, 5.89386266e+01],\n",
       "       [1.70279264e-02, 7.59984732e-02, 4.91531301e-01, 1.89574480e+00,\n",
       "        9.62560503e+00, 5.79726869e+01],\n",
       "       [2.25981951e-02, 1.11551929e-01, 8.18658900e-01, 3.58906703e+00,\n",
       "        2.03491226e+01, 1.36339188e+02],\n",
       "       [1.98654175e-02, 1.08677220e-01, 8.20674586e-01, 3.64661474e+00,\n",
       "        1.54368205e+01, 1.47715063e+02],\n",
       "       [2.14837313e-02, 1.14396739e-01, 7.06988335e-01, 3.43878841e+00,\n",
       "        1.46890395e+01, 1.03410293e+02],\n",
       "       [2.16975927e-02, 1.12931156e-01, 7.48890209e-01, 3.32244818e+00,\n",
       "        1.36832314e+01, 9.30462526e+01],\n",
       "       [2.34453678e-02, 1.18368196e-01, 7.12078714e-01, 2.88404994e+00,\n",
       "        1.37624446e+01, 9.15867065e+01]])"
      ]
     },
     "execution_count": 26,
     "metadata": {},
     "output_type": "execute_result"
    }
   ],
   "source": [
    "# first row: DTW\n",
    "# second row: subsequence DTW\n",
    "# next 5 rows: NSDTW with segments = 2, 4, 8, 16, 32\n",
    "# next 5 rows: WSDTW with segments = 2, 4, 8, 16, 32\n",
    "# next 5 rows: SSDTW with segments = 2, 4, 8, 16, 32\n",
    "all_avgs"
   ]
  },
  {
   "cell_type": "code",
   "execution_count": 27,
   "metadata": {},
   "outputs": [
    {
     "data": {
      "text/plain": [
       "(16, 6)"
      ]
     },
     "execution_count": 27,
     "metadata": {},
     "output_type": "execute_result"
    }
   ],
   "source": [
    "all_avgs.shape"
   ]
  },
  {
   "cell_type": "code",
   "execution_count": 58,
   "metadata": {},
   "outputs": [
    {
     "data": {
      "image/png": "[encoded data removed]",
      "text/plain": [
       "<Figure size 432x288 with 1 Axes>"
      ]
     },
     "metadata": {
      "needs_background": "light"
     },
     "output_type": "display_data"
    }
   ],
   "source": [
    "columns = ['1k', '2k', '5k', '10k', '20k', '50k']\n",
    "rows = [\"System\",'DTW']\n",
    "segment_algs = ['NSDTW', 'WSDTW', 'SSDTW']\n",
    "num_segs = [2, 4, 8, 16, 32]\n",
    "for alg_name in segment_algs:\n",
    "    for num_seg in num_segs:\n",
    "        rows.append(alg_name + '-' + str(num_seg))\n",
    "        \n",
    "cell_text = [columns]\n",
    "for i in range(len(rows) - 1):\n",
    "    cell_text.append(['%1.3f' % x for x in all_avgs[i,:]])\n",
    "        \n",
    "# fig, ax = plt.subplots()\n",
    "\n",
    "# fig.patch.set_visible(False)\n",
    "plt.axis('off')\n",
    "# ax.axis('tight')\n",
    "\n",
    "# ax.table(cellText=cell_text, rowLabels=rows, colLabels=columns, loc='center')\n",
    "\n",
    "tab = plt.table(cellText=cell_text, rowLabels=rows, loc='center')\n",
    "\n",
    "#plt.title(\"Algorithm Runtimes for Various Feature Sequence Lengths\")\n",
    "\n",
    "for key, cell in tab.get_celld().items():\n",
    "    if key[0] in [0,1,2,7,12]: #[0,1,2,7,12]:\n",
    "        cell.visible_edges = \"TRL\"\n",
    "    elif key[0] == 16: #16:\n",
    "        cell.visible_edges = \"BRL\"\n",
    "    else:\n",
    "        cell.visible_edges = \"RL\"\n",
    "\n",
    "# plt.subplots_adjust(left=0.3, right = 1)\n",
    "tab.scale(1.5, 1);\n",
    "plt.suptitle(\"System Runtimes for Various Feature Sequence Lengths\");\n",
    "\n",
    "\n",
    "# fig.tight_layout()\n",
    "\n",
    "plt.savefig('runtime_table.png',\n",
    "            bbox_inches='tight',\n",
    "            dpi=150\n",
    "            )\n",
    "\n",
    "plt.show()"
   ]
  },
  {
   "cell_type": "markdown",
   "metadata": {},
   "source": [
    "Breakdown of runtime by component"
   ]
  },
  {
   "cell_type": "code",
   "execution_count": 59,
   "metadata": {},
   "outputs": [],
   "source": [
    "# get DTW percent of total runtime by component\n",
    "dtw_avgs = np.mean(dtw_runtimes, axis=1)\n",
    "dtw_avgs = dtw_avgs / np.sum(dtw_avgs, axis=1, keepdims=True) * 100.0\n",
    "dtw_avgs = dtw_avgs[::-1,:]\n",
    "dtw_avgs = np.hstack((dtw_avgs, np.zeros((6,2)))) # order: cost, frm dp, frm back, seg dp, seg back\n",
    "dtw_df = pd.DataFrame(dtw_avgs, columns=['Cost', 'Frm DP', 'Frm Back','Seg DP', 'Seg Back'], index=dtw_sizes[::-1])"
   ]
  },
  {
   "cell_type": "code",
   "execution_count": 60,
   "metadata": {},
   "outputs": [],
   "source": [
    "# get DTW V2 percent of total runtime by component\n",
    "# dtwV2_avgs = np.mean(dtwV2_runtimes, axis=1)\n",
    "# dtwV2_avgs = dtwV2_avgs / np.sum(dtwV2_avgs, axis=1, keepdims=True) * 100.0\n",
    "# dtwV2_avgs = dtwV2_avgs[::-1,:]\n",
    "# dtwV2_avgs = np.hstack((dtwV2_avgs, np.zeros((6,2)))) # order: cost, frm dp, frm back, seg dp, seg back\n",
    "# dtwV2_df = pd.DataFrame(dtwV2_avgs, columns=['Cost', 'Frm DP', 'Frm Back','Seg DP', 'Seg Back'], index=dtwV2_sizes[::-1])"
   ]
  },
  {
   "cell_type": "code",
   "execution_count": 61,
   "metadata": {},
   "outputs": [],
   "source": [
    "# get Subsequence DTW percent of total runtime by component\n",
    "# subsequence_dtw_avgs = np.mean(subsequence_dtw_runtimes, axis=1)\n",
    "# subsequence_dtw_avgs = subsequence_dtw_avgs / np.sum(subsequence_dtw_avgs, axis=1, keepdims=True) * 100.0\n",
    "# subsequence_dtw_avgs = subsequence_dtw_avgs[::-1,:]\n",
    "# subsequence_dtw_avgs = np.hstack((subsequence_dtw_avgs, np.zeros((6,2)))) # order: cost, frm dp, frm back, seg dp, seg back\n",
    "# subsequence_dtw_df = pd.DataFrame(subsequence_dtw_avgs, columns=['Cost', 'Frm DP', 'Frm Back','Seg DP', 'Seg Back'], index=subsequence_dtw_sizes[::-1])"
   ]
  },
  {
   "cell_type": "code",
   "execution_count": 62,
   "metadata": {},
   "outputs": [],
   "source": [
    "# get NSDTW percent of total runtime by component\n",
    "nsdtw_avgs = np.mean(nsdtw_runtimes, axis=2)\n",
    "nsdtw_avgs = nsdtw_avgs / np.sum(nsdtw_avgs, axis=2, keepdims=True) * 100.0\n",
    "nsdtw_avgs = nsdtw_avgs[4,::-1,:] # focus on K=32 segments\n",
    "nsdtw_avgs = np.hstack((nsdtw_avgs, np.zeros((6,2)))) # order: cost, frm dp, frm back, seg dp, seg back\n",
    "nsdtw_df = pd.DataFrame(nsdtw_avgs, columns=['Cost', 'Frm DP', 'Frm Back','Seg DP', 'Seg Back'], index=nsdtw_sizes[::-1])"
   ]
  },
  {
   "cell_type": "code",
   "execution_count": 63,
   "metadata": {},
   "outputs": [],
   "source": [
    "# get WSDTW percent of total runtime by component\n",
    "wsdtw_avgs = np.mean(wsdtw_runtimes, axis=2)\n",
    "wsdtw_avgs = wsdtw_avgs / np.sum(wsdtw_avgs, axis=2, keepdims=True) * 100.0\n",
    "wsdtw_avgs = wsdtw_avgs[4,::-1,:] # focus on K=32 segments\n",
    "wsdtw_avgs = wsdtw_avgs[:,[0,1,4,2,3]] # original order: cost, frm dp, seg dp, seg back, frm back\n",
    "wsdtw_df = pd.DataFrame(wsdtw_avgs, columns=['Cost', 'Frm DP', 'Frm Back','Seg DP', 'Seg Back'], index=wsdtw_sizes[::-1])"
   ]
  },
  {
   "cell_type": "code",
   "execution_count": 64,
   "metadata": {},
   "outputs": [],
   "source": [
    "# get SSDTW percent of total runtime by component\n",
    "ssdtw_avgs = np.mean(ssdtw_runtimes, axis=2)\n",
    "ssdtw_avgs = ssdtw_avgs / np.sum(ssdtw_avgs, axis=2, keepdims=True) * 100.0\n",
    "ssdtw_avgs = ssdtw_avgs[4,::-1,:] # focus on K=32 segments\n",
    "#print(ssdtw_avgs)\n",
    "ssdtw_avgs[:,2] = ssdtw_avgs[:,2] + ssdtw_avgs[:,5] # combine runtimes from both frame-level backtracking stages\n",
    "ssdtw_avgs = ssdtw_avgs[:,0:5] # order: cost, frm dp, frm back, seg dp, seg back\n",
    "ssdtw_df = pd.DataFrame(ssdtw_avgs, columns=['Cost', 'Frm DP', 'Frm Back','Seg DP', 'Seg Back'], index=ssdtw_sizes[::-1])"
   ]
  },
  {
   "cell_type": "code",
   "execution_count": null,
   "metadata": {},
   "outputs": [],
   "source": [
    "fig, axes = plt.subplots(nrows=1, ncols=4)\n",
    "\n",
    "# DTW plot\n",
    "ax = dtw_df.plot(kind=\"bar\", stacked=True, colormap=\"rainbow\", ax=axes[0])\n",
    "ax.set_title(\"DTW\")\n",
    "ax.set_ylabel(\"% Total Runtime\", size=13),\n",
    "ax.set_ylim(0, 100)\n",
    "ax.set_yticks(range(0, 101, 10))\n",
    "ax.xaxis.set_ticks_position('none') \n",
    "ax.set_xticklabels(labels=['1k','2k','5k','10k','20k','50k'], rotation=90, minor=False)\n",
    "ax.get_legend().remove()\n",
    "\n",
    "# DTW V2 plot\n",
    "# ax = dtwV2_df.plot(kind=\"bar\", stacked=True, colormap=\"rainbow\", ax=axes[1])\n",
    "# ax.set_title(\"DTW V2\")\n",
    "# # ax.set_ylabel(\"% Total Runtime\", size=13),\n",
    "# ax.set_ylim(0, 100)\n",
    "# # ax.set_yticks(range(0, 101, 10))\n",
    "# ax.set_yticks([])\n",
    "# ax.xaxis.set_ticks_position('none') \n",
    "# ax.set_xticklabels(labels=['1k','2k','5k','10k','20k','50k'], rotation=90, minor=False)\n",
    "# ax.get_legend().remove()\n",
    "\n",
    "# # Subsequence DTW plot\n",
    "# ax = subsequence_dtw_df.plot(kind=\"bar\", stacked=True, colormap=\"rainbow\", ax=axes[1])\n",
    "# ax.set_title(\"subseqDTW\")\n",
    "# #ax.set_xlabel(\"\\nCost Matrix Size\", size=13),\n",
    "# ax.set_ylim(0, 100)\n",
    "# ax.set_yticks([])\n",
    "# ax.xaxis.set_ticks_position('none') \n",
    "# ax.set_xticklabels(labels=['1k','2k','5k','10k','20k','50k'], rotation=90, minor=False)\n",
    "# ax.get_legend().remove()\n",
    "\n",
    "# NSDTW plot\n",
    "ax = nsdtw_df.plot(kind=\"bar\", stacked=True, colormap=\"rainbow\", ax=axes[1])\n",
    "ax.set_title(\"NSDTW-32\")\n",
    "ax.set_xlabel(\"\\nCost Matrix Size\", size=13),\n",
    "ax.set_ylim(0, 100)\n",
    "ax.set_yticks([])\n",
    "ax.xaxis.set_ticks_position('none') \n",
    "ax.set_xticklabels(labels=['1k','2k','5k','10k','20k','50k'], rotation=90, minor=False)\n",
    "ax.get_legend().remove()\n",
    "\n",
    "# WSDTW plot\n",
    "ax = wsdtw_df.plot(kind=\"bar\", stacked=True, colormap=\"rainbow\", ax=axes[2])\n",
    "ax.set_title(\"WSDTW-32\")\n",
    "#ax.set_xlabel(\"\\nCost Matrix Size\", size=13),\n",
    "ax.set_ylim(0, 100)\n",
    "ax.set_yticks([])\n",
    "ax.xaxis.set_ticks_position('none') \n",
    "ax.set_xticklabels(labels=['1k','2k','5k','10k','20k','50k'], rotation=90, minor=False)\n",
    "ax.get_legend().remove()\n",
    "\n",
    "# SSDTW plot\n",
    "ax = ssdtw_df.plot(kind=\"bar\", stacked=True, colormap=\"rainbow\", ax=axes[3])\n",
    "ax.set_title(\"SSDTW-32\")\n",
    "ax.set_ylim(0, 100)\n",
    "ax.set_yticks([])\n",
    "ax.xaxis.set_ticks_position('none') \n",
    "ax.set_xticklabels(labels=['1k','2k','5k','10k','20k','50k'], rotation=90, minor=False)\n",
    "\n",
    "ax.legend(bbox_to_anchor=(1, 1))\n",
    "\n",
    "\n",
    "plt.savefig('runtime_plot.png',\n",
    "            bbox_inches='tight',\n",
    "            dpi=150\n",
    "            )\n",
    "\n",
    "\n",
    "plt.show()\n",
    "#plt.savefig('runtime.png', bbox_inches = 'tight')"
   ]
  },
  {
   "cell_type": "code",
   "execution_count": 57,
   "metadata": {},
   "outputs": [
    {
     "data": {
      "text/plain": [
       "array([[2.23996639e-03, 1.69911861e-02, 1.98616982e-03],\n",
       "       [1.83771610e-02, 1.00721550e-01, 1.43631458e-02],\n",
       "       [1.19029188e-01, 6.66418099e-01, 1.87863803e-01],\n",
       "       [5.65890336e-01, 2.80093699e+00, 8.96113968e-01],\n",
       "       [2.11025503e+00, 1.09319674e+01, 3.20239749e+00],\n",
       "       [1.29631870e+01, 6.92253681e+01, 1.93019699e+01]])"
      ]
     },
     "execution_count": 57,
     "metadata": {},
     "output_type": "execute_result"
    }
   ],
   "source": [
    "np.mean(dtw_runtimes[::-1,:,:], axis=1)"
   ]
  },
  {
   "cell_type": "markdown",
   "metadata": {},
   "source": [
    "### Data Stats for paper"
   ]
  },
  {
   "cell_type": "markdown",
   "metadata": {},
   "source": [
    "Collecting some stats on the audio data"
   ]
  },
  {
   "cell_type": "code",
   "execution_count": null,
   "metadata": {},
   "outputs": [],
   "source": [
    "root_dir = 'Chopin_Mazurkas/wav_22050_mono'"
   ]
  },
  {
   "cell_type": "code",
   "execution_count": null,
   "metadata": {},
   "outputs": [],
   "source": [
    "def printAudioStats(indir):\n",
    "    durs = []\n",
    "    for infile in glob.glob(f'{indir}/*.wav'):\n",
    "        y, sr = lb.load(infile)\n",
    "        durs.append(len(y)/sr)\n",
    "    durs = np.array(durs)\n",
    "    \n",
    "    print(os.path.basename(indir))\n",
    "    print('---------')\n",
    "    print(f'Min: {np.min(durs)} s')\n",
    "    print(f'Max: {np.max(durs)} s')\n",
    "    print(f'Mean: {np.mean(durs)} s')\n",
    "    print(f'Std: {np.std(durs)} s')"
   ]
  },
  {
   "cell_type": "code",
   "execution_count": null,
   "metadata": {},
   "outputs": [],
   "source": [
    "for indir in glob.glob(f'{root_dir}/*'):\n",
    "    printAudioStats(indir)"
   ]
  }
 ],
 "metadata": {
  "kernelspec": {
   "display_name": "newSegDTW",
   "language": "python",
   "name": "newsegdtw"
  },
  "language_info": {
   "codemirror_mode": {
    "name": "ipython",
    "version": 3
   },
   "file_extension": ".py",
   "mimetype": "text/x-python",
   "name": "python",
   "nbconvert_exporter": "python",
   "pygments_lexer": "ipython3",
   "version": "3.7.7"
  }
 },
 "nbformat": 4,
 "nbformat_minor": 4
}
