{
 "cells": [
  {
   "cell_type": "markdown",
   "metadata": {},
   "source": [
    "# Evaluate"
   ]
  },
  {
   "cell_type": "markdown",
   "metadata": {},
   "source": [
    "In this notebook we evaluate the accuracy of the predicted alignments."
   ]
  },
  {
   "cell_type": "code",
   "execution_count": 1,
   "metadata": {},
   "outputs": [],
   "source": [
    "%matplotlib inline"
   ]
  },
  {
   "cell_type": "code",
   "execution_count": 2,
   "metadata": {},
   "outputs": [],
   "source": [
    "import numpy as np\n",
    "import matplotlib.pyplot as plt\n",
    "import seaborn as sns\n",
    "from pathlib import Path\n",
    "import glob\n",
    "import os.path\n",
    "import pandas as pd\n",
    "import pickle"
   ]
  },
  {
   "cell_type": "code",
   "execution_count": 3,
   "metadata": {},
   "outputs": [],
   "source": [
    "ANNOTATIONS_ROOT = Path('Chopin_Mazurkas/annotations_beat')\n",
    "query_list = Path('cfg_files/query.train.list')"
   ]
  },
  {
   "cell_type": "markdown",
   "metadata": {},
   "source": [
    "### Evaluate hypothesis directory"
   ]
  },
  {
   "cell_type": "markdown",
   "metadata": {},
   "source": [
    "First evaluate a single hypothesis directory."
   ]
  },
  {
   "cell_type": "code",
   "execution_count": 4,
   "metadata": {},
   "outputs": [],
   "source": [
    "def eval_dir(hypdir, querylist, hop_sec, savefile = None):\n",
    "    \n",
    "    allErrs = {}\n",
    "    cnt = 0\n",
    "    print(f'Processing {hypdir} ', end='')\n",
    "    with open(querylist, 'r') as f:\n",
    "        for line in f:\n",
    "            parts = line.strip().split()\n",
    "            assert len(parts) == 2\n",
    "            basename = os.path.basename(parts[0]) + '__' + os.path.basename(parts[1])\n",
    "            hypfile = hypdir + '/' + basename + '.pkl'\n",
    "            if not os.path.exists(hypfile):\n",
    "                print(\"X\", end='')\n",
    "                continue\n",
    "            allErrs[basename] = eval_file(hypfile, hop_sec)\n",
    "            cnt += 1\n",
    "            if cnt % 500 == 0:\n",
    "                print(\".\", end='')\n",
    "    print(' done')\n",
    "    if savefile:\n",
    "        pickle.dump(allErrs, open(savefile, 'wb'))\n",
    "        \n",
    "    return allErrs"
   ]
  },
  {
   "cell_type": "code",
   "execution_count": 5,
   "metadata": {},
   "outputs": [],
   "source": [
    "def eval_file(hypfile, hop_sec):\n",
    "    parts = os.path.basename(hypfile).split('__')\n",
    "    assert len(parts) == 2\n",
    "    piece = extractPieceName(parts[0])\n",
    "    annotfile1 = (ANNOTATIONS_ROOT / piece / parts[0]).with_suffix('.beat')\n",
    "    annotfile2 = (ANNOTATIONS_ROOT / piece / parts[1]).with_suffix('.beat')\n",
    "    gt1 = getTimestamps(annotfile1)\n",
    "    gt2 = getTimestamps(annotfile2)\n",
    "    hypalign = loadAlignment(hypfile) # warping path in frames\n",
    "    if hypalign is None:\n",
    "        err = [] # no valid path\n",
    "    else:\n",
    "        pred2 = np.interp(gt1, hypalign[0,:]*hop_sec, hypalign[1,:]*hop_sec)\n",
    "        err = pred2 - gt2\n",
    "    return err"
   ]
  },
  {
   "cell_type": "code",
   "execution_count": 6,
   "metadata": {},
   "outputs": [],
   "source": [
    "def extractPieceName(fullpath):\n",
    "    basename = os.path.basename(fullpath) # e.g. Chopin_Op068No3_Sztompka-1959_pid9170b-21\n",
    "    parts = basename.split('_')\n",
    "    piece = '_'.join(parts[0:2]) # e.g. Chopin_Op068No3\n",
    "    return piece"
   ]
  },
  {
   "cell_type": "code",
   "execution_count": 7,
   "metadata": {},
   "outputs": [],
   "source": [
    "def getTimestamps(annotfile):\n",
    "    df = pd.read_csv(annotfile, header=None, sep='\\s+', skiprows=3)\n",
    "    return np.array(df[0])"
   ]
  },
  {
   "cell_type": "code",
   "execution_count": 8,
   "metadata": {},
   "outputs": [],
   "source": [
    "def loadAlignment(hypfile):\n",
    "    with open(hypfile, 'rb') as f:\n",
    "        d = pickle.load(f)\n",
    "    return d"
   ]
  },
  {
   "cell_type": "markdown",
   "metadata": {},
   "source": [
    "Evaluate a single hypothesis directory."
   ]
  },
  {
   "cell_type": "code",
   "execution_count": 11,
   "metadata": {},
   "outputs": [
    {
     "name": "stdout",
     "output_type": "stream",
     "text": [
      "Processing experiments_train/wsdtw_2_clean X... done\n"
     ]
    }
   ],
   "source": [
    "hypdir = 'experiments_train/wsdtw_2_clean'\n",
    "savefile = 'evaluations_train/wsdtw_2_clean.pkl'\n",
    "hop_sec = 512 * 1 / 22050\n",
    "allErrs = eval_dir(hypdir, query_list, hop_sec, savefile)"
   ]
  },
  {
   "cell_type": "markdown",
   "metadata": {},
   "source": [
    "Evaluate all hypothesis directories."
   ]
  },
  {
   "cell_type": "code",
   "execution_count": 25,
   "metadata": {},
   "outputs": [],
   "source": [
    "def eval_all_dirs(rootdir, querylist, hop_sec, outdir):\n",
    "    if not os.path.exists(outdir):\n",
    "        os.mkdir(outdir)\n",
    "    for hypdir in glob.glob(f'{rootdir}/dtw_*'):\n",
    "        savefile = outdir + '/' + os.path.basename(hypdir) + '.pkl'\n",
    "        allErrs = eval_dir(hypdir, querylist, hop_sec, savefile = savefile)"
   ]
  },
  {
   "cell_type": "code",
   "execution_count": 26,
   "metadata": {},
   "outputs": [
    {
     "name": "stdout",
     "output_type": "stream",
     "text": [
      "Processing experiments_train/dtw_clean ... done\n"
     ]
    }
   ],
   "source": [
    "EXPERIMENTS_ROOT = 'experiments_train'\n",
    "hop_sec = 512 * 1 / 22050\n",
    "outdir = 'evaluations_train'\n",
    "eval_all_dirs(EXPERIMENTS_ROOT, query_list, hop_sec, outdir)"
   ]
  },
  {
   "cell_type": "markdown",
   "metadata": {},
   "source": [
    "### Plot error vs tolerance"
   ]
  },
  {
   "cell_type": "code",
   "execution_count": 14,
   "metadata": {},
   "outputs": [],
   "source": [
    "def calc_error_rates(errFile, maxTol):\n",
    "    \n",
    "    # read from file\n",
    "    with open(errFile, 'rb') as f:\n",
    "        allErrs = pickle.load(f)\n",
    "    \n",
    "    # collect all errors\n",
    "    errsFlat = []\n",
    "    for query in allErrs:\n",
    "        errs = np.array(allErrs[query])\n",
    "        errsFlat.append(errs)\n",
    "    errsFlat = np.concatenate(errsFlat)\n",
    "    \n",
    "    # calculate error rates\n",
    "    errRates = np.zeros(maxTol+1)\n",
    "    for i in range(maxTol+1):\n",
    "        errRates[i] = np.mean(np.abs(errsFlat) > i/1000)\n",
    "    \n",
    "    return errRates, errsFlat"
   ]
  },
  {
   "cell_type": "code",
   "execution_count": 15,
   "metadata": {},
   "outputs": [],
   "source": [
    "def calc_error_rates_batch(indir, basenames, maxTol):\n",
    "    errRates = np.zeros((len(basenames), maxTol+1))\n",
    "    allErrVals = []\n",
    "    print('Computing error rates ', end='')\n",
    "    for i, basename in enumerate(basenames):\n",
    "        errFile = indir + '/' + basename + '.pkl'\n",
    "        errRates[i,:], errors = calc_error_rates(errFile, maxTol)\n",
    "        allErrVals.append(errors)\n",
    "        print('.', end='')\n",
    "    print(' done')\n",
    "    return errRates, allErrVals"
   ]
  },
  {
   "cell_type": "code",
   "execution_count": 16,
   "metadata": {},
   "outputs": [],
   "source": [
    "def plot_multiple_roc(errRates, basenames):\n",
    "    numSystems = errRates.shape[0]\n",
    "    maxTol = errRates.shape[1] - 1\n",
    "    for i in range(numSystems):\n",
    "        plt.plot(np.arange(maxTol+1), errRates[i,:] * 100.0)\n",
    "    plt.legend(basenames, bbox_to_anchor=(1.05, 1), loc=2, borderaxespad=0.)\n",
    "    plt.xlabel('Error Tolerance (ms)')\n",
    "    plt.ylabel('Error Rate (%)')\n",
    "    plt.show()\n",
    "    return"
   ]
  },
  {
   "cell_type": "code",
   "execution_count": 27,
   "metadata": {},
   "outputs": [
    {
     "name": "stdout",
     "output_type": "stream",
     "text": [
      "Computing error rates ............... done\n"
     ]
    }
   ],
   "source": [
    "EVAL_ROOT_DIR = 'evaluations_train'\n",
    "#toPlot = ['dtw_clean', 'segmental_2_clean', 'segmental_4_clean', 'segmental_8_clean', 'segmental_16_clean', 'segmental_32_clean', 'pardtw_2_clean', 'pardtw_4_clean', 'pardtw_8_clean', 'pardtw_16_clean', 'pardtw_32_clean']\n",
    "toPlot = ['dtw_clean', 'subsequence_dtw_clean', \\\n",
    "          'nsdtw_2_clean', 'nsdtw_4_clean', 'nsdtw_8_clean', 'nsdtw_16_clean', 'nsdtw_32_clean', \\\n",
    "          'wsdtw_2_clean', 'wsdtw_4_clean', 'wsdtw_8_clean', 'wsdtw_16_clean', 'wsdtw_32_clean', \\\n",
    "          'nsdtw_2_clean', 'nsdtw_4_clean', 'nsdtw_8_clean']\n",
    "maxTol = 1000 # in msec\n",
    "errRates, errVals = calc_error_rates_batch(EVAL_ROOT_DIR, toPlot, maxTol)"
   ]
  },
  {
   "cell_type": "code",
   "execution_count": 28,
   "metadata": {},
   "outputs": [
    {
     "data": {
      "image/png": "[encoded data removed]",
      "text/plain": [
       "<Figure size 432x288 with 1 Axes>"
      ]
     },
     "metadata": {
      "needs_background": "light"
     },
     "output_type": "display_data"
    }
   ],
   "source": [
    "plot_multiple_roc(errRates, toPlot)"
   ]
  },
  {
   "cell_type": "markdown",
   "metadata": {},
   "source": [
    "### Histogram of selected error rates"
   ]
  },
  {
   "cell_type": "code",
   "execution_count": 29,
   "metadata": {},
   "outputs": [],
   "source": [
    "def plot_grouped_histogram1(errRates, basenames, tols):  \n",
    "    # Histogram grouped by tolerance\n",
    "    \n",
    "    # first construct DataFrame\n",
    "    data = []\n",
    "    for i, system in enumerate(basenames):\n",
    "        for tol in tols:\n",
    "            data.append((system, tol, errRates[i,tol] * 100.0))\n",
    "    df = pd.DataFrame(data, columns = ['System', 'Tolerance', 'Error'])\n",
    "    \n",
    "    # grouped barplot\n",
    "    sns.barplot(x=\"Tolerance\", y=\"Error\", hue=\"System\", data=df)\n",
    "    plt.xlabel(\"Tolerance (ms)\", size=14)\n",
    "    plt.ylabel(\"Error Rate\", size=14)\n",
    "    plt.legend(bbox_to_anchor=(1.05, 1), loc=2, borderaxespad=0.)\n",
    "    plt.show()\n",
    "    \n",
    "    return"
   ]
  },
  {
   "cell_type": "code",
   "execution_count": 30,
   "metadata": {},
   "outputs": [
    {
     "data": {
      "image/png": "[encoded data removed]",
      "text/plain": [
       "<Figure size 432x288 with 1 Axes>"
      ]
     },
     "metadata": {
      "needs_background": "light"
     },
     "output_type": "display_data"
    }
   ],
   "source": [
    "tols = [10, 20, 50, 100, 200, 500] # in msec\n",
    "plot_grouped_histogram1(errRates, toPlot, tols)"
   ]
  },
  {
   "cell_type": "markdown",
   "metadata": {},
   "source": [
    "### Final results plot for paper"
   ]
  },
  {
   "cell_type": "markdown",
   "metadata": {},
   "source": [
    "This one is touched up to look nicer."
   ]
  },
  {
   "cell_type": "code",
   "execution_count": null,
   "metadata": {},
   "outputs": [],
   "source": [
    "def plot_grouped_histogram1(errRates_bars, errRates_dots, basenames, tols, savefile = None):  \n",
    "    # Histogram grouped by tolerance\n",
    "    \n",
    "    # first construct DataFrame\n",
    "    data = []\n",
    "    for i, system in enumerate(basenames):\n",
    "        for tol in tols:\n",
    "            data.append((system, tol, errRates[i,tol] * 100.0))\n",
    "    df = pd.DataFrame(data, columns = ['System', 'Tolerance', 'Error'])\n",
    "    \n",
    "    # grouped barplot (DTW & WSDTW)\n",
    "    sns.barplot(x=\"Tolerance\", y=\"Error\", hue=\"System\", data=df)\n",
    "    plt.xlabel(\"Tolerance (ms)\", size=14)\n",
    "    plt.ylabel(\"Error Rate (%)\", size=14)\n",
    "    #plt.legend(bbox_to_anchor=(1.05, 1), loc=2, borderaxespad=0.)\n",
    "    plt.legend(loc='upper right')\n",
    "    \n",
    "    # overlay dots for SSDTW results\n",
    "    width_bar = .135\n",
    "    x_coords = []\n",
    "    y_coords = []\n",
    "    for i, tol in enumerate(tols):\n",
    "        for j in range(errRates_dots.shape[0]):\n",
    "            x_coords.append(i+(-1.5+j)*width_bar)\n",
    "            y_coords.append(errRates_dots[j,tol] * 100.0)\n",
    "    plt.plot(x_coords, y_coords, 'ko', markersize=3)\n",
    "    \n",
    "    if savefile:\n",
    "        plt.savefig(savefile, bbox_inches = 'tight')\n",
    "    \n",
    "    return"
   ]
  },
  {
   "cell_type": "code",
   "execution_count": null,
   "metadata": {},
   "outputs": [],
   "source": [
    "tols = [10, 20, 50, 100, 200, 500] # in msec\n",
    "display_names = ['DTW', 'SegDTW-2', 'SegDTW-4', 'SegDTW-8', 'SegDTW-16','SegDTW-32']\n",
    "savefile = 'results.png'\n",
    "plot_grouped_histogram1(errRates[0:6,:], errRates[6:,:], display_names, tols, savefile)"
   ]
  },
  {
   "cell_type": "markdown",
   "metadata": {},
   "source": [
    "### Runtime Analysis"
   ]
  },
  {
   "cell_type": "code",
   "execution_count": 31,
   "metadata": {},
   "outputs": [],
   "source": [
    "dtw_runtimes, dtw_sizes = pickle.load(open('dtw_prof.pkl', 'rb'))\n",
    "subsequence_dtw_runtimes, subsequence_dtw_sizes = pickle.load(open('subsequence_dtw_prof.pkl', 'rb'))\n",
    "nsdtw_runtimes, nsdtw_segments, nsdtw_sizes = pickle.load(open('nsdtw_prof.pkl', 'rb'))\n",
    "wsdtw_runtimes, wsdtw_segments, wsdtw_sizes = pickle.load(open('wsdtw_prof.pkl', 'rb'))\n",
    "ssdtw_runtimes, ssdtw_segments, ssdtw_sizes = pickle.load(open('ssdtw_prof.pkl', 'rb'))"
   ]
  },
  {
   "cell_type": "markdown",
   "metadata": {},
   "source": [
    "Numbers for runtime table"
   ]
  },
  {
   "cell_type": "code",
   "execution_count": 32,
   "metadata": {},
   "outputs": [],
   "source": [
    "dtw_avgs = np.mean(np.sum(dtw_runtimes[::-1,:,:], axis=2), axis=1)"
   ]
  },
  {
   "cell_type": "code",
   "execution_count": 33,
   "metadata": {},
   "outputs": [],
   "source": [
    "subsequence_dtw_avgs = np.mean(np.sum(subsequence_dtw_runtimes[::-1,:,:], axis=2), axis=1)"
   ]
  },
  {
   "cell_type": "code",
   "execution_count": 34,
   "metadata": {},
   "outputs": [],
   "source": [
    "nsdtw_avgs = np.mean(np.sum(nsdtw_runtimes[:,::-1,:,:], axis=3), axis=2)"
   ]
  },
  {
   "cell_type": "code",
   "execution_count": 35,
   "metadata": {},
   "outputs": [],
   "source": [
    "wsdtw_avgs = np.mean(np.sum(wsdtw_runtimes[:,::-1,:,:], axis=3), axis=2)"
   ]
  },
  {
   "cell_type": "code",
   "execution_count": 36,
   "metadata": {},
   "outputs": [],
   "source": [
    "ssdtw_avgs = np.mean(np.sum(ssdtw_runtimes[:,::-1,:,:], axis=3), axis=2)"
   ]
  },
  {
   "cell_type": "code",
   "execution_count": 41,
   "metadata": {},
   "outputs": [],
   "source": [
    "all_avgs = np.vstack((dtw_avgs.reshape((1,-1)), \\\n",
    "                     subsequence_dtw_avgs.reshape((1,-1)), \\\n",
    "                     nsdtw_avgs, wsdtw_avgs, ssdtw_avgs))"
   ]
  },
  {
   "cell_type": "code",
   "execution_count": 42,
   "metadata": {},
   "outputs": [
    {
     "data": {
      "text/plain": [
       "array([[2.63556004e-02, 1.60772943e-01, 9.99313426e-01, 3.80361595e+00,\n",
       "        1.54498972e+01, 1.11752989e+02],\n",
       "       [2.60246515e-02, 1.66234851e-01, 1.00719569e+00, 3.81715865e+00,\n",
       "        1.51009114e+01, 1.08192165e+02],\n",
       "       [2.41136074e-02, 1.26886988e-01, 9.90062118e-01, 3.79513888e+00,\n",
       "        1.49665424e+01, 1.08548256e+02],\n",
       "       [2.44884729e-02, 1.17586732e-01, 8.69602656e-01, 3.76497159e+00,\n",
       "        1.49895921e+01, 1.00267310e+02],\n",
       "       [2.52540112e-02, 1.13694549e-01, 7.20169044e-01, 3.75432951e+00,\n",
       "        1.49575278e+01, 1.03524786e+02],\n",
       "       [2.49893904e-02, 1.07810307e-01, 6.90110826e-01, 3.33350561e+00,\n",
       "        1.49338117e+01, 1.01218830e+02],\n",
       "       [2.73777008e-02, 1.09722328e-01, 6.81367612e-01, 2.63830678e+00,\n",
       "        1.48775133e+01, 1.01061151e+02],\n",
       "       [2.59238243e-02, 1.24614382e-01, 9.69269681e-01, 3.71943834e+00,\n",
       "        1.59683259e+01, 1.03614343e+02],\n",
       "       [2.43222952e-02, 1.15424919e-01, 8.69526100e-01, 3.77664068e+00,\n",
       "        1.52302313e+01, 9.83334061e+01],\n",
       "       [2.51928329e-02, 1.12864804e-01, 7.29992032e-01, 3.75214691e+00,\n",
       "        1.48495657e+01, 9.73234644e+01],\n",
       "       [2.50152111e-02, 1.08047700e-01, 6.94926405e-01, 3.33169487e+00,\n",
       "        1.48894935e+01, 1.00017551e+02],\n",
       "       [2.63366461e-02, 1.09036922e-01, 6.89725780e-01, 2.68208899e+00,\n",
       "        1.45265959e+01, 1.01923385e+02],\n",
       "       [3.02446604e-02, 1.57716179e-01, 1.23698044e+00, 5.38644211e+00,\n",
       "        2.64886471e+01, 1.95262684e+02],\n",
       "       [3.16781282e-02, 1.43132114e-01, 1.15395045e+00, 5.02256653e+00,\n",
       "        2.28672447e+01, 1.98511666e+02],\n",
       "       [3.86996269e-02, 1.65795493e-01, 1.01425536e+00, 5.08692451e+00,\n",
       "        2.12458545e+01, 1.75488558e+02],\n",
       "       [3.91509533e-02, 1.64932179e-01, 9.21865368e-01, 4.51310358e+00,\n",
       "        2.12886000e+01, 1.46725296e+02],\n",
       "       [3.26486588e-02, 1.40080690e-01, 8.79449272e-01, 3.62549725e+00,\n",
       "        1.95583205e+01, 1.41311185e+02]])"
      ]
     },
     "execution_count": 42,
     "metadata": {},
     "output_type": "execute_result"
    }
   ],
   "source": [
    "# first row: DTW\n",
    "# second row: subsequence DTW\n",
    "# next 5 rows: NSDTW with segments = 2, 4, 8, 16, 32\n",
    "# next 5 rows: WSDTW with segments = 2, 4, 8, 16, 32\n",
    "# next 5 rows: SSDTW with segments = 2, 4, 8, 16, 32\n",
    "all_avgs"
   ]
  },
  {
   "cell_type": "code",
   "execution_count": 53,
   "metadata": {},
   "outputs": [
    {
     "data": {
      "text/plain": [
       "(17, 6)"
      ]
     },
     "execution_count": 53,
     "metadata": {},
     "output_type": "execute_result"
    }
   ],
   "source": [
    "all_avgs.shape"
   ]
  },
  {
   "cell_type": "code",
   "execution_count": 59,
   "metadata": {},
   "outputs": [
    {
     "data": {
      "image/png": "[encoded data removed]",
      "text/plain": [
       "<Figure size 432x288 with 1 Axes>"
      ]
     },
     "metadata": {
      "needs_background": "light"
     },
     "output_type": "display_data"
    }
   ],
   "source": [
    "columns = ['1k', '2k', '5k', '10k', '20k', '50k']\n",
    "rows = ['DTW', 'Subsequence DTW']\n",
    "segment_algs = ['NSDTW', 'WSDTW', 'SSDTW']\n",
    "num_segs = [2, 4, 8, 16, 32]\n",
    "for alg_name in segment_algs:\n",
    "    for num_seg in num_segs:\n",
    "        rows.append(alg_name + '-' + str(num_seg))\n",
    "        \n",
    "cell_text = []\n",
    "for i in range(len(rows)):\n",
    "    cell_text.append(['%1.3f' % x for x in all_avgs[i,:]])\n",
    "        \n",
    "fig, ax = plt.subplots()\n",
    "\n",
    "fig.patch.set_visible(False)\n",
    "ax.axis('off')\n",
    "ax.axis('tight')\n",
    "\n",
    "ax.table(cellText=cell_text, rowLabels=rows, colLabels=columns, loc='center')\n",
    "\n",
    "fig.tight_layout()\n",
    "\n",
    "plt.show()"
   ]
  },
  {
   "cell_type": "markdown",
   "metadata": {},
   "source": [
    "Breakdown of runtime by component"
   ]
  },
  {
   "cell_type": "code",
   "execution_count": 60,
   "metadata": {},
   "outputs": [],
   "source": [
    "# get DTW percent of total runtime by component\n",
    "dtw_avgs = np.mean(dtw_runtimes, axis=1)\n",
    "dtw_avgs = dtw_avgs / np.sum(dtw_avgs, axis=1, keepdims=True) * 100.0\n",
    "dtw_avgs = dtw_avgs[::-1,:]\n",
    "dtw_avgs = np.hstack((dtw_avgs, np.zeros((6,2)))) # order: cost, frm dp, frm back, seg dp, seg back\n",
    "dtw_df = pd.DataFrame(dtw_avgs, columns=['Cost', 'Frm DP', 'Frm Back','Seg DP', 'Seg Back'], index=dtw_sizes[::-1])"
   ]
  },
  {
   "cell_type": "code",
   "execution_count": 62,
   "metadata": {},
   "outputs": [],
   "source": [
    "# get Subsequence DTW percent of total runtime by component\n",
    "subsequence_dtw_avgs = np.mean(subsequence_dtw_runtimes, axis=1)\n",
    "subsequence_dtw_avgs = subsequence_dtw_avgs / np.sum(subsequence_dtw_avgs, axis=1, keepdims=True) * 100.0\n",
    "subsequence_dtw_avgs = subsequence_dtw_avgs[::-1,:]\n",
    "subsequence_dtw_avgs = np.hstack((subsequence_dtw_avgs, np.zeros((6,2)))) # order: cost, frm dp, frm back, seg dp, seg back\n",
    "subsequence_dtw_df = pd.DataFrame(subsequence_dtw_avgs, columns=['Cost', 'Frm DP', 'Frm Back','Seg DP', 'Seg Back'], index=subsequence_dtw_sizes[::-1])"
   ]
  },
  {
   "cell_type": "code",
   "execution_count": 70,
   "metadata": {},
   "outputs": [],
   "source": [
    "# get NSDTW percent of total runtime by component\n",
    "nsdtw_avgs = np.mean(nsdtw_runtimes, axis=2)\n",
    "nsdtw_avgs = nsdtw_avgs / np.sum(nsdtw_avgs, axis=2, keepdims=True) * 100.0\n",
    "nsdtw_avgs = nsdtw_avgs[4,::-1,:] # focus on K=32 segments\n",
    "nsdtw_avgs = np.hstack((nsdtw_avgs, np.zeros((6,2)))) # order: cost, frm dp, frm back, seg dp, seg back\n",
    "nsdtw_df = pd.DataFrame(nsdtw_avgs, columns=['Cost', 'Frm DP', 'Frm Back','Seg DP', 'Seg Back'], index=nsdtw_sizes[::-1])"
   ]
  },
  {
   "cell_type": "code",
   "execution_count": 71,
   "metadata": {},
   "outputs": [],
   "source": [
    "# get WSDTW percent of total runtime by component\n",
    "wsdtw_avgs = np.mean(wsdtw_runtimes, axis=2)\n",
    "wsdtw_avgs = wsdtw_avgs / np.sum(wsdtw_avgs, axis=2, keepdims=True) * 100.0\n",
    "wsdtw_avgs = wsdtw_avgs[4,::-1,:] # focus on K=32 segments\n",
    "wsdtw_avgs = wsdtw_avgs[:,[0,1,4,2,3]] # original order: cost, frm dp, seg dp, seg back, frm back\n",
    "wsdtw_df = pd.DataFrame(wsdtw_avgs, columns=['Cost', 'Frm DP', 'Frm Back','Seg DP', 'Seg Back'], index=wsdtw_sizes[::-1])"
   ]
  },
  {
   "cell_type": "code",
   "execution_count": 75,
   "metadata": {},
   "outputs": [],
   "source": [
    "# get SSDTW percent of total runtime by component\n",
    "ssdtw_avgs = np.mean(ssdtw_runtimes, axis=2)\n",
    "ssdtw_avgs = ssdtw_avgs / np.sum(ssdtw_avgs, axis=2, keepdims=True) * 100.0\n",
    "ssdtw_avgs = ssdtw_avgs[4,::-1,:] # focus on K=32 segments\n",
    "#print(ssdtw_avgs)\n",
    "#ssdtw_avgs[:,2] = ssdtw_avgs[:,2] + ssdtw_avgs[:,5] # combine runtimes from both frame-level backtracking stages\n",
    "ssdtw_avgs = ssdtw_avgs[:,0:5] # order: cost, frm dp, frm back, seg dp, seg back\n",
    "ssdtw_df = pd.DataFrame(ssdtw_avgs, columns=['Cost', 'Frm DP', 'Frm Back','Seg DP', 'Seg Back'], index=ssdtw_sizes[::-1])"
   ]
  },
  {
   "cell_type": "code",
   "execution_count": 80,
   "metadata": {},
   "outputs": [
    {
     "data": {
      "image/png": "[encoded data removed]",
      "text/plain": [
       "<Figure size 432x288 with 5 Axes>"
      ]
     },
     "metadata": {
      "needs_background": "light"
     },
     "output_type": "display_data"
    }
   ],
   "source": [
    "fig, axes = plt.subplots(nrows=1, ncols=5)\n",
    "\n",
    "# DTW plot\n",
    "ax = dtw_df.plot(kind=\"bar\", stacked=True, colormap=\"rainbow\", ax=axes[0])\n",
    "ax.set_title(\"DTW\")\n",
    "ax.set_ylabel(\"% Total Runtime\", size=13),\n",
    "ax.set_ylim(0, 100)\n",
    "ax.set_yticks(range(0, 101, 10))\n",
    "ax.xaxis.set_ticks_position('none') \n",
    "ax.set_xticklabels(labels=['1k','2k','5k','10k','20k','50k'], rotation=90, minor=False)\n",
    "ax.get_legend().remove()\n",
    "\n",
    "# Subsequence DTW plot\n",
    "ax = subsequence_dtw_df.plot(kind=\"bar\", stacked=True, colormap=\"rainbow\", ax=axes[1])\n",
    "ax.set_title(\"subseqDTW\")\n",
    "#ax.set_xlabel(\"\\nCost Matrix Size\", size=13),\n",
    "ax.set_ylim(0, 100)\n",
    "ax.set_yticks([])\n",
    "ax.xaxis.set_ticks_position('none') \n",
    "ax.set_xticklabels(labels=['1k','2k','5k','10k','20k','50k'], rotation=90, minor=False)\n",
    "ax.get_legend().remove()\n",
    "\n",
    "# NSDTW plot\n",
    "ax = nsdtw_df.plot(kind=\"bar\", stacked=True, colormap=\"rainbow\", ax=axes[2])\n",
    "ax.set_title(\"NSDTW-32\")\n",
    "ax.set_xlabel(\"\\nCost Matrix Size\", size=13),\n",
    "ax.set_ylim(0, 100)\n",
    "ax.set_yticks([])\n",
    "ax.xaxis.set_ticks_position('none') \n",
    "ax.set_xticklabels(labels=['1k','2k','5k','10k','20k','50k'], rotation=90, minor=False)\n",
    "ax.get_legend().remove()\n",
    "\n",
    "# WSDTW plot\n",
    "ax = wsdtw_df.plot(kind=\"bar\", stacked=True, colormap=\"rainbow\", ax=axes[3])\n",
    "ax.set_title(\"WSDTW-32\")\n",
    "#ax.set_xlabel(\"\\nCost Matrix Size\", size=13),\n",
    "ax.set_ylim(0, 100)\n",
    "ax.set_yticks([])\n",
    "ax.xaxis.set_ticks_position('none') \n",
    "ax.set_xticklabels(labels=['1k','2k','5k','10k','20k','50k'], rotation=90, minor=False)\n",
    "ax.get_legend().remove()\n",
    "\n",
    "# SSDTW plot\n",
    "ax = ssdtw_df.plot(kind=\"bar\", stacked=True, colormap=\"rainbow\", ax=axes[4])\n",
    "ax.set_title(\"SSDTW-32\")\n",
    "ax.set_ylim(0, 100)\n",
    "ax.set_yticks([])\n",
    "ax.xaxis.set_ticks_position('none') \n",
    "ax.set_xticklabels(labels=['1k','2k','5k','10k','20k','50k'], rotation=90, minor=False)\n",
    "\n",
    "ax.legend(bbox_to_anchor=(1, 1))\n",
    "\n",
    "plt.show()\n",
    "#plt.savefig('runtime.png', bbox_inches = 'tight')"
   ]
  },
  {
   "cell_type": "markdown",
   "metadata": {},
   "source": [
    "### Data Stats for paper"
   ]
  },
  {
   "cell_type": "markdown",
   "metadata": {},
   "source": [
    "Collecting some stats on the audio data"
   ]
  },
  {
   "cell_type": "code",
   "execution_count": null,
   "metadata": {},
   "outputs": [],
   "source": [
    "root_dir = 'Chopin_Mazurkas/wav_22050_mono'"
   ]
  },
  {
   "cell_type": "code",
   "execution_count": null,
   "metadata": {},
   "outputs": [],
   "source": [
    "def printAudioStats(indir):\n",
    "    durs = []\n",
    "    for infile in glob.glob(f'{indir}/*.wav'):\n",
    "        y, sr = lb.load(infile)\n",
    "        durs.append(len(y)/sr)\n",
    "    durs = np.array(durs)\n",
    "    \n",
    "    print(os.path.basename(indir))\n",
    "    print('---------')\n",
    "    print(f'Min: {np.min(durs)} s')\n",
    "    print(f'Max: {np.max(durs)} s')\n",
    "    print(f'Mean: {np.mean(durs)} s')\n",
    "    print(f'Std: {np.std(durs)} s')"
   ]
  },
  {
   "cell_type": "code",
   "execution_count": null,
   "metadata": {},
   "outputs": [],
   "source": [
    "for indir in glob.glob(f'{root_dir}/*'):\n",
    "    printAudioStats(indir)"
   ]
  }
 ],
 "metadata": {
  "kernelspec": {
   "display_name": "Python 3",
   "language": "python",
   "name": "python3"
  },
  "language_info": {
   "codemirror_mode": {
    "name": "ipython",
    "version": 3
   },
   "file_extension": ".py",
   "mimetype": "text/x-python",
   "name": "python",
   "nbconvert_exporter": "python",
   "pygments_lexer": "ipython3",
   "version": "3.7.10"
  }
 },
 "nbformat": 4,
 "nbformat_minor": 4
}
