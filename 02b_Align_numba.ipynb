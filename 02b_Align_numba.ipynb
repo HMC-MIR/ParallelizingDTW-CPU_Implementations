{
 "cells": [
  {
   "cell_type": "markdown",
   "metadata": {},
   "source": [
    "This file implements DTW, Subsequence DTW, NSDTW, WSDTW, and SSDTW"
   ]
  },
  {
   "cell_type": "code",
   "execution_count": 1,
   "metadata": {},
   "outputs": [],
   "source": [
    "%matplotlib inline"
   ]
  },
  {
   "cell_type": "code",
   "execution_count": 2,
   "metadata": {},
   "outputs": [],
   "source": [
    "import numpy as np\n",
    "import matplotlib.pyplot as plt\n",
    "import librosa as lb\n",
    "import os.path\n",
    "from pathlib import Path\n",
    "import pickle\n",
    "import multiprocessing\n",
    "import time\n",
    "import gc\n",
    "from numba import jit, njit, float64, uint32, boolean"
   ]
  },
  {
   "cell_type": "markdown",
   "metadata": {},
   "source": [
    "## DTW and Subsequence DTW"
   ]
  },
  {
   "cell_type": "code",
   "execution_count": 3,
   "metadata": {},
   "outputs": [],
   "source": [
    "DTWDefaultSteps = np.array([[1, 1, 2],\n",
    "                            [1, 2, 1]], dtype = np.uint32)\n",
    "\n",
    "DTWDefaultWeights = np.array([2, 3, 3], dtype = np.float64)\n",
    "\n",
    "\n",
    "subseqDTWDefaultSteps = np.array([[1, 1, 2],\n",
    "                                  [1, 2, 1]], dtype = np.uint32)\n",
    "\n",
    "subseqDTWDefaultWeights = np.array([1, 1, 2], dtype = np.float64)\n",
    "\n",
    "\n",
    "MAX_FLOAT = float('inf')"
   ]
  },
  {
   "cell_type": "code",
   "execution_count": 4,
   "metadata": {},
   "outputs": [],
   "source": [
    "# njit is equivalent to jit(nopython=True)\n",
    "# This forces numba to compile in nopython mode, which is faster\n",
    "\n",
    "# This line enforces input types. However, it does not work with optional parameters\n",
    "#@njit((float64[:,::1], uint32[:,::1], float64[:], boolean))\n",
    "\n",
    "@njit\n",
    "def DTW_Cost_To_DandB(C, Steps = DTWDefaultSteps, weights = DTWDefaultWeights, subsequence=False):\n",
    "    '''\n",
    "    Find the accumulated cost matrix and backtrace matrix from a cost matrix using Dynamic time warping\n",
    "    \n",
    "    Arguments:\n",
    "    C -- The Cost matrix\n",
    "    Steps -- The available steps, where the first row is the row steps, the second row is the column steps\n",
    "    weights -- The weights of the steps\n",
    "    subsequence -- True if subsequence DTW should be performed rather than standard DTW\n",
    "             \n",
    "    Returns:\n",
    "    D -- The accumulated cost matrix\n",
    "    B -- The backtrace matrix\n",
    "    '''\n",
    "    '''\n",
    "    Section for verifying input\n",
    "    '''\n",
    "    # Ensure parameters have correct dtypes and dimensions\n",
    "    try:\n",
    "        C = C.astype(np.float64)\n",
    "        assert C.ndim == 2\n",
    "    except:\n",
    "        print(\"FAILURE: The type of the cost matrix is wrong - please pass in a 2-d numpy array\")\n",
    "        return\n",
    "\n",
    "    try:\n",
    "        Steps = Steps.astype(np.uint32)\n",
    "        assert Steps.ndim == 2\n",
    "    except:\n",
    "        print(\"FAILURE: The type of the steps matrix is wrong - please pass in a 2-d numpy array\")\n",
    "        return\n",
    "\n",
    "    try:\n",
    "        weights = weights.astype(np.float64)\n",
    "        assert weights.ndim == 1\n",
    "    except:\n",
    "        print(\"FAILURE: The type of the steps matrix is wrong - please pass in a 2-d numpy array\")\n",
    "        return\n",
    "    \n",
    "    # Ensure steps and weights sizes are appropriate\n",
    "    stepsShape = Steps.shape\n",
    "    numDifSteps = len(weights)\n",
    "    \n",
    "    if stepsShape[0] != 2:\n",
    "        print(\"FAILURE: The size of the steps matrix is wrong - please pass in a 2-d numpy array with 2 rows\")\n",
    "        return\n",
    "    if stepsShape[1] != numDifSteps:\n",
    "        print(\"FAILURE: The number of steps and weights do not line up - please make sure that there are the same number of steps and weights\")\n",
    "        return\n",
    "    \n",
    "    '''\n",
    "    Algorithm\n",
    "    '''\n",
    "    # Separate steps\n",
    "    rowSteps = Steps[0,:]\n",
    "    colSteps = Steps[1,:]\n",
    "\n",
    "    # Define Relevant Variables\n",
    "    numRows = C.shape[0]\n",
    "    numCols = C.shape[1]\n",
    "    \n",
    "    numDifSteps = len(weights)\n",
    "    maxRowStep = max(rowSteps)\n",
    "    maxColStep = max(colSteps)\n",
    "    \n",
    "    # Set up accumulated cost matrix D and backtrace matrix B\n",
    "    D = np.ones((numRows + maxRowStep, numCols + maxColStep), dtype = np.float64) * MAX_FLOAT\n",
    "    B = np.zeros((numRows, numCols), dtype = np.uint32)\n",
    "    \n",
    "    # Fill up D and B\n",
    "    if subsequence:  # Initialize entire bottom row of D for subsequence\n",
    "        D[maxRowStep, maxColStep:] = C[0,:]\n",
    "    else:\n",
    "        D[maxRowStep, maxColStep] = C[0,0]  # Initialize bottom corner if for standard DTW\n",
    "    for row in range(maxRowStep, numRows + maxRowStep, 1):\n",
    "        for col in range(maxColStep, numCols + maxColStep, 1):\n",
    "            bestCost = D[row, col]\n",
    "            bestCostIndex = 0\n",
    "            # Go through each step, find the best one\n",
    "            for stepIndex in range(numDifSteps):\n",
    "                costForStep = D[row - rowSteps[stepIndex], col - colSteps[stepIndex]] + weights[stepIndex] * C[row - maxRowStep, col - maxColStep]\n",
    "                if costForStep < bestCost:\n",
    "                    bestCost = costForStep\n",
    "                    bestCostIndex = stepIndex\n",
    "            # Save best cost and step\n",
    "            D[row,col] = bestCost\n",
    "            B[row - maxRowStep, col - maxColStep] = bestCostIndex\n",
    "    \n",
    "    # Return accumulated cost matrix D and backtrace matrix B\n",
    "    return D[maxRowStep:, maxColStep:], B"
   ]
  },
  {
   "cell_type": "code",
   "execution_count": 5,
   "metadata": {},
   "outputs": [],
   "source": [
    "# This line enforces input types. However, it does not work with optional parameters\n",
    "#@njit((float64[:,::1], uint32[:,::1], uint32[:,::1], boolean, uint32))\n",
    "\n",
    "@njit\n",
    "def DTW_Backtrace(D, B, Steps=DTWDefaultSteps, subsequence=False, startCol=-1):\n",
    "    '''\n",
    "    Backtrace through an accumulated cost matrix and backtrace matrix to find a path\n",
    "    \n",
    "    Arguments:\n",
    "    D -- The accumulated cost matrix\n",
    "    B -- The backtrace matrix\n",
    "    Steps -- The available steps\n",
    "    subsequence -- True if subsequence DTW should be performed rather than standard DTW\n",
    "    startCol -- The column to begin backtracing from, or -1 if not specified\n",
    "    \n",
    "    Returns:\n",
    "    fwdPath -- A 2d numpy array storing the optimal path. The first row is the path through the rows.\n",
    "            The second row is the path through the columns\n",
    "    '''\n",
    "    '''\n",
    "    Section for verifying input\n",
    "    '''\n",
    "    # Ensure parameters have correct dtypes and dimensions\n",
    "    try:\n",
    "        D = D.astype(np.float64)\n",
    "        assert D.ndim == 2\n",
    "    except:\n",
    "        print(\"FAILURE: The type of the accumulated cost matrix is wrong - please pass in a 2-d numpy array\")\n",
    "        return\n",
    "\n",
    "    try:\n",
    "        B = B.astype(np.uint32)\n",
    "        assert B.ndim == 2\n",
    "    except:\n",
    "        print(\"FAILURE: The type of the backtrace matrix is wrong - please pass in a 2-d numpy array\")\n",
    "        return\n",
    "    \n",
    "    try:\n",
    "        Steps = Steps.astype(np.uint32)\n",
    "        assert Steps.ndim == 2\n",
    "    except:\n",
    "        print(\"FAILURE: The type of the steps matrix is wrong - please pass in a 2-d numpy array\")\n",
    "        return\n",
    "\n",
    "    # Ensure that D and B are the same shape\n",
    "    if D.shape != B.shape:\n",
    "        print(\"FAILURE: The accumulated cost matrix and backtrace matrix are not the same size - please make sure their sizes match\")\n",
    "        return\n",
    "    \n",
    "    \n",
    "    '''\n",
    "    Backtrace through D and B\n",
    "    '''\n",
    "    # Separate steps\n",
    "    rowSteps = Steps[0,:]\n",
    "    colSteps = Steps[1,:]\n",
    "    \n",
    "    # Initialize variables\n",
    "    numRows = D.shape[0]\n",
    "    numCols = D.shape[1]\n",
    "    \n",
    "    curRow = numRows - 1  # Always start at last row\n",
    "    curCol = numCols - 1  # Standard DTW: Start at top-right corner\n",
    "    if startCol > 0:\n",
    "        curCol = startCol\n",
    "    elif subsequence:  # Subsequence: Choose lowest cost of top row\n",
    "        curCol = np.argmin(D[numRows-1,:])\n",
    "    \n",
    "    endCol = curCol\n",
    "    endCost = D[curRow, curCol]\n",
    "    stepsInPath = 1\n",
    "    stepIndex = 0\n",
    "    done = (subsequence and curRow == 0) or (curRow == 0 and curCol == 0)\n",
    "    path = np.zeros((2, numRows + numCols), dtype=np.uint32) # make as large as could need, then chop at the end\n",
    "    path[0, 0] = curRow\n",
    "    path[1, 0] = curCol\n",
    "    \n",
    "    # Backtrace\n",
    "    while not done:\n",
    "        if D[curRow, curCol] == MAX_FLOAT:  # No path exists to current location\n",
    "            return\n",
    "        \n",
    "        # you're done if you've made it to the bottom left (non sub-sequence)\n",
    "        # or just the bottom (sub-sequence)\n",
    "        # find the step size\n",
    "        curStepIndex = B[curRow, curCol]\n",
    "        curRowStep = rowSteps[curStepIndex]\n",
    "        curColStep = colSteps[curStepIndex]\n",
    "        # backtrack by 1 step\n",
    "        curRow = curRow - curRowStep\n",
    "        curCol = curCol - curColStep\n",
    "        # add your new location onto the path\n",
    "        path[0, stepsInPath] = curRow\n",
    "        path[1, stepsInPath] = curCol\n",
    "        stepsInPath = stepsInPath + 1\n",
    "        # check to see if you're done\n",
    "        done = (subsequence and curRow == 0) or (curRow == 0 and curCol == 0)\n",
    "        \n",
    "    # reverse the path (a matrix with two rows) and return it\n",
    "    fwdPath = np.fliplr(path[:, 0:stepsInPath])\n",
    "    return fwdPath\n",
    "    #return fwdPath, endCol, endCost"
   ]
  },
  {
   "cell_type": "code",
   "execution_count": 6,
   "metadata": {},
   "outputs": [],
   "source": [
    "@njit\n",
    "def DTW(F1, F2, Steps = DTWDefaultSteps, weights = DTWDefaultWeights, subsequence = False):\n",
    "    '''\n",
    "    Run DTW on two feature matrices\n",
    "    \n",
    "    Arguments:\n",
    "    F1 -- Feature Matrix 1\n",
    "    F2 -- Feature Matrix 2\n",
    "    Steps -- The steps matrix. The first row is the steps in along the rows,\n",
    "             the second row is the steps along the columns\n",
    "    weights -- The weights for the steps\n",
    "    subsequence -- True if subsequence DTW should be performed rather than standard DTW\n",
    "    \n",
    "    Returns:\n",
    "    path -- A 2d numpy array storing the optimal path. The first row is the path through the rows.\n",
    "            The second row is the path through the columns\n",
    "    '''\n",
    "    # Compute Cost Matrix\n",
    "    C = 1 - F1.T @ F2 # cos distance metric\n",
    "    \n",
    "    # Get D and B\n",
    "    D, B = DTW_Cost_To_DandB(C, Steps = Steps, weights = weights, subsequence=subsequence)\n",
    "    \n",
    "    # Backtrace and return\n",
    "    return DTW_Backtrace(D, B, Steps=Steps, subsequence=subsequence)"
   ]
  },
  {
   "cell_type": "markdown",
   "metadata": {},
   "source": [
    "### Test DTW on Random Feature Matrices"
   ]
  },
  {
   "cell_type": "code",
   "execution_count": 7,
   "metadata": {},
   "outputs": [],
   "source": [
    "def genRandomFeatures(outdir):\n",
    "    '''\n",
    "    Generate random feature matrices and save them to outdir\n",
    "    \n",
    "    Arguments:\n",
    "    outdir -- The directory to save the two feature matrices\n",
    "    '''\n",
    "    \n",
    "    if not os.path.exists(outdir):\n",
    "        os.mkdir(outdir)\n",
    "\n",
    "    F1 = np.random.rand(12, 10000)\n",
    "    norm_factor = np.sqrt(np.sum(F1*F1, axis=0))\n",
    "    F1 = F1 / norm_factor\n",
    "\n",
    "    F2 = np.random.rand(12, 10000)\n",
    "    norm_factor = np.sqrt(np.sum(F2*F2, axis=0))\n",
    "    F2 = F2 / norm_factor\n",
    "    \n",
    "    F3 = np.random.rand(12, 1000)\n",
    "    norm_factor = np.sqrt(np.sum(F3*F3, axis=0))\n",
    "    F3 = F3 / norm_factor\n",
    "\n",
    "    F4 = np.random.rand(12, 1000)\n",
    "    norm_factor = np.sqrt(np.sum(F4*F4, axis=0))\n",
    "    F4 = F4 / norm_factor\n",
    "\n",
    "    \n",
    "    np.save(outdir / \"Features_1.npy\", F1)\n",
    "    np.save(outdir / \"Features_2.npy\", F2)\n",
    "    np.save(outdir / \"Features_3.npy\", F3)\n",
    "    np.save(outdir / \"Features_4.npy\", F4)"
   ]
  },
  {
   "cell_type": "code",
   "execution_count": 8,
   "metadata": {},
   "outputs": [],
   "source": [
    "# Make and save random features\n",
    "#genRandomFeatures(Path(\"test_features\"))\n",
    "# Run this ^ once to create files for testing\n",
    "outdir = Path(\"implementation_test/test_features\")\n",
    "\n",
    "F1 = np.load(\"implementation_test/test_features/Features_1.npy\", allow_pickle=True)\n",
    "F2 = np.load(\"implementation_test/test_features/Features_2.npy\", allow_pickle=True)\n",
    "F3 = np.load(\"implementation_test/test_features/Features_3.npy\", allow_pickle=True)\n",
    "F4 = np.load(\"implementation_test/test_features/Features_4.npy\", allow_pickle=True)\n"
   ]
  },
  {
   "cell_type": "code",
   "execution_count": 9,
   "metadata": {},
   "outputs": [],
   "source": [
    "path = DTW(F1, F2)"
   ]
  },
  {
   "cell_type": "code",
   "execution_count": 10,
   "metadata": {},
   "outputs": [],
   "source": [
    "_, wp = lb.sequence.dtw(F1, F2, metric = 'cosine', step_sizes_sigma=DTWDefaultSteps.T, weights_mul = DTWDefaultWeights)"
   ]
  },
  {
   "cell_type": "code",
   "execution_count": 11,
   "metadata": {},
   "outputs": [
    {
     "data": {
      "text/plain": [
       "True"
      ]
     },
     "execution_count": 11,
     "metadata": {},
     "output_type": "execute_result"
    }
   ],
   "source": [
    "np.allclose(path, np.fliplr(wp.T))"
   ]
  },
  {
   "cell_type": "markdown",
   "metadata": {},
   "source": [
    "As desired, our implementation's output matches the output from librosa"
   ]
  },
  {
   "cell_type": "markdown",
   "metadata": {},
   "source": [
    "### Test Subsequence DTW on Random Feature Matrices"
   ]
  },
  {
   "cell_type": "code",
   "execution_count": 12,
   "metadata": {},
   "outputs": [],
   "source": [
    "SDTWpath = DTW(F1[0:2000], F2, Steps = subseqDTWDefaultSteps, weights=subseqDTWDefaultWeights, subsequence=True)"
   ]
  },
  {
   "cell_type": "code",
   "execution_count": 13,
   "metadata": {},
   "outputs": [],
   "source": [
    "_, SDTWwp = lb.sequence.dtw(F1[0:2000], F2, metric = 'cosine', step_sizes_sigma=subseqDTWDefaultSteps.T, weights_mul = subseqDTWDefaultWeights, subseq=True)"
   ]
  },
  {
   "cell_type": "code",
   "execution_count": 14,
   "metadata": {},
   "outputs": [
    {
     "data": {
      "text/plain": [
       "True"
      ]
     },
     "execution_count": 14,
     "metadata": {},
     "output_type": "execute_result"
    }
   ],
   "source": [
    "np.allclose(SDTWpath, np.fliplr(SDTWwp.T))"
   ]
  },
  {
   "cell_type": "markdown",
   "metadata": {},
   "source": [
    "As desired, our implementation's output matches the output from librosa"
   ]
  },
  {
   "cell_type": "markdown",
   "metadata": {},
   "source": [
    "## Non-ordered Segmental DTW"
   ]
  },
  {
   "cell_type": "code",
   "execution_count": 15,
   "metadata": {},
   "outputs": [],
   "source": [
    "@njit\n",
    "def NSDTW(F1, F2, segments, Steps = subseqDTWDefaultSteps, weights = subseqDTWDefaultWeights):\n",
    "    '''\n",
    "    Runs a non-ordered segmental DTW between query and reference features matrices\n",
    "    NOTE: This implementation assumes features have already been computed (As is done in the prep file)\n",
    "    \n",
    "    Arguments:\n",
    "    F1 -- The query features matrix (will be segmented)\n",
    "    F2 -- The reference features matrix\n",
    "    segments -- The number of segments to divide F1 into\n",
    "    Steps -- The allowed steps\n",
    "    weights -- The weights for the steps\n",
    "    \n",
    "    Returns:\n",
    "    path -- The optimal non-ordered, segmented alignment path between F1 and F2\n",
    "    '''\n",
    "    # Initialize path\n",
    "    # make as large as could need, then chop at the end\n",
    "    path = np.zeros((2, F1.shape[1] + (segments * F2.shape[1])), dtype=np.uint32)\n",
    "    stepsInPath = 0\n",
    "    \n",
    "    segLength = int(np.ceil(F1.shape[1] / segments))\n",
    "    \n",
    "    # Subsequence DTW each segment\n",
    "    for i in range(segments):\n",
    "        segStart = i * segLength\n",
    "        # Ensuring that the segment is contiguous here ensures best performance when computing cost later\n",
    "        currentSeg = np.ascontiguousarray(F1[:,segStart:min(segStart + segLength,F1.shape[1])])\n",
    "        pathSeg = DTW(currentSeg, F2, Steps = Steps, weights = weights, subsequence = True)\n",
    "        \n",
    "        # Add offset to row indices so they match with overall path\n",
    "        pathSeg[0,:] = pathSeg[0,:] + segStart\n",
    "        \n",
    "        # Append fragment to full path\n",
    "        stepsInPathSeg = pathSeg.shape[1]\n",
    "        path[:,stepsInPath:stepsInPath+stepsInPathSeg] = pathSeg\n",
    "        # stepsInPath keeps track of how long the path is, and where to put new path segments\n",
    "        stepsInPath = stepsInPath + stepsInPathSeg\n",
    "    \n",
    "    # Chop off any extra space at the end of the path\n",
    "    return path[:,:stepsInPath]"
   ]
  },
  {
   "cell_type": "markdown",
   "metadata": {},
   "source": [
    "### Testing NSDTW on Random Feature Matrices"
   ]
  },
  {
   "cell_type": "code",
   "execution_count": 16,
   "metadata": {},
   "outputs": [],
   "source": [
    "NSDTWPath = NSDTW(F1, F2, 5)"
   ]
  },
  {
   "cell_type": "code",
   "execution_count": 17,
   "metadata": {},
   "outputs": [],
   "source": [
    "C = 1 - F1.T @ F2"
   ]
  },
  {
   "cell_type": "code",
   "execution_count": 18,
   "metadata": {},
   "outputs": [
    {
     "data": {
      "image/png": "[encoded data removed]",
      "text/plain": [
       "<Figure size 432x288 with 1 Axes>"
      ]
     },
     "metadata": {
      "needs_background": "light"
     },
     "output_type": "display_data"
    }
   ],
   "source": [
    "plt.imshow(C, origin=\"lower\");\n",
    "plt.plot(NSDTWPath[1,:], NSDTWPath[0,:], 'r');"
   ]
  },
  {
   "cell_type": "markdown",
   "metadata": {},
   "source": [
    "NOTE: I do not have anything to compare this to, but it seems visually correct"
   ]
  },
  {
   "cell_type": "markdown",
   "metadata": {},
   "source": [
    "## Weakly-ordered Segmental DTW"
   ]
  },
  {
   "cell_type": "code",
   "execution_count": 19,
   "metadata": {},
   "outputs": [],
   "source": [
    "@njit\n",
    "def getSegmentEndingLocs(wp):\n",
    "    '''\n",
    "    Takes in a segment level path through and returns the columns where each segment ends\n",
    "    \n",
    "    Arguments:\n",
    "    wp -- A segment level path (as a 2d numpy array with 2 rows)\n",
    "    \n",
    "    Returns:\n",
    "    endLocs -- A list where the ith entry is the column where the ith segment ends\n",
    "    '''\n",
    "    prevLoc = wp[:,0] # [r,c]\n",
    "    endLocs = []\n",
    "    for i in range(wp.shape[1]):\n",
    "        curLoc = wp[:,i]\n",
    "        if curLoc[0] != prevLoc[0]: # if row changes\n",
    "            endLocs.append(curLoc[1])\n",
    "        prevLoc = curLoc\n",
    "        \n",
    "    return endLocs"
   ]
  },
  {
   "cell_type": "code",
   "execution_count": 20,
   "metadata": {},
   "outputs": [],
   "source": [
    "@njit\n",
    "def WSDTW(F1, F2, segments, Steps = subseqDTWDefaultSteps, weights = subseqDTWDefaultWeights):\n",
    "    '''\n",
    "    Runs a weakly-ordered segmental DTW between query and reference features matrices\n",
    "    \n",
    "    Arguments:\n",
    "    F1 -- The query features matrix (will be segmented)\n",
    "    F2 -- The reference features matrix\n",
    "    segments -- The number of segments to divide F1 into\n",
    "    Steps -- The allowed steps\n",
    "    weights -- The weights for the steps\n",
    "    \n",
    "    Returns:\n",
    "    path -- The optimal weakly-ordered, segmented alignment path between F1 and F2\n",
    "    '''\n",
    "\n",
    "    if max(F1.shape[1], F2.shape[1]) / min(F1.shape[1], F2.shape[1]) >= 2: # no valid path possible\n",
    "        print(\"FAILURE - Feature sizes are too different to align with DTW\")\n",
    "        return\n",
    "    \n",
    "    # Compute Cost\n",
    "    # NOTE: This could also be done segment by segment.\n",
    "    # I am doing it all up front to match the implementation in the old code.\n",
    "    C = 1 - F1.T @ F2\n",
    "    \n",
    "    # Subsequence DTW each segment without backtracing\n",
    "    segLength = int(np.ceil(F1.shape[1] / segments))\n",
    "    Cseg = np.zeros((segments + 1, C.shape[1]), dtype = np.float64)\n",
    "    Dparts = []\n",
    "    Bparts = []\n",
    "    for i in range(segments):\n",
    "        segStart = i * segLength\n",
    "        segEnd = min(segStart + segLength, C.shape[0])\n",
    "        # Ensuring that the segment is contiguous here ensures best performance in later computations\n",
    "        currentSeg = np.ascontiguousarray(C[segStart:segEnd,:])\n",
    "        D_i, B_i = DTW_Cost_To_DandB(currentSeg, Steps = Steps, weights = weights, subsequence = True)\n",
    "        \n",
    "        # Store D_i and B_i for segment and construct Cseg\n",
    "        Dparts.append(D_i)\n",
    "        Bparts.append(B_i)\n",
    "        \n",
    "        # NOTE: May need to separate this into a different loop for runtime profiling\n",
    "        Cseg[i + 1,:] = D_i[-1,:]\n",
    "\n",
    "    # run segment-level DTW (Not subsequence)\n",
    "    segmentSteps = np.array([[0, 1],\n",
    "                             [1, C.shape[0]//(2 * segments)]], #NOTE: This could cause differences with old implementation\n",
    "                            dtype=np.uint32)\n",
    "    segmentWeights = np.array([0, 1])\n",
    "    \n",
    "    Dseg, Bseg = DTW_Cost_To_DandB(Cseg, Steps = segmentSteps, weights = segmentWeights)\n",
    "    wpseg = DTW_Backtrace(Dseg, Bseg, Steps=segmentSteps)\n",
    "    \n",
    "    # Backtrace through segments with segment level path as guide\n",
    "    # Initialize path: make as large as could need, then chop at the end\n",
    "    path = np.zeros((2, F1.shape[1] + (segments * F2.shape[1])), dtype=np.uint32)\n",
    "    stepsInPath = 0\n",
    "    # Frame level backtrace segment by segment\n",
    "    segmentEndIdxs = getSegmentEndingLocs(wpseg)\n",
    "    for i, endidx in enumerate(segmentEndIdxs):\n",
    "        pathSeg = DTW_Backtrace(Dparts[i], Bparts[i], Steps = Steps, subsequence = True, startCol = endidx)\n",
    "        # Add offset to row indices so they match with overall path\n",
    "        pathSeg[0,:] = pathSeg[0,:] + (i * segLength)\n",
    "\n",
    "        # Append fragment to full path\n",
    "        stepsInPathSeg = pathSeg.shape[1]\n",
    "        path[:,stepsInPath:stepsInPath+stepsInPathSeg] = pathSeg\n",
    "        # stepsInPath keeps track of how long the path is, and where to put new path segments\n",
    "        stepsInPath = stepsInPath + stepsInPathSeg\n",
    "\n",
    "    return path[:,:stepsInPath]"
   ]
  },
  {
   "cell_type": "markdown",
   "metadata": {},
   "source": [
    "### Testing WSDTW Results"
   ]
  },
  {
   "cell_type": "code",
   "execution_count": 21,
   "metadata": {},
   "outputs": [],
   "source": [
    "WSDTWPath = WSDTW(F1, F2, 5)"
   ]
  },
  {
   "cell_type": "markdown",
   "metadata": {},
   "source": [
    "I will compare to results found using the cython implementation on the same random features matrices. Note that this will fail if the cython implementation hasn't been run the features"
   ]
  },
  {
   "cell_type": "code",
   "execution_count": 22,
   "metadata": {},
   "outputs": [
    {
     "data": {
      "text/plain": [
       "True"
      ]
     },
     "execution_count": 22,
     "metadata": {},
     "output_type": "execute_result"
    }
   ],
   "source": [
    "cythonWSDTWPath = np.load(\"implementation_test/cython_results/WSDTW\", allow_pickle = True)\n",
    "np.allclose(cythonWSDTWPath,WSDTWPath)"
   ]
  },
  {
   "cell_type": "code",
   "execution_count": 23,
   "metadata": {},
   "outputs": [],
   "source": [
    "#plt.imshow(C, origin=\"lower\");\n",
    "#plt.plot(WSDTWPath[1,:], WSDTWPath[0,:], 'r');"
   ]
  },
  {
   "cell_type": "markdown",
   "metadata": {},
   "source": [
    "The numba and cython implementations match :)"
   ]
  },
  {
   "cell_type": "markdown",
   "metadata": {},
   "source": [
    "## Strongly-ordered Segmental DTW"
   ]
  },
  {
   "cell_type": "code",
   "execution_count": 24,
   "metadata": {},
   "outputs": [],
   "source": [
    "@njit\n",
    "def SSDTW_Segment_Level_DTW(Cseg, Tseg):\n",
    "    '''\n",
    "    Performs the segment level DTW for strongly-ordered segmental DTW\n",
    "    Steps not required because they are variable based on Tseg\n",
    "    \n",
    "    Arguments:\n",
    "    Cseg -- The segment level cost matrix\n",
    "    Tseg -- A matrix where the i,jth entry is the column of the optimal path through segment i ending at column j.\n",
    "            This is used to determine the possible segment level steps that ensure strong ordering\n",
    "            \n",
    "    Returns:\n",
    "    Dseg -- The segment level accumulated cost matrix\n",
    "    Bseg -- The segment level backtrace matrix. Since steps are variable, the i, jth entry of the backtrace matrix\n",
    "            stores either -1 for a (1, 0) \"skip\" step or the colStep value of a (1, colStep) step ending at i,j\n",
    "    '''\n",
    "\n",
    "    # Define Relevant Variables\n",
    "    numRows = Cseg.shape[0]\n",
    "    numCols = Cseg.shape[1]\n",
    "    \n",
    "    # Set up accumulated cost matrix D and backtrace matrix B\n",
    "    Dseg = np.ones((numRows + 1, numCols + 1), dtype = np.float64) * MAX_FLOAT\n",
    "    Dseg[0,:] = 0\n",
    "    \n",
    "    # (0,1) transition by default\n",
    "    Bseg = np.zeros((numRows+1, numCols), dtype = np.int32) - 1\n",
    "    \n",
    "    # Fill up D and B\n",
    "    for row in range(1, numRows+1):\n",
    "        for col in range(1, numCols+1):\n",
    "            # (0,1) transition is skip with weight 0\n",
    "            skipCost = Dseg[row, col-1]\n",
    "            Dseg[row, col] = skipCost\n",
    "            \n",
    "            traverseStartCol = Tseg[row-1,col-1]\n",
    "            if traverseStartCol >= 0: # is it possible to traverse previous segment and end up here?\n",
    "                # Traverse segment with weight 1\n",
    "                traverseSegCost = Dseg[row-1, traverseStartCol] + Cseg[row-1, col-1]\n",
    "                # If traversing here is best option, store the column where the path starts\n",
    "                if traverseSegCost < skipCost:\n",
    "                    Dseg[row, col] = traverseSegCost\n",
    "                    # TraverseStartCol represents where to start backtracing in the next row\n",
    "                    Bseg[row, col-1] = traverseStartCol\n",
    "    \n",
    "    return Dseg[:,1:], Bseg"
   ]
  },
  {
   "cell_type": "code",
   "execution_count": 25,
   "metadata": {},
   "outputs": [],
   "source": [
    "@njit\n",
    "def SSDTW_Segment_Level_Backtrace(Dseg, Bseg):\n",
    "    '''\n",
    "    Backtraces through segments enforcing a strongly-ordered path\n",
    "    \n",
    "    Arguments:\n",
    "    Dseg -- The segmental accumulated cost matrix\n",
    "    Bseg -- The segmental backtrace matrix. Stores -1 for (0,1) transitions and colStep for (1, colStep) transitions\n",
    "    \n",
    "    Returns:\n",
    "    path -- A vector where the ith element is the column where the ith segment should end\n",
    "    '''\n",
    "    # Initialize variables\n",
    "    numRows = Dseg.shape[0]\n",
    "    numCols = Dseg.shape[1]\n",
    "    curRow = numRows - 1\n",
    "    curCol = numCols - 1\n",
    "    # Path will have one entry for every row except for the bottom one\n",
    "    path = np.zeros(numRows-1, dtype = np.uint32)\n",
    "    stepsInPath = 0\n",
    "    \n",
    "    # Backtrace until reaching bottom row\n",
    "    while curRow > 0:\n",
    "        # (1,0) \"skip\" transitions (-1 in Bseg) do not get added to path\n",
    "        if Bseg[curRow, curCol] < 0:\n",
    "            curCol = curCol - 1\n",
    "        # For segment traversals, store segment end location in the path.\n",
    "        else:\n",
    "            path[stepsInPath] = curCol\n",
    "            # Continue backtracing where the segment tranversal began\n",
    "            curCol = Bseg[curRow, curCol]\n",
    "            curRow = curRow - 1\n",
    "            stepsInPath = stepsInPath + 1\n",
    "    # Remember to flip the backtraced path\n",
    "    return path[::-1]"
   ]
  },
  {
   "cell_type": "code",
   "execution_count": 26,
   "metadata": {},
   "outputs": [],
   "source": [
    "@njit\n",
    "def calcTseg(D_i, B_i, Steps = subseqDTWDefaultSteps):\n",
    "    '''\n",
    "    Calculate a row of Tseg for SSDTW from the the accumulated cost and backtrace matrix for that segment\n",
    "    \n",
    "    Arguments:\n",
    "    D_i -- The accumulated cost matrix for the ith segment\n",
    "    B_i -- The backtrace matrix for the ith segment\n",
    "    Steps -- The available steps\n",
    "    \n",
    "    Returns:\n",
    "    Tseg_i -- The ith row of Tseg\n",
    "    '''\n",
    "    # Initializing variables\n",
    "    numRows = D_i.shape[0]\n",
    "    numCols = D_i.shape[1]\n",
    "    rowSteps = Steps[0,:]\n",
    "    colSteps = Steps[1,:]\n",
    "    # Default to -1, meaning no path ending at that location is possible\n",
    "    Tseg_i = np.zeros(numCols, dtype = np.uint32) - 1\n",
    "    \n",
    "    # Fill in Tseg_i by backtracing from each column\n",
    "    # backtrace from every location\n",
    "    for endCol in range(numCols):\n",
    "        curCol = endCol\n",
    "        curRow = numRows - 1\n",
    "        while curRow > 0:\n",
    "            if D_i[curRow, curCol] == MAX_FLOAT: # no valid path\n",
    "                Tseg_i[curCol] = -1\n",
    "                break\n",
    "\n",
    "            curStepIndex = B_i[curRow, curCol]\n",
    "            curRow = curRow - rowSteps[curStepIndex]\n",
    "            curCol = curCol - colSteps[curStepIndex]\n",
    "            if curRow == 0:\n",
    "                Tseg_i[endCol] = curCol\n",
    "    \n",
    "    return Tseg_i"
   ]
  },
  {
   "cell_type": "code",
   "execution_count": 27,
   "metadata": {},
   "outputs": [],
   "source": [
    "@njit\n",
    "def SSDTW(F1, F2, segments, Steps = subseqDTWDefaultSteps, weights = subseqDTWDefaultWeights):\n",
    "    '''\n",
    "    Aligns F1 and F2 with strictly-ordered segmental DTW\n",
    "    \n",
    "    Arguments:\n",
    "    F1 -- The query features matrix\n",
    "    F2 -- The reference features matrix\n",
    "    segments -- The number of segments\n",
    "    Steps -- The allowable steps\n",
    "    weights -- The weights of the steps\n",
    "    \n",
    "    Returns:\n",
    "    path -- The optimal strictly ordered segmental path\n",
    "    '''\n",
    "\n",
    "    # NOTE: This swap comes from the old code.\n",
    "    # It is not mentioned in the paper but seems important because of the strictly increasing nature of the path\n",
    "    # The swap is undone at the end of the function\n",
    "    swap = (F1.shape[1] > F2.shape[1])\n",
    "    if swap:\n",
    "        F1, F2 = F2, F1 # make the shorter sequence the query\n",
    "\n",
    "    if F2.shape[1] / F1.shape[1] >= 2: # no valid path possible\n",
    "        print(\"FAILURE - Feature sizes are too different to align with DTW\")\n",
    "        return\n",
    "    \n",
    "    # Compute Cost\n",
    "    # NOTE: This could also be done segment by segment.\n",
    "    # I am doing it all up front to match the implementation in the old code.\n",
    "    C = 1 - F1.T @ F2\n",
    "    # Subsequence DTW each segment without backtracing\n",
    "    segLength = int(np.ceil(F1.shape[1] / segments))\n",
    "    Cseg = np.zeros((segments, C.shape[1]), dtype = np.float64)\n",
    "    Tseg = np.zeros((segments, F2.shape[1]), dtype=np.int32)\n",
    "    Dparts = []\n",
    "    Bparts = []\n",
    "\n",
    "    for i in range(segments):\n",
    "        segStart = i * segLength\n",
    "        segEnd = min(segStart + segLength, C.shape[0])\n",
    "        # Ensuring that the segment is contiguous here ensures best performance in later computations\n",
    "        currentSeg = np.ascontiguousarray(C[segStart:segEnd,:])\n",
    "        D_i, B_i = DTW_Cost_To_DandB(currentSeg, Steps = Steps, weights = weights, subsequence = True)\n",
    "        \n",
    "        # Store D_i and B_i for segment and construct Cseg\n",
    "        Dparts.append(D_i)\n",
    "        Bparts.append(B_i)\n",
    "        \n",
    "        # NOTE: May need to separate these into different loop for runtime profiling\n",
    "        Cseg[i,:] = D_i[-1,:]\n",
    "        Tseg[i,:] = calcTseg(D_i, B_i, Steps=Steps)\n",
    "\n",
    "    # run segment-level DTW (Not subsequence)\n",
    "    Dseg, Bseg = SSDTW_Segment_Level_DTW(Cseg, Tseg)\n",
    "    segmentEndIdxs = SSDTW_Segment_Level_Backtrace(Dseg, Bseg)\n",
    "    \n",
    "    # Frame level backtrace segment by segment\n",
    "    # Initialize path: make as large as could need, then chop at the end\n",
    "    path = np.zeros((2, F1.shape[1] + F2.shape[1]), dtype=np.uint32)\n",
    "    stepsInPath = 0\n",
    "    for i, endidx in enumerate(segmentEndIdxs):\n",
    "        pathSeg = DTW_Backtrace(Dparts[i], Bparts[i], Steps = Steps, subsequence = True, startCol = endidx)\n",
    "\n",
    "        # Add offset to row indices so they match with overall path\n",
    "        pathSeg[0,:] = pathSeg[0,:] + (i * segLength)\n",
    "\n",
    "        # Append fragment to full path\n",
    "        stepsInPathSeg = pathSeg.shape[1]\n",
    "        path[:,stepsInPath:stepsInPath+stepsInPathSeg] = pathSeg\n",
    "        \n",
    "        # stepsInPath keeps track of how long the path is, and where to put new path segments\n",
    "        stepsInPath = stepsInPath + stepsInPathSeg\n",
    "\n",
    "    # Again, this swap is based on the old implementation\n",
    "    if swap:\n",
    "        path = np.flipud(path) # undo swap\n",
    "                    \n",
    "    return path[:,:stepsInPath]"
   ]
  },
  {
   "cell_type": "code",
   "execution_count": 28,
   "metadata": {},
   "outputs": [
    {
     "data": {
      "text/plain": [
       "True"
      ]
     },
     "execution_count": 28,
     "metadata": {},
     "output_type": "execute_result"
    }
   ],
   "source": [
    "cythonSSDTWPath_small = np.load(\"implementation_test/cython_results/SSDTW_small\", allow_pickle = True)\n",
    "SSDTWPath_small = SSDTW(F3, F4, 5)\n",
    "np.allclose(cythonSSDTWPath_small, SSDTWPath_small)"
   ]
  },
  {
   "cell_type": "code",
   "execution_count": 29,
   "metadata": {},
   "outputs": [],
   "source": [
    "C2 = 1 - F3.T @ F4"
   ]
  },
  {
   "cell_type": "code",
   "execution_count": 30,
   "metadata": {
    "scrolled": true
   },
   "outputs": [],
   "source": [
    "#plt.imshow(C2, origin=\"lower\");\n",
    "#plt.plot(cythonSSDTWPath_small[1,:], cythonSSDTWPath_small[0,:], 'r');"
   ]
  },
  {
   "cell_type": "code",
   "execution_count": 31,
   "metadata": {},
   "outputs": [
    {
     "data": {
      "text/plain": [
       "True"
      ]
     },
     "execution_count": 31,
     "metadata": {},
     "output_type": "execute_result"
    }
   ],
   "source": [
    "cythonSSDTWPath = np.load(\"implementation_test/cython_results/SSDTW\", allow_pickle = True)\n",
    "SSDTWPath = SSDTW(F1, F2, 5)\n",
    "np.allclose(cythonSSDTWPath, SSDTWPath)"
   ]
  },
  {
   "cell_type": "code",
   "execution_count": null,
   "metadata": {},
   "outputs": [],
   "source": []
  }
 ],
 "metadata": {
  "kernelspec": {
   "display_name": "SubDTWEnvironment",
   "language": "python",
   "name": "subdtwenvironment"
  },
  "language_info": {
   "codemirror_mode": {
    "name": "ipython",
    "version": 3
   },
   "file_extension": ".py",
   "mimetype": "text/x-python",
   "name": "python",
   "nbconvert_exporter": "python",
   "pygments_lexer": "ipython3",
   "version": "3.7.7"
  }
 },
 "nbformat": 4,
 "nbformat_minor": 4
}
