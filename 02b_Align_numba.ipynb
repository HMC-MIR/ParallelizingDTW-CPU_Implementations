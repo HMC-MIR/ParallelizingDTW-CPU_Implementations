{
 "cells": [
  {
   "cell_type": "markdown",
   "metadata": {},
   "source": [
    "This file implements DTW, Subsequence DTW, NSDTW, WSDTW, and SSDTW"
   ]
  },
  {
   "cell_type": "code",
   "execution_count": 1,
   "metadata": {},
   "outputs": [],
   "source": [
    "%matplotlib inline"
   ]
  },
  {
   "cell_type": "code",
   "execution_count": 2,
   "metadata": {},
   "outputs": [],
   "source": [
    "import numpy as np\n",
    "import matplotlib.pyplot as plt\n",
    "import librosa as lb\n",
    "import os.path\n",
    "from pathlib import Path\n",
    "import pickle\n",
    "import multiprocessing\n",
    "import time\n",
    "import gc\n",
    "from numba import jit, njit, float64, uint32, boolean"
   ]
  },
  {
   "cell_type": "markdown",
   "metadata": {},
   "source": [
    "## DTW and Subsequence DTW"
   ]
  },
  {
   "cell_type": "code",
   "execution_count": 3,
   "metadata": {},
   "outputs": [],
   "source": [
    "DTWDefaultSteps = np.array([[1, 1, 2],\n",
    "                            [1, 2, 1]], dtype = np.uint32)\n",
    "\n",
    "DTWDefaultWeights = np.array([2, 3, 3], dtype = np.float64)\n",
    "\n",
    "\n",
    "subseqDTWDefaultSteps = np.array([[1, 1, 2],\n",
    "                                  [1, 2, 1]], dtype = np.uint32)\n",
    "\n",
    "subseqDTWDefaultWeights = np.array([1, 1, 2], dtype = np.float64)\n",
    "\n",
    "\n",
    "MAX_FLOAT = float('inf')"
   ]
  },
  {
   "cell_type": "code",
   "execution_count": 4,
   "metadata": {},
   "outputs": [],
   "source": [
    "# njit is equivalent to jit(nopython=True)\n",
    "# This forces numba to compile in nopython mode, which is faster\n",
    "\n",
    "# This line enforces input types. However, it does not work with optional parameters\n",
    "#@njit((float64[:,::1], uint32[:,::1], float64[:], boolean))\n",
    "\n",
    "@njit\n",
    "def DTW_Cost_To_DAndB(C, Steps = DTWDefaultSteps, weights = DTWDefaultWeights, subsequence=False):\n",
    "    '''\n",
    "    Find the accumulated cost matrix and backtrace matrix from a cost matrix using Dynamic time warping\n",
    "    \n",
    "    Arguments:\n",
    "    C -- The Cost matrix\n",
    "    Steps -- The available steps, where the first row is the row steps, the second row is the column steps\n",
    "    weights -- The weights of the steps\n",
    "    subsequence -- True if subsequence DTW should be performed rather than standard DTW\n",
    "             \n",
    "    Returns:\n",
    "    D -- The accumulated cost matrix\n",
    "    B -- The backtrace matrix\n",
    "    '''\n",
    "    \n",
    "    '''\n",
    "    Section for verifying input\n",
    "    '''\n",
    "    #Ensure parameters have correct dtypes and dimensions\n",
    "    try:\n",
    "        C = C.astype(np.float64)\n",
    "        assert C.ndim == 2\n",
    "    except:\n",
    "        print(\"FAILURE: The type of the cost matrix is wrong - please pass in a 2-d numpy array\")\n",
    "        return\n",
    "\n",
    "    try:\n",
    "        Steps = Steps.astype(np.uint32)\n",
    "        assert Steps.ndim == 2\n",
    "    except:\n",
    "        print(\"FAILURE: The type of the steps matrix is wrong - please pass in a 2-d numpy array\")\n",
    "        return\n",
    "\n",
    "    try:\n",
    "        weights = weights.astype(np.float64)\n",
    "        assert weights.ndim == 1\n",
    "    except:\n",
    "        print(\"FAILURE: The type of the steps matrix is wrong - please pass in a 2-d numpy array\")\n",
    "        return\n",
    "    \n",
    "    # Ensure steps and weights sizes are appropriate\n",
    "    stepsShape = Steps.shape\n",
    "    numDifSteps = len(weights)\n",
    "    \n",
    "    if stepsShape[0] != 2:\n",
    "        print(\"FAILURE: The size of the steps matrix is wrong - please pass in a 2-d numpy array with 2 rows\")\n",
    "        return\n",
    "    if stepsShape[1] != numDifSteps:\n",
    "        print(\"FAILURE: The number of steps and weights do not line up - please make sure that there are the same number of steps and weights\")\n",
    "        return\n",
    "    \n",
    "    '''\n",
    "    Algorithm\n",
    "    '''\n",
    "    # Separate steps\n",
    "    rowSteps = Steps[0,:]\n",
    "    colSteps = Steps[1,:]\n",
    "\n",
    "    # Define Relevant Variables\n",
    "    numRows = C.shape[0]\n",
    "    numCols = C.shape[1]\n",
    "    \n",
    "    numDifSteps = len(weights)\n",
    "    maxRowStep = max(rowSteps)\n",
    "    maxColStep = max(colSteps)\n",
    "    \n",
    "    # Set up accumulated cost matrix D and backtrace matrix B\n",
    "    D = np.ones((numRows + maxRowStep, numCols + maxColStep), dtype = np.float64) * MAX_FLOAT\n",
    "    B = np.zeros((numRows, numCols), dtype = np.uint32)\n",
    "    \n",
    "    # Fill up D and B\n",
    "    if subsequence:  # Initialize entire bottom row of D for subsequence\n",
    "        D[maxRowStep, maxColStep:] = C[0,:]\n",
    "    else:\n",
    "        D[maxRowStep, maxColStep] = C[0,0]  # Initialize bottom corner if for standard DTW\n",
    "    for row in range(maxRowStep, numRows + maxRowStep, 1):\n",
    "        for col in range(maxColStep, numCols + maxColStep, 1):\n",
    "            bestCost = D[row, col]\n",
    "            bestCostIndex = 0\n",
    "            # Go through each step, find the best one\n",
    "            for stepIndex in range(numDifSteps):\n",
    "                costForStep = D[row - rowSteps[stepIndex], col - colSteps[stepIndex]] + weights[stepIndex] * C[row - maxRowStep, col - maxColStep]\n",
    "                if costForStep < bestCost:\n",
    "                    bestCost = costForStep\n",
    "                    bestCostIndex = stepIndex\n",
    "            # Save best cost and step\n",
    "            D[row,col] = bestCost\n",
    "            B[row - maxRowStep, col - maxColStep] = bestCostIndex\n",
    "    \n",
    "    # Return accumulated cost matrix D and backtrace matrix B\n",
    "    return D[maxRowStep:, maxColStep:], B"
   ]
  },
  {
   "cell_type": "code",
   "execution_count": 5,
   "metadata": {},
   "outputs": [],
   "source": [
    "# This line enforces input types. However, it does not work with optional parameters\n",
    "#@njit((float64[:,::1], uint32[:,::1], uint32[:,::1], boolean, uint32))\n",
    "\n",
    "@njit\n",
    "def DTW_Backtrace(D, B, Steps=DTWDefaultSteps, subsequence=False, startCol=-1):\n",
    "    '''\n",
    "    Backtrace through an accumulated cost matrix and backtrace matrix to find a path\n",
    "    \n",
    "    Arguments:\n",
    "    D -- The accumulated cost matrix\n",
    "    B -- The backtrace matrix\n",
    "    Steps -- The available steps\n",
    "    subsequence -- True if subsequence DTW should be performed rather than standard DTW\n",
    "    startCol -- The column to begin backtracing from, or -1 if not specified\n",
    "    \n",
    "    Returns:\n",
    "    fwdPath -- A 2d numpy array storing the optimal path. The first row is the path through the rows.\n",
    "            The second row is the path through the columns\n",
    "    endCol -- The last column in the path\n",
    "    endCost -- The accumulated cost at the end of the path\n",
    "    '''\n",
    "    \n",
    "    '''\n",
    "    Section for verifying input\n",
    "    '''\n",
    "    # Ensure parameters have correct dtypes and dimensions\n",
    "    try:\n",
    "        D = D.astype(np.float64)\n",
    "        assert D.ndim == 2\n",
    "    except:\n",
    "        print(\"FAILURE: The type of the accumulated cost matrix is wrong - please pass in a 2-d numpy array\")\n",
    "        return\n",
    "\n",
    "    try:\n",
    "        B = B.astype(np.uint32)\n",
    "        assert B.ndim == 2\n",
    "    except:\n",
    "        print(\"FAILURE: The type of the backtrace matrix is wrong - please pass in a 2-d numpy array\")\n",
    "        return\n",
    "    \n",
    "    try:\n",
    "        Steps = Steps.astype(np.uint32)\n",
    "        assert Steps.ndim == 2\n",
    "    except:\n",
    "        print(\"FAILURE: The type of the steps matrix is wrong - please pass in a 2-d numpy array\")\n",
    "        return\n",
    "\n",
    "    # Ensure that D and B are the same shape\n",
    "    if D.shape != B.shape:\n",
    "        print(\"FAILURE: The accumulated cost matrix and backtrace matrix are not the same size - please make sure their sizes match\")\n",
    "        return\n",
    "    \n",
    "    \n",
    "    '''\n",
    "    Backtrace through D and B\n",
    "    '''\n",
    "    # Separate steps\n",
    "    rowSteps = Steps[0,:]\n",
    "    colSteps = Steps[1,:]\n",
    "    \n",
    "    # Initialize variables\n",
    "    numRows = D.shape[0]\n",
    "    numCols = D.shape[1]\n",
    "    \n",
    "    curRow = numRows - 1  # Always start at last row\n",
    "    curCol = numCols - 1  # Standard DTW: Start at top-right corner\n",
    "    if startCol > 0:\n",
    "        curCol = startCol\n",
    "    elif subsequence:  # Subsequence: Choose lowest cost of top row\n",
    "        curCol = np.argmin(D[numRows-1,:])\n",
    "    \n",
    "    endCol = curCol\n",
    "    endCost = D[curRow, curCol]\n",
    "    stepsInPath = 1\n",
    "    stepIndex = 0\n",
    "    done = (subsequence and curRow == 0) or (curRow == 0 and curCol == 0)\n",
    "    path = np.zeros((2, numRows + numCols), dtype=np.uint32) # make as large as could need, then chop at the end\n",
    "    path[0, 0] = curRow\n",
    "    path[1, 0] = curCol\n",
    "    \n",
    "    # Backtrace\n",
    "    while not done:\n",
    "        if D[curRow, curCol] == MAX_FLOAT:  # No path exists to current location\n",
    "            print('A path is not possible')\n",
    "            break\n",
    "        \n",
    "        # you're done if you've made it to the bottom left (non sub-sequence)\n",
    "        # or just the bottom (sub-sequence)\n",
    "        # find the step size\n",
    "        curStepIndex = B[curRow, curCol]\n",
    "        curRowStep = rowSteps[curStepIndex]\n",
    "        curColStep = colSteps[curStepIndex]\n",
    "        # backtrack by 1 step\n",
    "        curRow = curRow - curRowStep\n",
    "        curCol = curCol - curColStep\n",
    "        # add your new location onto the path\n",
    "        path[0, stepsInPath] = curRow\n",
    "        path[1, stepsInPath] = curCol\n",
    "        stepsInPath = stepsInPath + 1\n",
    "        # check to see if you're done\n",
    "        done = (subsequence and curRow == 0) or (curRow == 0 and curCol == 0)\n",
    "        \n",
    "    # reverse the path (a matrix with two rows) and return it\n",
    "    fwdPath = np.fliplr(path[:, 0:stepsInPath])\n",
    "    return fwdPath#[fwdPath, endCol, endCost]"
   ]
  },
  {
   "cell_type": "code",
   "execution_count": 6,
   "metadata": {},
   "outputs": [],
   "source": [
    "def DTW(F1, F2, Steps = DTWDefaultSteps, weights = DTWDefaultWeights, subsequence = False):\n",
    "    '''\n",
    "    \n",
    "    '''\n",
    "    # Compute Cost Matrix\n",
    "    C = 1 - F1.T @ F2 # cos distance metric\n",
    "    \n",
    "    # Get D and B\n",
    "    D, B = DTW_Cost_To_DAndB(C, Steps = Steps, weights = weights, subsequence=subsequence)\n",
    "    \n",
    "    # Backtrace\n",
    "    path = DTW_Backtrace(D, B, Steps=Steps, subsequence=subsequence)\n",
    "    \n",
    "    return path"
   ]
  },
  {
   "cell_type": "markdown",
   "metadata": {},
   "source": [
    "### Test DTW on Random Feature Matrices"
   ]
  },
  {
   "cell_type": "code",
   "execution_count": 7,
   "metadata": {},
   "outputs": [],
   "source": [
    "F1 = np.random.rand(12, 10000)\n",
    "norm_factor = np.sqrt(np.sum(F1*F1, axis=0))\n",
    "F1 = F1 / norm_factor\n",
    "\n",
    "F2 = np.random.rand(12, 10000)\n",
    "norm_factor = np.sqrt(np.sum(F2*F2, axis=0))\n",
    "F2 = F2 / norm_factor"
   ]
  },
  {
   "cell_type": "code",
   "execution_count": 8,
   "metadata": {},
   "outputs": [],
   "source": [
    "path = DTW(F1, F2)"
   ]
  },
  {
   "cell_type": "code",
   "execution_count": 9,
   "metadata": {},
   "outputs": [],
   "source": [
    "Dlb, wp = lb.sequence.dtw(F1, F2, metric = 'cosine', step_sizes_sigma=DTWDefaultSteps.T, weights_mul = DTWDefaultWeights)"
   ]
  },
  {
   "cell_type": "code",
   "execution_count": 10,
   "metadata": {},
   "outputs": [
    {
     "data": {
      "text/plain": [
       "True"
      ]
     },
     "execution_count": 10,
     "metadata": {},
     "output_type": "execute_result"
    }
   ],
   "source": [
    "np.allclose(path, np.fliplr(wp.T))"
   ]
  },
  {
   "cell_type": "markdown",
   "metadata": {},
   "source": [
    "As desired, our implementation's output matches the output from librosa"
   ]
  },
  {
   "cell_type": "markdown",
   "metadata": {},
   "source": [
    "### Test Subsequence DTW on Random Feature Matrices"
   ]
  },
  {
   "cell_type": "code",
   "execution_count": 11,
   "metadata": {},
   "outputs": [],
   "source": [
    "SDTWpath = DTW(F1[0:2000], F2, Steps = subseqDTWDefaultSteps, weights=subseqDTWDefaultWeights, subsequence=True)"
   ]
  },
  {
   "cell_type": "code",
   "execution_count": 12,
   "metadata": {},
   "outputs": [],
   "source": [
    "SDTWDlb, SDTWwp = lb.sequence.dtw(F1[0:2000], F2, metric = 'cosine', step_sizes_sigma=subseqDTWDefaultSteps.T, weights_mul = subseqDTWDefaultWeights, subseq=True)"
   ]
  },
  {
   "cell_type": "code",
   "execution_count": 13,
   "metadata": {},
   "outputs": [
    {
     "data": {
      "text/plain": [
       "True"
      ]
     },
     "execution_count": 13,
     "metadata": {},
     "output_type": "execute_result"
    }
   ],
   "source": [
    "np.allclose(SDTWpath, np.fliplr(SDTWwp.T))"
   ]
  },
  {
   "cell_type": "markdown",
   "metadata": {},
   "source": [
    "As desired, our implementation's output matches the output from librosa"
   ]
  },
  {
   "cell_type": "code",
   "execution_count": null,
   "metadata": {},
   "outputs": [],
   "source": []
  }
 ],
 "metadata": {
  "kernelspec": {
   "display_name": "SubDTWEnvironment",
   "language": "python",
   "name": "subdtwenvironment"
  },
  "language_info": {
   "codemirror_mode": {
    "name": "ipython",
    "version": 3
   },
   "file_extension": ".py",
   "mimetype": "text/x-python",
   "name": "python",
   "nbconvert_exporter": "python",
   "pygments_lexer": "ipython3",
   "version": "3.7.7"
  }
 },
 "nbformat": 4,
 "nbformat_minor": 4
}
