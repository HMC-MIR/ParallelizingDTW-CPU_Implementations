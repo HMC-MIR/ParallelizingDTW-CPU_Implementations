{
 "cells": [
  {
   "cell_type": "code",
   "execution_count": 1,
   "metadata": {},
   "outputs": [],
   "source": [
    "import numpy as np\n",
    "import scipy.spatial.distance as dist\n",
    "import matplotlib.pyplot as plt\n",
    "import librosa as lb\n",
    "import os.path\n",
    "from pathlib import Path\n",
    "import pickle\n",
    "import multiprocessing\n",
    "import time\n",
    "import gc\n",
    "from numba import jit, njit, cuda, float64, uint32\n",
    "import torch\n",
    "import timeit"
   ]
  },
  {
   "cell_type": "code",
   "execution_count": 2,
   "metadata": {},
   "outputs": [],
   "source": [
    "DTWDefaultSteps = np.array([[1, 1, 2],\n",
    "                            [1, 2, 1]], dtype = np.uint32)\n",
    "\n",
    "DTWDefaultWeights = np.array([2, 3, 3], dtype = np.float64)\n",
    "\n",
    "\n",
    "subseqDTWDefaultSteps = np.array([[1, 1, 2],\n",
    "                                  [1, 2, 1]], dtype = np.float64)\n",
    "\n",
    "subseqDTWDefaultWeights = np.array([1, 1, 2], dtype = np.float64)\n",
    "\n",
    "\n",
    "MAX_FLOAT = float('inf')"
   ]
  },
  {
   "cell_type": "code",
   "execution_count": 12,
   "metadata": {},
   "outputs": [],
   "source": [
    "featureFile1 = \"implementation_test/test_features/Features_1.npy\"\n",
    "featureFile2 = \"implementation_test/test_features/Features_2.npy\"\n",
    "featureFile3 = \"implementation_test/test_features/Features_3.npy\"\n",
    "featureFile4 = \"implementation_test/test_features/Features_4.npy\""
   ]
  },
  {
   "cell_type": "code",
   "execution_count": 4,
   "metadata": {},
   "outputs": [],
   "source": [
    "@njit\n",
    "def DTW_Cost_To_DandB(C, Steps = DTWDefaultSteps, weights = DTWDefaultWeights, subsequence=False):\n",
    "    '''\n",
    "    Find the accumulated cost matrix and backtrace matrix from a cost matrix using Dynamic time warping\n",
    "    \n",
    "    Arguments:\n",
    "    C -- The Cost matrix\n",
    "    Steps -- The available steps, where the first row is the row steps, the second row is the column steps\n",
    "    weights -- The weights of the steps\n",
    "    subsequence -- True if subsequence DTW should be performed rather than standard DTW\n",
    "             \n",
    "    Returns:\n",
    "    D -- The accumulated cost matrix\n",
    "    B -- The backtrace matrix\n",
    "    '''\n",
    "    '''\n",
    "    Section for verifying input\n",
    "    '''\n",
    "    # Ensure parameters have correct dtypes and dimensions\n",
    "    try:\n",
    "        C = C.astype(np.float64)\n",
    "        assert C.ndim == 2\n",
    "    except:\n",
    "        print(\"FAILURE: The type of the cost matrix is wrong - please pass in a 2-d numpy array\")\n",
    "        return\n",
    "\n",
    "    try:\n",
    "        Steps = Steps.astype(np.uint32)\n",
    "        assert Steps.ndim == 2\n",
    "    except:\n",
    "        print(\"FAILURE: The type of the steps matrix is wrong - please pass in a 2-d numpy array\")\n",
    "        return\n",
    "\n",
    "    try:\n",
    "        weights = weights.astype(np.float64)\n",
    "        assert weights.ndim == 1\n",
    "    except:\n",
    "        print(\"FAILURE: The type of the steps matrix is wrong - please pass in a 2-d numpy array\")\n",
    "        return\n",
    "    \n",
    "    # Ensure steps and weights sizes are appropriate\n",
    "    stepsShape = Steps.shape\n",
    "    numDifSteps = len(weights)\n",
    "    \n",
    "    if stepsShape[0] != 2:\n",
    "        print(\"FAILURE: The size of the steps matrix is wrong - please pass in a 2-d numpy array with 2 rows\")\n",
    "        return\n",
    "    if stepsShape[1] != numDifSteps:\n",
    "        print(\"FAILURE: The number of steps and weights do not line up - please make sure that there are the same number of steps and weights\")\n",
    "        return\n",
    "    \n",
    "    '''\n",
    "    Algorithm\n",
    "    '''\n",
    "    # Separate steps\n",
    "    rowSteps = Steps[0,:]\n",
    "    colSteps = Steps[1,:]\n",
    "\n",
    "    # Define Relevant Variables\n",
    "    numRows = C.shape[0]\n",
    "    numCols = C.shape[1]\n",
    "    \n",
    "    numDifSteps = len(weights)\n",
    "    maxRowStep = max(rowSteps)\n",
    "    maxColStep = max(colSteps)\n",
    "    \n",
    "    # Set up accumulated cost matrix D and backtrace matrix B\n",
    "    D = np.ones((numRows + maxRowStep, numCols + maxColStep), dtype = np.float64) * MAX_FLOAT\n",
    "    B = np.zeros((numRows, numCols), dtype = np.uint32)\n",
    "    \n",
    "    # Fill up D and B\n",
    "    if subsequence:  # Initialize entire bottom row of D for subsequence\n",
    "        D[maxRowStep, maxColStep:] = C[0,:]\n",
    "    else:\n",
    "        D[maxRowStep, maxColStep] = C[0,0]  # Initialize bottom corner if for standard DTW\n",
    "    for row in range(maxRowStep, numRows + maxRowStep, 1):\n",
    "        for col in range(maxColStep, numCols + maxColStep, 1):\n",
    "            bestCost = D[row, col]\n",
    "            bestCostIndex = 0\n",
    "            # Go through each step, find the best one\n",
    "            for stepIndex in range(numDifSteps):\n",
    "                costForStep = D[row - rowSteps[stepIndex], col - colSteps[stepIndex]] + weights[stepIndex] * C[row - maxRowStep, col - maxColStep]\n",
    "                if costForStep < bestCost:\n",
    "                    bestCost = costForStep\n",
    "                    bestCostIndex = stepIndex\n",
    "            # Save best cost and step\n",
    "            D[row,col] = bestCost\n",
    "            B[row - maxRowStep, col - maxColStep] = bestCostIndex\n",
    "    \n",
    "    # Return accumulated cost matrix D and backtrace matrix B\n",
    "    return D[maxRowStep:, maxColStep:], B"
   ]
  },
  {
   "cell_type": "code",
   "execution_count": 5,
   "metadata": {},
   "outputs": [],
   "source": [
    "@njit\n",
    "def DTW_Backtrace(D, B, Steps=DTWDefaultSteps, subsequence=False, startCol=-1):\n",
    "    '''\n",
    "    Backtrace through an accumulated cost matrix and backtrace matrix to find a path\n",
    "    \n",
    "    Arguments:\n",
    "    D -- The accumulated cost matrix\n",
    "    B -- The backtrace matrix\n",
    "    Steps -- The available steps\n",
    "    subsequence -- True if subsequence DTW should be performed rather than standard DTW\n",
    "    startCol -- The column to begin backtracing from, or -1 if not specified\n",
    "    \n",
    "    Returns:\n",
    "    fwdPath -- A 2d numpy array storing the optimal path. The first row is the path through the rows.\n",
    "            The second row is the path through the columns\n",
    "    '''\n",
    "    '''\n",
    "    Section for verifying input\n",
    "    '''\n",
    "    # Ensure parameters have correct dtypes and dimensions\n",
    "    try:\n",
    "        D = D.astype(np.float64)\n",
    "        assert D.ndim == 2\n",
    "    except:\n",
    "        print(\"FAILURE: The type of the accumulated cost matrix is wrong - please pass in a 2-d numpy array\")\n",
    "        return\n",
    "\n",
    "    try:\n",
    "        B = B.astype(np.uint32)\n",
    "        assert B.ndim == 2\n",
    "    except:\n",
    "        print(\"FAILURE: The type of the backtrace matrix is wrong - please pass in a 2-d numpy array\")\n",
    "        return\n",
    "    \n",
    "    try:\n",
    "        Steps = Steps.astype(np.uint32)\n",
    "        assert Steps.ndim == 2\n",
    "    except:\n",
    "        print(\"FAILURE: The type of the steps matrix is wrong - please pass in a 2-d numpy array\")\n",
    "        return\n",
    "\n",
    "    # Ensure that D and B are the same shape\n",
    "    if D.shape != B.shape:\n",
    "        print(\"FAILURE: The accumulated cost matrix and backtrace matrix are not the same size - please make sure their sizes match\")\n",
    "        return\n",
    "    \n",
    "    \n",
    "    '''\n",
    "    Backtrace through D and B\n",
    "    '''\n",
    "    # Separate steps\n",
    "    rowSteps = Steps[0,:]\n",
    "    colSteps = Steps[1,:]\n",
    "    \n",
    "    # Initialize variables\n",
    "    numRows = D.shape[0]\n",
    "    numCols = D.shape[1]\n",
    "    \n",
    "    curRow = numRows - 1  # Always start at last row\n",
    "    curCol = numCols - 1  # Standard DTW: Start at top-right corner\n",
    "    if startCol > 0:\n",
    "        curCol = startCol\n",
    "    elif subsequence:  # Subsequence: Choose lowest cost of top row\n",
    "        curCol = np.argmin(D[numRows-1,:])\n",
    "    \n",
    "    endCol = curCol\n",
    "    endCost = D[curRow, curCol]\n",
    "    stepsInPath = 1\n",
    "    stepIndex = 0\n",
    "    done = (subsequence and curRow == 0) or (curRow == 0 and curCol == 0)\n",
    "    path = np.zeros((2, numRows + numCols), dtype=np.uint32) # make as large as could need, then chop at the end\n",
    "    path[0, 0] = curRow\n",
    "    path[1, 0] = curCol\n",
    "    # Backtrace\n",
    "    while not done:\n",
    "        if D[curRow, curCol] == MAX_FLOAT:  # No path exists to current location\n",
    "            return\n",
    "        \n",
    "        # you're done if you've made it to the bottom left (non sub-sequence)\n",
    "        # or just the bottom (sub-sequence)\n",
    "        # find the step size\n",
    "        curStepIndex = B[curRow, curCol]\n",
    "        curRowStep = rowSteps[curStepIndex]\n",
    "        curColStep = colSteps[curStepIndex]\n",
    "        # backtrack by 1 step\n",
    "        curRow = curRow - curRowStep\n",
    "        curCol = curCol - curColStep\n",
    "        # add your new location onto the path\n",
    "        path[0, stepsInPath] = curRow\n",
    "        path[1, stepsInPath] = curCol\n",
    "        stepsInPath = stepsInPath + 1\n",
    "        # check to see if you're done\n",
    "        done = (subsequence and curRow == 0) or (curRow == 0 and curCol == 0)\n",
    "    # reverse the path (a matrix with two rows) and return it\n",
    "    fwdPath = np.fliplr(path[:, 0:stepsInPath])\n",
    "    return fwdPath\n",
    "    #return fwdPath, endCol, endCost"
   ]
  },
  {
   "cell_type": "code",
   "execution_count": 6,
   "metadata": {},
   "outputs": [],
   "source": [
    "@njit\n",
    "def getSegmentEndingLocs(wp):\n",
    "    '''\n",
    "    Takes in a segment level path through and returns the columns where each segment ends\n",
    "    \n",
    "    Arguments:\n",
    "    wp -- A segment level path (as a 2d numpy array with 2 rows)\n",
    "    \n",
    "    Returns:\n",
    "    endLocs -- A list where the ith entry is the column where the ith segment ends\n",
    "    '''\n",
    "    prevLoc = wp[:,0] # [r,c]\n",
    "    endLocs = []\n",
    "    for i in range(wp.shape[1]):\n",
    "        curLoc = wp[:,i]\n",
    "        if curLoc[0] != prevLoc[0]: # if row changes\n",
    "            endLocs.append(curLoc[1])\n",
    "        prevLoc = curLoc\n",
    "        \n",
    "    return endLocs"
   ]
  },
  {
   "cell_type": "code",
   "execution_count": 7,
   "metadata": {},
   "outputs": [],
   "source": [
    "@cuda.jit\n",
    "def GPU_DTW_shared(D, B, C, segLength, steps, weights):\n",
    "    '''\n",
    "    '''\n",
    "    # Extract segments into shared memory\n",
    "    i = cuda.grid(1)\n",
    "    \n",
    "    # init shared matrices\n",
    "    #C_frag = cuda.shared.array((segLength,C.shape[1]), float64)\n",
    "    #D_frag = cuda.shared.array((segLength,C.shape[1]), float64)\n",
    "    C_shared = cuda.shared.array(shape=0, dtype=float64)\n",
    "    \n",
    "    segWidth = C.shape[1]\n",
    "    \n",
    "    #C_shared = np.zeros(segWidth*segLength*2 + 9, dtype = np.float64)\n",
    "    \n",
    "    \n",
    "    COffset = 9\n",
    "    DOffset = segWidth*segLength + COffset\n",
    "    # fill matrices\n",
    "    for r in range(segLength):\n",
    "        for c in range(segWidth):\n",
    "            C_shared[COffset+r*segWidth+c] = C[int(min(i*segLength+r, C.shape[0])), c]\n",
    "            C_shared[DOffset+r*segWidth+c] = D[int(min(i*segLength+r, C.shape[0])), c]\n",
    "    \n",
    "    for j in range(steps.shape[0]):\n",
    "        for k in range(steps.shape[1]):\n",
    "            C_shared[3*j + k] = steps[j,k]\n",
    "            \n",
    "    for j in range(len(weights)):\n",
    "        C_shared[6 + j] = weights[j]\n",
    "\n",
    "    \n",
    "    # Run DTW\n",
    "    \n",
    "    numSteps = 3\n",
    "    \n",
    "    # Fill up D and B\n",
    "    for c in range(segWidth): # subsequence init\n",
    "        C_shared[DOffset+c] = C_shared[COffset+c] \n",
    "    \n",
    "    for row in range(segLength):\n",
    "        for col in range(segWidth):\n",
    "            bestCost = C_shared[DOffset+row*segWidth+col]\n",
    "            bestCostIndex = 0\n",
    "            # Go through each step, find the best one\n",
    "            for stepIndex in range(numSteps):\n",
    "                if row - C_shared[stepIndex] < 0 or col - C_shared[numSteps+stepIndex] < 0:\n",
    "                    continue\n",
    "                \n",
    "                costForStep = C_shared[int(DOffset + (row - C_shared[stepIndex]) * segWidth + col \\\n",
    "                            - C_shared[numSteps + stepIndex])] + C_shared[int(2 * numSteps + stepIndex)] * \\\n",
    "                            C_shared[int(COffset + row*segWidth + col)]\n",
    "                \n",
    "                if costForStep < bestCost:\n",
    "                    bestCost = costForStep\n",
    "                    bestCostIndex = stepIndex\n",
    "            # Save best cost and step\n",
    "            C_shared[DOffset + row * segWidth + col] = bestCost\n",
    "            B[row + i*segLength, col] = bestCostIndex\n",
    "    \n",
    "    # Copy D and B segments into global memory\n",
    "    for r in range(segLength):\n",
    "        if (i*segLength + r == C.shape[0]):\n",
    "            break\n",
    "        for c in range(segWidth):\n",
    "            D[i*segLength+r, c] = C_shared[DOffset + r * segWidth + c]"
   ]
  },
  {
   "cell_type": "code",
   "execution_count": 8,
   "metadata": {},
   "outputs": [],
   "source": [
    "@cuda.jit\n",
    "def GPU_DTW_global(D, B, C, segLength, steps, weights):\n",
    "    '''\n",
    "    '''\n",
    "    # Extract segments into shared memory\n",
    "    i = cuda.grid(1)\n",
    "    #i=0\n",
    "    \n",
    "    offset = i*segLength\n",
    "    segWidth = C.shape[1]\n",
    "    \n",
    "    # Run DTW\n",
    "    \n",
    "    numSteps = 3\n",
    "    \n",
    "    # Fill up D and B\n",
    "    for c in range(segWidth): # subsequence init\n",
    "        D[offset,c] = C[offset,c]\n",
    "    \n",
    "    for row in range(segLength):\n",
    "        if (offset + row == C.shape[0]):\n",
    "            break\n",
    "        for col in range(segWidth):\n",
    "            bestCost = D[offset+row,col]\n",
    "            bestCostIndex = 0\n",
    "            # Go through each step, find the best one\n",
    "            for stepIndex in range(numSteps):\n",
    "                rowStep = steps[0, stepIndex]\n",
    "                colStep = steps[1, stepIndex]\n",
    "                if row - rowStep < 0 or col - colStep < 0:\n",
    "                    continue\n",
    "                \n",
    "                costForStep = D[int(offset + (row - rowStep)), int(col - colStep)] + \\\n",
    "                              weights[stepIndex] * C[offset + row, col]\n",
    "                \n",
    "                if costForStep < bestCost:\n",
    "                    bestCost = costForStep\n",
    "                    bestCostIndex = stepIndex\n",
    "            # Save best cost and step\n",
    "            D[offset + row, col] = bestCost\n",
    "            B[offset + row, col] = bestCostIndex"
   ]
  },
  {
   "cell_type": "code",
   "execution_count": 9,
   "metadata": {},
   "outputs": [],
   "source": [
    "@jit(forceobj=True)\n",
    "def GPU_WSDTW(queryFeatureFile, refFeatureFile, K, Steps = subseqDTWDefaultSteps, weights = subseqDTWDefaultWeights, \\\n",
    "              outfile = None, profile = False, gpu_backtrace=False):\n",
    "    '''\n",
    "    '''\n",
    "    \n",
    "    # Extract Feature matrices\n",
    "    F1 = np.load(queryFeatureFile, allow_pickle = True)\n",
    "    F2 = np.load(refFeatureFile, allow_pickle = True)\n",
    "    \n",
    "#     F1 = F1[:, :100]\n",
    "#     F2 = F2[:, :100]\n",
    "    \n",
    "    \n",
    "    \n",
    "    if max(F1.shape[1], F2.shape[1]) / min(F1.shape[1], F2.shape[1]) >= 2: # no valid path possible\n",
    "        print(\"FAILURE - Feature sizes are too different to align with DTW\")\n",
    "        return\n",
    "    \n",
    "    # start time logging\n",
    "    times = []\n",
    "    times.append(time.time())\n",
    "    \n",
    "    # Compute Cost\n",
    "    # NOTE: This could also be done segment by segment.\n",
    "    # I am doing it all up front to match the implementation in the old code.\n",
    "    C = 1 - F1.T @ F2\n",
    "    \n",
    "    # Subsequence DTW each segment without backtracing\n",
    "    segLength = int(np.ceil(F1.shape[1] / K))\n",
    "    segWidth = C.shape[1]\n",
    "    \n",
    "    Cseg = np.zeros((K + 1, C.shape[1]), dtype = np.float64)\n",
    "    D = np.ones(C.shape, dtype = np.float64) * MAX_FLOAT\n",
    "    B = np.zeros(C.shape, dtype = np.int32)\n",
    "    \n",
    "    totalSize = C.nbytes + D.nbytes + B.nbytes\n",
    "    totalSegmentSize = int(np.ceil((totalSize-B.nbytes) / K))  # If necessary, maybe just put C and D in shared memory\n",
    "    times.append(time.time())\n",
    "    if totalSize > torch.cuda.get_device_properties(0).total_memory:  # C > 11GB\n",
    "        # Pass in fragment by fragment\n",
    "        print('Fragment too large for global memory') \n",
    "        # Pass in as many fragments as possible at once\n",
    "        # Some Function\n",
    "        # Implement Later if Desired\n",
    "    elif totalSegmentSize > 96000:  # Can't use shared memory\n",
    "        print('Fragment too large for shared memory')\n",
    "        GPU_DTW_global[K,1](D, B, C, segLength, Steps, weights)\n",
    "        #GPU_DTW_global(D, B, C, segLength, Steps, weights)\n",
    "    else:\n",
    "        GPU_DTW_shared[K,1,0,totalSegmentSize+Steps.nbytes+weights.nbytes](D, B, C, segLength, Steps, weights)\n",
    "        #GPU_DTW_shared(D, B, C, segLength, Steps, weights)\n",
    "    times.append(time.time())\n",
    "    for i in range(K):\n",
    "        Cseg[i+1,:] = D[min((i+1)*segLength-1,D.shape[0]-1),:]\n",
    "    \n",
    "    # run segment-level DTW (Not subsequence)\n",
    "    segmentSteps = np.array([[0, 1],\n",
    "                             [1, C.shape[0]//(2 * K)]], #NOTE: This could cause differences with old implementation\n",
    "                            dtype=np.uint32)\n",
    "    segmentWeights = np.array([0, 1])\n",
    "    \n",
    "    Dseg, Bseg = DTW_Cost_To_DandB(Cseg, Steps = segmentSteps, weights = segmentWeights)\n",
    "    times.append(time.time())\n",
    "    wpseg = DTW_Backtrace(Dseg, Bseg, Steps=segmentSteps)\n",
    "    times.append(time.time())\n",
    "    # Backtrace through segments with segment level path as guide\n",
    "    # On GPU?\n",
    "    \n",
    "    # Frame level backtrace segment by segment\n",
    "    segmentEndIdxs = getSegmentEndingLocs(wpseg)\n",
    "    \n",
    "    # Final Backtrace ----------------------------------------------------------------------------\n",
    "    if gpu_backtrace:\n",
    "        times.append(time.time())\n",
    "        path = np.zeros((2,K*np.sum(C.shape)), dtype=np.int32) - 1\n",
    "        #final_path = []\n",
    "        GPU_Backtrace_global[K,1](path, D, B, Steps, segLength, K, np.array(segmentEndIdxs))\n",
    "        \n",
    "        row_path = list(path[0,:])\n",
    "        col_path = list(path[1,:])\n",
    "        final_row_path = [i for i in row_path if i>=0]\n",
    "        final_col_path = [j for j in col_path if j>=0]\n",
    "        \n",
    "        #p_indices = list(range(path.shape[1]))[::-1]\n",
    "        #for p_row in path[0,:]:\n",
    "        #    if p_row >= 0:\n",
    "        #        final_path.append(p)\n",
    "        #        print(final_path)\n",
    "        #    else:\n",
    "        #        continue\n",
    "        #print(final_path)        \n",
    "        wp_merged = np.fliplr(np.vstack((final_row_path, final_col_path)))\n",
    "        \n",
    "    else:\n",
    "        path = []\n",
    "        \n",
    "        times.append(time.time())\n",
    "        for i, endidx in enumerate(segmentEndIdxs):\n",
    "            D_i = D[i*segLength:min((i+1)*segLength, D.shape[0]),:]\n",
    "            B_i = B[i*segLength:min((i+1)*segLength, B.shape[0]),:]\n",
    "            pathSeg = DTW_Backtrace(D_i, B_i, Steps = Steps, subsequence = True, startCol = endidx)\n",
    "            # Add offset to row indices so they match with overall path\n",
    "            pathSeg[0,:] = pathSeg[0,:] + (i * segLength)\n",
    "\n",
    "            # Append fragment to full path\n",
    "            path.append(pathSeg.copy())\n",
    "            \n",
    "        wp_merged = np.hstack(path)\n",
    "        \n",
    "    # --------------------------------------------------------------------------------------------\n",
    "    times.append(time.time())\n",
    "    \n",
    "    if outfile:\n",
    "        pickle.dump(wp_merged, open(outfile, 'wb'))\n",
    "\n",
    "    if profile:\n",
    "        return wp_merged, np.diff(times)\n",
    "    else:\n",
    "        return wp_merged"
   ]
  },
  {
   "cell_type": "code",
   "execution_count": 7,
   "metadata": {},
   "outputs": [],
   "source": [
    "@cuda.jit\n",
    "def GPU_Backtrace_global(path, D, B, steps, segLength, K, segmentEndIdxs):\n",
    "    i = cuda.grid(1)\n",
    "    \n",
    "    # Initialize variables\n",
    "    numRows = segLength\n",
    "    numCols = D.shape[1]\n",
    "    \n",
    "    offset = i*segLength\n",
    "    path_offset = (K-i-1)*numRows\n",
    "    \n",
    "    # init. path 1st row entries to -1 for post ordering\n",
    "    for idx in range(numRows):\n",
    "        path[0, path_offset+idx] = -1\n",
    "        path[1, path_offset+idx] = -1\n",
    "    \n",
    "    curRow = numRows - 1  # Always start at last row\n",
    "    curCol = segmentEndIdxs[i]\n",
    "    \n",
    "    endCol = curCol\n",
    "    endCost = D[offset+curRow, curCol]\n",
    "    stepsInPath = 1\n",
    "    stepIndex = 0\n",
    "    done = (curRow == 0) or (curRow == 0 and curCol == 0)\n",
    "    #path = np.zeros((2, numRows + numCols), dtype=np.uint32) # make as large as could need, then chop at the end\n",
    "    path[0, path_offset] = offset+curRow\n",
    "    path[1, path_offset] = curCol\n",
    "    \n",
    "    # Backtrace\n",
    "    while not done:\n",
    "        if D[offset+curRow, curCol] == MAX_FLOAT:  # No path exists to current location\n",
    "            return\n",
    "        \n",
    "        # you're done if you've made it to the bottom left (non sub-sequence)\n",
    "        # or just the bottom (sub-sequence)\n",
    "        # find the step size\n",
    "        curStepIndex = B[offset+curRow, curCol]\n",
    "        curRowStep = steps[0,curStepIndex]\n",
    "        curColStep = steps[1,curStepIndex]\n",
    "        # backtrack by 1 step\n",
    "        curRow = int(curRow - curRowStep)\n",
    "        curCol = int(curCol - curColStep)\n",
    "        # add your new location onto the path\n",
    "        path[0, path_offset+stepsInPath] = offset+curRow\n",
    "        path[1, path_offset+stepsInPath] = curCol\n",
    "        stepsInPath = stepsInPath + 1\n",
    "        # check to see if you're done\n",
    "        done = (curRow == 0) or (curRow == 0 and curCol == 0)"
   ]
  },
  {
   "cell_type": "code",
   "execution_count": 49,
   "metadata": {},
   "outputs": [],
   "source": [
    "@jit(forceobj = True)\n",
    "def WSDTW(queryFeatureFile, refFeatureFile, segments, Steps = subseqDTWDefaultSteps, weights = subseqDTWDefaultWeights, \\\n",
    "          outfile = None, profile = False):\n",
    "    '''\n",
    "    Runs a weakly-ordered segmental DTW between query and reference features matrices\n",
    "    \n",
    "    Arguments:\n",
    "    queryFeatureFile -- The file containing the query feature matrix\n",
    "    refFeatureFile -- The file containing the reference feature matrix\n",
    "    segments -- The number of segments to divide F1 into\n",
    "    Steps -- The allowed steps\n",
    "    weights -- The weights for the steps\n",
    "    \n",
    "    Returns:\n",
    "    path -- The optimal weakly-ordered, segmented alignment path between F1 and F2\n",
    "    '''\n",
    "    # Extract Feature matrices\n",
    "    F1 = np.load(queryFeatureFile, allow_pickle = True)#[:,:100]\n",
    "    F2 = np.load(refFeatureFile, allow_pickle = True)#[:,:100]\n",
    "\n",
    "#     F1 = queryFeatureFile\n",
    "#     F2 = refFeatureFile\n",
    "\n",
    "    if max(F1.shape[1], F2.shape[1]) / min(F1.shape[1], F2.shape[1]) >= 2: # no valid path possible\n",
    "        print(\"FAILURE - Feature sizes are too different to align with DTW\")\n",
    "        return\n",
    "    \n",
    "    # start time logging\n",
    "    times = []\n",
    "    times.append(time.time())\n",
    "    \n",
    "    # Compute Cost\n",
    "    # NOTE: This could also be done segment by segment.\n",
    "    # I am doing it all up front to match the implementation in the old code.\n",
    "    C = 1 - F1.T @ F2\n",
    "    \n",
    "    times.append(time.time())\n",
    "    \n",
    "    # Subsequence DTW each segment without backtracing\n",
    "    segLength = int(np.ceil(F1.shape[1] / segments))\n",
    "    Cseg = np.zeros((segments + 1, C.shape[1]), dtype = np.float64)\n",
    "    Dparts = []\n",
    "    Bparts = []\n",
    "    for i in range(segments):\n",
    "        segStart = i * segLength\n",
    "        segEnd = min(segStart + segLength, C.shape[0])\n",
    "        # Ensuring that the segment is contiguous here ensures best performance in later computations\n",
    "        currentSeg = np.ascontiguousarray(C[segStart:segEnd,:])\n",
    "        D_i, B_i = DTW_Cost_To_DandB(currentSeg, Steps = Steps, weights = weights, subsequence = True)\n",
    "        \n",
    "        # Store D_i and B_i for segment and construct Cseg\n",
    "        Dparts.append(D_i)\n",
    "        Bparts.append(B_i)\n",
    "        \n",
    "        # NOTE: May need to separate this into a different loop for runtime profiling\n",
    "        Cseg[i + 1,:] = D_i[-1,:]\n",
    "    \n",
    "    #return Dparts, Bparts\n",
    "    times.append(time.time())\n",
    "    \n",
    "    # run segment-level DTW (Not subsequence)\n",
    "    segmentSteps = np.array([[0, 1],\n",
    "                             [1, C.shape[0]//(2 * segments)]], #NOTE: This could cause differences with old implementation\n",
    "                            dtype=np.uint32)\n",
    "    segmentWeights = np.array([0, 1])\n",
    "    \n",
    "    Dseg, Bseg = DTW_Cost_To_DandB(Cseg, Steps = segmentSteps, weights = segmentWeights)\n",
    "    \n",
    "    times.append(time.time())\n",
    "    \n",
    "    wpseg = DTW_Backtrace(Dseg, Bseg, Steps=segmentSteps)\n",
    "    \n",
    "    times.append(time.time())\n",
    "    \n",
    "    # Backtrace through segments with segment level path as guide\n",
    "    path = []\n",
    "    # Frame level backtrace segment by segment\n",
    "    segmentEndIdxs = getSegmentEndingLocs(wpseg)\n",
    "    \n",
    "    times.append(time.time())\n",
    "    \n",
    "    for i, endidx in enumerate(segmentEndIdxs):\n",
    "        pathSeg = DTW_Backtrace(Dparts[i], Bparts[i], Steps = Steps, subsequence = True, startCol = endidx)\n",
    "        # Add offset to row indices so they match with overall path\n",
    "        pathSeg[0,:] = pathSeg[0,:] + (i * segLength)\n",
    "\n",
    "        # Append fragment to full path\n",
    "        path.append(pathSeg.copy())\n",
    "    \n",
    "    wp_merged = np.hstack(path)\n",
    "    \n",
    "    times.append(time.time())\n",
    "    \n",
    "    if outfile:\n",
    "        pickle.dump(wp_merged, open(outfile, 'wb'))\n",
    "\n",
    "    if profile:\n",
    "        return wp_merged, np.diff(times)\n",
    "    else:\n",
    "        return wp_merged"
   ]
  },
  {
   "cell_type": "markdown",
   "metadata": {},
   "source": [
    "### Test with K=5"
   ]
  },
  {
   "cell_type": "code",
   "execution_count": 12,
   "metadata": {},
   "outputs": [
    {
     "name": "stdout",
     "output_type": "stream",
     "text": [
      "Fragment too large for shared memory\n"
     ]
    }
   ],
   "source": [
    "path, times = GPU_WSDTW(featureFile3, featureFile4, 5, Steps = subseqDTWDefaultSteps, weights = subseqDTWDefaultWeights, profile = True, gpu_backtrace=True)"
   ]
  },
  {
   "cell_type": "code",
   "execution_count": 13,
   "metadata": {},
   "outputs": [],
   "source": [
    "GTPath, GTtimes = WSDTW(featureFile3, featureFile4, 5, profile = True)"
   ]
  },
  {
   "cell_type": "code",
   "execution_count": 14,
   "metadata": {},
   "outputs": [
    {
     "data": {
      "text/plain": [
       "True"
      ]
     },
     "execution_count": 14,
     "metadata": {},
     "output_type": "execute_result"
    }
   ],
   "source": [
    "np.allclose(path,GTPath)"
   ]
  },
  {
   "cell_type": "code",
   "execution_count": 15,
   "metadata": {},
   "outputs": [
    {
     "data": {
      "image/png": "[encoded data removed]",
      "text/plain": [
       "<Figure size 432x288 with 1 Axes>"
      ]
     },
     "metadata": {
      "needs_background": "light"
     },
     "output_type": "display_data"
    }
   ],
   "source": [
    "plt.plot(times,'*')\n",
    "plt.plot(GTtimes,'.')\n",
    "plt.legend(['GPU', 'CPU'])\n",
    "plt.ylabel('Duration (s)')\n",
    "plt.xlabel('Process')\n",
    "plt.show()"
   ]
  },
  {
   "cell_type": "code",
   "execution_count": 16,
   "metadata": {},
   "outputs": [],
   "source": [
    "C = np.random.random((100,100))\n",
    "segLength = int(np.ceil(C.shape[1] / 5))\n",
    "D = np.ones(C.shape, dtype = np.float64) * MAX_FLOAT\n",
    "B = np.zeros(C.shape, dtype = np.int32)\n",
    "\n",
    "totalSize = C.nbytes + D.nbytes + B.nbytes\n",
    "totalSegmentSize = int(np.ceil((totalSize-B.nbytes) / 5))\n",
    "Steps = subseqDTWDefaultSteps\n",
    "weights = subseqDTWDefaultWeights"
   ]
  },
  {
   "cell_type": "code",
   "execution_count": 17,
   "metadata": {},
   "outputs": [
    {
     "name": "stdout",
     "output_type": "stream",
     "text": [
      "4.77 ms ± 288 µs per loop (mean ± std. dev. of 7 runs, 1 loop each)\n"
     ]
    }
   ],
   "source": [
    "%timeit GPU_DTW_shared[5,1,0,totalSegmentSize+Steps.nbytes+weights.nbytes](D, B, C, segLength, Steps, weights)"
   ]
  },
  {
   "cell_type": "code",
   "execution_count": 18,
   "metadata": {},
   "outputs": [
    {
     "name": "stdout",
     "output_type": "stream",
     "text": [
      "208 µs ± 315 ns per loop (mean ± std. dev. of 7 runs, 1000 loops each)\n"
     ]
    }
   ],
   "source": [
    "%timeit DTW_Cost_To_DandB(C, Steps = Steps, weights = weights, subsequence=True)"
   ]
  },
  {
   "cell_type": "code",
   "execution_count": 19,
   "metadata": {},
   "outputs": [
    {
     "data": {
      "text/plain": [
       "4.686768054962158"
      ]
     },
     "execution_count": 19,
     "metadata": {},
     "output_type": "execute_result"
    }
   ],
   "source": [
    "np.sum(times)"
   ]
  },
  {
   "cell_type": "code",
   "execution_count": 20,
   "metadata": {},
   "outputs": [
    {
     "data": {
      "text/plain": [
       "3.295936346054077"
      ]
     },
     "execution_count": 20,
     "metadata": {},
     "output_type": "execute_result"
    }
   ],
   "source": [
    "np.sum(GTtimes)"
   ]
  },
  {
   "cell_type": "markdown",
   "metadata": {},
   "source": [
    "### Test with K=10"
   ]
  },
  {
   "cell_type": "code",
   "execution_count": 21,
   "metadata": {},
   "outputs": [
    {
     "name": "stdout",
     "output_type": "stream",
     "text": [
      "Fragment too large for shared memory\n"
     ]
    }
   ],
   "source": [
    "path, times = GPU_WSDTW(featureFile3, featureFile4, 10, Steps = subseqDTWDefaultSteps, weights = subseqDTWDefaultWeights, profile = True)"
   ]
  },
  {
   "cell_type": "code",
   "execution_count": 22,
   "metadata": {},
   "outputs": [],
   "source": [
    "GTPath, GTtimes = WSDTW(featureFile3, featureFile4, 10, profile = True)"
   ]
  },
  {
   "cell_type": "code",
   "execution_count": 23,
   "metadata": {},
   "outputs": [
    {
     "data": {
      "text/plain": [
       "True"
      ]
     },
     "execution_count": 23,
     "metadata": {},
     "output_type": "execute_result"
    }
   ],
   "source": [
    "np.allclose(path,GTPath)"
   ]
  },
  {
   "cell_type": "code",
   "execution_count": 24,
   "metadata": {},
   "outputs": [
    {
     "data": {
      "image/png": "[encoded data removed]",
      "text/plain": [
       "<Figure size 432x288 with 1 Axes>"
      ]
     },
     "metadata": {
      "needs_background": "light"
     },
     "output_type": "display_data"
    }
   ],
   "source": [
    "plt.plot(times,'*');\n",
    "plt.plot(GTtimes,'.');"
   ]
  },
  {
   "cell_type": "code",
   "execution_count": 25,
   "metadata": {},
   "outputs": [],
   "source": [
    "C = np.random.random((100,100))\n",
    "segLength = int(np.ceil(C.shape[1] / 5))\n",
    "D = np.ones(C.shape, dtype = np.float64) * MAX_FLOAT\n",
    "B = np.zeros(C.shape, dtype = np.int32)\n",
    "\n",
    "totalSize = C.nbytes + D.nbytes + B.nbytes\n",
    "totalSegmentSize = int(np.ceil((totalSize-B.nbytes) / 5))\n",
    "Steps = subseqDTWDefaultSteps\n",
    "weights = subseqDTWDefaultWeights"
   ]
  },
  {
   "cell_type": "code",
   "execution_count": 26,
   "metadata": {},
   "outputs": [
    {
     "name": "stdout",
     "output_type": "stream",
     "text": [
      "3.99 ms ± 12.1 µs per loop (mean ± std. dev. of 7 runs, 100 loops each)\n"
     ]
    }
   ],
   "source": [
    "%timeit GPU_DTW_shared[5,1,0,totalSegmentSize+Steps.nbytes+weights.nbytes](D, B, C, segLength, Steps, weights)"
   ]
  },
  {
   "cell_type": "code",
   "execution_count": 27,
   "metadata": {},
   "outputs": [
    {
     "name": "stdout",
     "output_type": "stream",
     "text": [
      "209 µs ± 635 ns per loop (mean ± std. dev. of 7 runs, 1000 loops each)\n"
     ]
    }
   ],
   "source": [
    "%timeit DTW_Cost_To_DandB(C, Steps = Steps, weights = weights, subsequence=True)"
   ]
  },
  {
   "cell_type": "code",
   "execution_count": 28,
   "metadata": {},
   "outputs": [
    {
     "data": {
      "text/plain": [
       "2.507140636444092"
      ]
     },
     "execution_count": 28,
     "metadata": {},
     "output_type": "execute_result"
    }
   ],
   "source": [
    "np.sum(times)"
   ]
  },
  {
   "cell_type": "code",
   "execution_count": 29,
   "metadata": {},
   "outputs": [
    {
     "data": {
      "text/plain": [
       "0.026863574981689453"
      ]
     },
     "execution_count": 29,
     "metadata": {},
     "output_type": "execute_result"
    }
   ],
   "source": [
    "np.sum(GTtimes)"
   ]
  },
  {
   "cell_type": "markdown",
   "metadata": {},
   "source": [
    "### Test on Larger Matrices"
   ]
  },
  {
   "cell_type": "code",
   "execution_count": 30,
   "metadata": {},
   "outputs": [
    {
     "name": "stdout",
     "output_type": "stream",
     "text": [
      "Fragment too large for shared memory\n"
     ]
    }
   ],
   "source": [
    "path, times = GPU_WSDTW(featureFile1, featureFile2, 10, Steps = subseqDTWDefaultSteps, weights = subseqDTWDefaultWeights, profile = True)"
   ]
  },
  {
   "cell_type": "code",
   "execution_count": 31,
   "metadata": {},
   "outputs": [],
   "source": [
    "GTPath, GTtimes = WSDTW(featureFile1, featureFile2, 10, profile = True)"
   ]
  },
  {
   "cell_type": "code",
   "execution_count": 32,
   "metadata": {},
   "outputs": [
    {
     "data": {
      "text/plain": [
       "True"
      ]
     },
     "execution_count": 32,
     "metadata": {},
     "output_type": "execute_result"
    }
   ],
   "source": [
    "np.allclose(path,GTPath)"
   ]
  },
  {
   "cell_type": "code",
   "execution_count": 33,
   "metadata": {},
   "outputs": [
    {
     "data": {
      "image/png": "[encoded data removed]",
      "text/plain": [
       "<Figure size 432x288 with 1 Axes>"
      ]
     },
     "metadata": {
      "needs_background": "light"
     },
     "output_type": "display_data"
    }
   ],
   "source": [
    "plt.plot(times,'*');\n",
    "plt.plot(GTtimes,'.');"
   ]
  },
  {
   "cell_type": "code",
   "execution_count": 34,
   "metadata": {},
   "outputs": [],
   "source": [
    "C = np.random.random((100,100))\n",
    "segLength = int(np.ceil(C.shape[1] / 5))\n",
    "D = np.ones(C.shape, dtype = np.float64) * MAX_FLOAT\n",
    "B = np.zeros(C.shape, dtype = np.int32)\n",
    "\n",
    "totalSize = C.nbytes + D.nbytes + B.nbytes\n",
    "totalSegmentSize = int(np.ceil((totalSize-B.nbytes) / 5))\n",
    "Steps = subseqDTWDefaultSteps\n",
    "weights = subseqDTWDefaultWeights"
   ]
  },
  {
   "cell_type": "code",
   "execution_count": 35,
   "metadata": {},
   "outputs": [
    {
     "name": "stdout",
     "output_type": "stream",
     "text": [
      "3.97 ms ± 13 µs per loop (mean ± std. dev. of 7 runs, 100 loops each)\n"
     ]
    }
   ],
   "source": [
    "%timeit GPU_DTW_shared[5,1,0,totalSegmentSize+Steps.nbytes+weights.nbytes](D, B, C, segLength, Steps, weights)"
   ]
  },
  {
   "cell_type": "code",
   "execution_count": 36,
   "metadata": {},
   "outputs": [
    {
     "name": "stdout",
     "output_type": "stream",
     "text": [
      "209 µs ± 293 ns per loop (mean ± std. dev. of 7 runs, 1000 loops each)\n"
     ]
    }
   ],
   "source": [
    "%timeit DTW_Cost_To_DandB(C, Steps = Steps, weights = weights, subsequence=True)"
   ]
  },
  {
   "cell_type": "code",
   "execution_count": 37,
   "metadata": {},
   "outputs": [
    {
     "data": {
      "text/plain": [
       "21.01875066757202"
      ]
     },
     "execution_count": 37,
     "metadata": {},
     "output_type": "execute_result"
    }
   ],
   "source": [
    "np.sum(times)"
   ]
  },
  {
   "cell_type": "code",
   "execution_count": 38,
   "metadata": {},
   "outputs": [
    {
     "data": {
      "text/plain": [
       "3.7121191024780273"
      ]
     },
     "execution_count": 38,
     "metadata": {},
     "output_type": "execute_result"
    }
   ],
   "source": [
    "np.sum(GTtimes)"
   ]
  },
  {
   "cell_type": "markdown",
   "metadata": {},
   "source": [
    "# M Subfragments"
   ]
  },
  {
   "cell_type": "code",
   "execution_count": 50,
   "metadata": {},
   "outputs": [],
   "source": [
    "@jit(forceobj=True)\n",
    "def GPU_WSDTW_fragmented(queryFeatureFile, refFeatureFile, K, M, \\\n",
    "                         Steps = subseqDTWDefaultSteps, weights = subseqDTWDefaultWeights, \\\n",
    "                         outfile = None, profile = False, gpu_backtrace=False, gpu_cost=False):\n",
    "    '''\n",
    "    '''\n",
    "    \n",
    "    # Extract Feature matrices\n",
    "#     F1 = np.load(queryFeatureFile, allow_pickle = True)\n",
    "#     F2 = np.load(refFeatureFile, allow_pickle = True)\n",
    "    \n",
    "    F1 = queryFeatureFile\n",
    "    F2 = refFeatureFile\n",
    "    \n",
    "    if max(F1.shape[1], F2.shape[1]) / min(F1.shape[1], F2.shape[1]) >= 2: # no valid path possible\n",
    "        print(\"FAILURE - Feature sizes are too different to align with DTW\")\n",
    "        return\n",
    "    \n",
    "    segLength = int(np.ceil(F1.shape[1]/K))\n",
    "    fragLength = int(np.ceil(F2.shape[1]/M) + 2*segLength)\n",
    "    \n",
    "    # start time logging\n",
    "    times = []\n",
    "    cost_times = []\n",
    "    \n",
    "    if gpu_cost:\n",
    "        times.append(time.time())\n",
    "        cost_times.append(time.time())\n",
    "        \n",
    "        # load features onto GPU\n",
    "        F1_global = cuda.to_device(F1)\n",
    "        F2_global = cuda.to_device(F2)\n",
    "        \n",
    "        # load steps/weights onto GPU\n",
    "        steps_global = cuda.to_device(Steps)\n",
    "        weights_global = cuda.to_device(weights)\n",
    "        \n",
    "        # allocate mem. for padding matrices\n",
    "        overlap_global = cuda.device_array((F1.shape[1], 2*segLength*(M-1)))\n",
    "        \n",
    "        # allocate mem. for cost, cum. cost, and backtrace matrices\n",
    "        cost_dims = (F1.shape[1], F2.shape[1])\n",
    "        C_global = cuda.device_array(cost_dims)\n",
    "        D_global = cuda.device_array(cost_dims)\n",
    "        B_global = cuda.device_array(cost_dims, dtype=np.uint32)\n",
    "        \n",
    "        cost_times.append(time.time())\n",
    "        \n",
    "        GPU_Cost_And_DTW[K, M](C_global, D_global, B_global, \\\n",
    "                               F1_global, F2_global, \\\n",
    "                               steps_global, weights_global, \\\n",
    "                               segLength, fragLength, overlap_global, MAX_FLOAT)\n",
    "        \n",
    "        cost_times.append(time.time())\n",
    "        \n",
    "        D = D_global.copy_to_host()\n",
    "        B = B_global.copy_to_host()\n",
    "        \n",
    "        times.append(time.time())\n",
    "        cost_times.append(time.time())\n",
    "    else:\n",
    "        times.append(time.time())\n",
    "        cost_times.append(time.time())\n",
    "        \n",
    "        # Compute Cost\n",
    "        # NOTE: This could also be done segment by segment.\n",
    "        # I am doing it all up front to match the implementation in the old code.\n",
    "        C = 1 - F1.T @ F2\n",
    "        \n",
    "        times.append(time.time())\n",
    "        cost_times.append(time.time())\n",
    "        \n",
    "        # load cost/steps/weights onto GPU\n",
    "        C_global = cuda.to_device(C)\n",
    "        steps_global = cuda.to_device(Steps)\n",
    "        weights_global = cuda.to_device(weights)\n",
    "        \n",
    "        # allocate mem. for padding matrices\n",
    "        overlap_global = cuda.device_array((F1.shape[1], 2*segLength*(M-1)))\n",
    "        \n",
    "        # allocate mem. for cost, cum. cost, and backtrace matrices\n",
    "        D_global = cuda.device_array(C.shape)\n",
    "        B_global = cuda.device_array(C.shape, dtype=np.uint32)\n",
    "        \n",
    "        cost_times.append(time.time())\n",
    "        \n",
    "        GPU_DTW_fragmented[K,M](C_global, D_global, B_global, \\\n",
    "                                steps_global, weights_global, \\\n",
    "                                segLength, fragLength, overlap_global, MAX_FLOAT)\n",
    "        \n",
    "        cost_times.append(time.time())\n",
    "        \n",
    "        D = D_global.copy_to_host()\n",
    "        B = B_global.copy_to_host()\n",
    "        \n",
    "        times.append(time.time())\n",
    "        cost_times.append(time.time())\n",
    "    \n",
    "    # Cseg compostion (could be GPU implemented)\n",
    "    Cseg = np.zeros((K + 1, D.shape[1]), dtype = np.float64)\n",
    "    for i in range(K):\n",
    "        Cseg[i+1,:] = D[min((i+1)*segLength-1,D.shape[0]-1),:]\n",
    "\n",
    "    # segment lvl. steps/weights\n",
    "    segmentSteps = np.array([[0, 1],\n",
    "                             [1, D.shape[0]//(2 * K)]], #NOTE: This could cause differences with old implementation\n",
    "                            dtype=np.uint32)\n",
    "    segmentWeights = np.array([0, 1])\n",
    "    \n",
    "#     if gpu_dtw_seg: # need to rework implementation to account for [0,1] skips to parallelize\n",
    "#         # transfer segment-lvl. C to GPU\n",
    "#         Cseg_global = cuda.to_device(Cseg)\n",
    "        \n",
    "#         # allocate mem. for seg. lvl. D & B\n",
    "#         Dseg_global = cuda.device_array(Cseg.shape)\n",
    "#         Bseg_global = cuda.device_array(Cseg.shape)\n",
    "        \n",
    "#         # transfer seg. lvl. steps/weights\n",
    "#         steps_seg_global = cuda.to_device(segmentSteps)\n",
    "#         weights_seg_global = cuda.to_device(segmentWeights)\n",
    "        \n",
    "#         # allocate mem. for seg. lvl. overlap\n",
    "#         overlap_seg_global = cuda.device_array(K+1, 2*segLength*(M-1))\n",
    "        \n",
    "#         GPU_DTW_fragmented[1,M](Cseg_global, Dseg_global, Bseg_global, \\\n",
    "#                                 steps_seg_global, weights_seg_global, \\\n",
    "#                                 K+1, fragLength, overlap_seg_global, MAX_FLOAT)\n",
    "        \n",
    "    Dseg, Bseg = DTW_Cost_To_DandB(Cseg, Steps = segmentSteps, weights = segmentWeights)\n",
    "    \n",
    "    times.append(time.time())\n",
    "    \n",
    "#     if gpu_backtrace_seg:\n",
    "        \n",
    "#         # allocate mem. for path\n",
    "#         path_seg_global = cuda.device_array((2,))\n",
    "        \n",
    "#         # allocate mem. for seg. lvl. D & B\n",
    "#         Dseg_global = cuda.device_array(Cseg.shape)\n",
    "#         Bseg_global = cuda.device_array(Cseg.shape)\n",
    "        \n",
    "#         # transfer seg. lvl. steps\n",
    "#         steps_seg_global = cuda.to_device(segmentSteps)\n",
    "        \n",
    "#         GPU_Backtrace_global[K,1](path_seg_global, Dseg_global, Bseg_global, \\\n",
    "#                                   steps_seg_global, K+1, 1, segmentEndIdxs)\n",
    "    \n",
    "    wpseg = DTW_Backtrace(Dseg, Bseg, Steps=segmentSteps)\n",
    "    # Backtrace through segments with segment level path as guide\n",
    "    # On GPU?\n",
    "    \n",
    "    times.append(time.time())\n",
    "    \n",
    "    # Frame level backtrace segment by segment\n",
    "    segmentEndIdxs = getSegmentEndingLocs(wpseg)\n",
    "    \n",
    "    times.append(time.time())\n",
    "    \n",
    "    # Final Backtrace ----------------------------------------------------------------------------\n",
    "    if gpu_backtrace:\n",
    "        times.append(time.time())\n",
    "        \n",
    "        # allocate mem. for path on GPU\n",
    "        path_global = cuda.device_array((2, D.shape[0]), dtype=np.int32)\n",
    "        #path_global = cuda.to_device(np.zeros((2,D.shape[0]), dtype=np.int32) - 1)\n",
    "        \n",
    "        # copy ending indices to GPU\n",
    "        seg_end_idxs_global = cuda.to_device(segmentEndIdxs)\n",
    "        GPU_Backtrace_global[K,1](path_global, D_global, B_global, \\\n",
    "                                  steps_global, segLength, K, seg_end_idxs_global)\n",
    "        \n",
    "        path = path_global.copy_to_host()\n",
    "        \n",
    "#         row_path = list(path[0,:])\n",
    "#         col_path = list(path[1,:])\n",
    "#         final_row_path = [i for i in row_path if i>=0]\n",
    "#         final_col_path = [j for j in col_path if j>=0]\n",
    "#         wp_merged = np.fliplr(np.vstack((final_row_path, final_col_path)))\n",
    "        \n",
    "        wp_merged = np.fliplr(np.array([p for p in list(path.T) if p[0] >=0]).T)   \n",
    "        \n",
    "        times.append(time.time())\n",
    "        \n",
    "    else:\n",
    "        times.append(time.time())\n",
    "        \n",
    "        path = []\n",
    "        \n",
    "        for i, endidx in enumerate(segmentEndIdxs):\n",
    "            D_i = D[i*segLength:min((i+1)*segLength, D.shape[0]),:]\n",
    "            B_i = B[i*segLength:min((i+1)*segLength, B.shape[0]),:]\n",
    "            pathSeg = DTW_Backtrace(D_i, B_i, Steps = Steps, subsequence = True, startCol = endidx)\n",
    "            # Add offset to row indices so they match with overall path\n",
    "            pathSeg[0,:] = pathSeg[0,:] + (i * segLength)\n",
    "\n",
    "            # Append fragment to full path\n",
    "            path.append(pathSeg.copy())\n",
    "            \n",
    "        wp_merged = np.hstack(path)\n",
    "        \n",
    "        times.append(time.time())\n",
    "        \n",
    "    # --------------------------------------------------------------------------------------------\n",
    "    \n",
    "    if outfile:\n",
    "        pickle.dump(wp_merged, open(outfile, 'wb'))\n",
    "\n",
    "    if profile:\n",
    "        return wp_merged, np.diff(times), np.diff(cost_times)\n",
    "    else:\n",
    "        return wp_merged"
   ]
  },
  {
   "cell_type": "code",
   "execution_count": 9,
   "metadata": {},
   "outputs": [],
   "source": [
    "@cuda.jit\n",
    "def GPU_Cost_And_DTW(C, D, B, \\\n",
    "                     F1, F2, \\\n",
    "                     steps, weights, \\\n",
    "                     segLength, fragLength, overlap, MAX_FLOAT):\n",
    "    \"\"\"\n",
    "    \"\"\"\n",
    "    \n",
    "    # index blocks/threads\n",
    "    #i, j = cuda.grid(2)\n",
    "    i = cuda.blockIdx.x\n",
    "    j = cuda.threadIdx.x\n",
    "    \n",
    "    # offsets for diff. threads\n",
    "    row_offset = i*segLength\n",
    "    new_region_start = j*(fragLength - 2*segLength)  # Where the new information for this fragment starts\n",
    "    overlap_offset = (j-1)*2*segLength\n",
    "    \n",
    "    # set actual segment/fragment lengths\n",
    "    seg_length_adjusted = min(segLength, F1.shape[1]-row_offset)\n",
    "    col_offset = max(0, new_region_start - 2*segLength)  # Where the fragment starts\n",
    "    frag_end = min(new_region_start + fragLength - 2*segLength, F2.shape[1])\n",
    "    frag_length_adjusted = frag_end - col_offset\n",
    "    \n",
    "    for row in range(seg_length_adjusted):\n",
    "        for col in range(frag_length_adjusted):   \n",
    "            # filling overlap and D w/ MAX_FLOAT\n",
    "            if col_offset + col < new_region_start and j>0:\n",
    "                overlap[row_offset + row, overlap_offset + col] = MAX_FLOAT\n",
    "            else:\n",
    "                D[row_offset+row, col_offset+col] = MAX_FLOAT\n",
    "                # cost matrix composition\n",
    "                s = 0\n",
    "                for idx in range(F1.shape[0]):\n",
    "                    s += F1[idx, row_offset + row] * F2[idx, col_offset + col]\n",
    "                C[row_offset+row, col_offset+col] = 1 - s\n",
    "                \n",
    "    cuda.syncthreads()\n",
    "\n",
    "    # initialize first row of D matrix\n",
    "    for col in range(frag_length_adjusted): # subsequence init\n",
    "        if col_offset + col < new_region_start and j>0:\n",
    "            overlap[row_offset, overlap_offset + col] = C[row_offset, col_offset + col]\n",
    "        else:\n",
    "            D[row_offset, col_offset + col] = C[row_offset, col_offset + col]\n",
    "    \n",
    "    # Run DTW\n",
    "    numSteps = weights.shape[0]\n",
    "    \n",
    "    for row in range(seg_length_adjusted):\n",
    "        for col in range(frag_length_adjusted):\n",
    "            if col_offset + col < new_region_start and j>0:\n",
    "                bestCost = overlap[row_offset + row, overlap_offset + col]\n",
    "            \n",
    "                # Go through each step, find the best one\n",
    "                for stepIndex in range(numSteps):\n",
    "                    rowStep = steps[0, stepIndex]\n",
    "                    colStep = steps[1, stepIndex]\n",
    "                    if row - rowStep < 0 or col - colStep < 0:\n",
    "                        continue\n",
    "\n",
    "                    costForStep = overlap[int(row_offset + row - rowStep), int(overlap_offset + col - colStep)] + \\\n",
    "                                  weights[stepIndex] * C[row_offset + row, col_offset + col]\n",
    "\n",
    "                    if costForStep < bestCost:\n",
    "                        bestCost = costForStep\n",
    "                # Save best cost and step\n",
    "                overlap[row_offset + row, overlap_offset + col] = bestCost\n",
    "            \n",
    "            else:\n",
    "                bestCost = D[row_offset + row, col_offset + col]\n",
    "                bestCostIndex = 0\n",
    "\n",
    "                # Go through each step, find the best one\n",
    "                for stepIndex in range(numSteps):\n",
    "                    rowStep = steps[0, stepIndex]\n",
    "                    colStep = steps[1, stepIndex]\n",
    "                    if row - rowStep < 0 or col - colStep < 0:\n",
    "                        continue\n",
    "                    \n",
    "                    if col_offset + col - colStep < new_region_start:\n",
    "                        costForStep = overlap[int(row_offset + row - rowStep), int(overlap_offset + col - colStep)] + \\\n",
    "                                      weights[stepIndex] * C[row_offset + row, col_offset + col]\n",
    "                    else:\n",
    "                        costForStep = D[int(row_offset + row - rowStep), int(col_offset + col - colStep)] + \\\n",
    "                                      weights[stepIndex] * C[row_offset + row, col_offset + col]\n",
    "\n",
    "                    if costForStep < bestCost:\n",
    "                        bestCost = costForStep\n",
    "                        bestCostIndex = stepIndex\n",
    "                # Save best cost and step\n",
    "                D[row_offset + row, col_offset + col] = bestCost\n",
    "                B[row_offset + row, col_offset + col] = bestCostIndex"
   ]
  },
  {
   "cell_type": "code",
   "execution_count": 10,
   "metadata": {},
   "outputs": [],
   "source": [
    "@cuda.jit\n",
    "def GPU_DTW_fragmented(C, D, B, \\\n",
    "                       steps, weights, \\\n",
    "                       segLength, fragLength, overlap, MAX_FLOAT):\n",
    "    \n",
    "    # index blocks/threads\n",
    "    #i, j = cuda.grid(2)\n",
    "    i = cuda.blockIdx.x\n",
    "    j = cuda.threadIdx.x\n",
    "    \n",
    "    # offsets for diff. threads\n",
    "    row_offset = i*segLength\n",
    "    new_region_start = j*(fragLength - 2*segLength)  # Where the new information for this fragment starts\n",
    "    overlap_offset = (j-1)*2*segLength\n",
    "    \n",
    "    # set actual segment/fragment lengths\n",
    "    seg_length_adjusted = min(segLength, F1.shape[1]-row_offset)\n",
    "    col_offset = max(0, new_region_start - 2*segLength)  # Where the fragment starts\n",
    "    frag_end = min(new_region_start + fragLength - 2*segLength, F2.shape[1])\n",
    "    frag_length_adjusted = frag_end - col_offset\n",
    "    \n",
    "    for row in range(seg_length_adjusted):\n",
    "        for col in range(frag_length_adjusted):   \n",
    "            # filling overlap and D w/ MAX_FLOAT\n",
    "            if col_offset + col < new_region_start and j>0:\n",
    "                overlap[row_offset + row, overlap_offset + col] = MAX_FLOAT\n",
    "            else:\n",
    "                D[row_offset+row, col_offset+col] = MAX_FLOAT\n",
    "                \n",
    "    # initialize first row of D matrix\n",
    "    for col in range(frag_length_adjusted): # subsequence init\n",
    "        if col_offset + col < new_region_start and j>0:\n",
    "            overlap[row_offset, overlap_offset + col] = C[row_offset, col_offset + col]\n",
    "        else:\n",
    "            D[row_offset, col_offset + col] = C[row_offset, col_offset + col]\n",
    "    \n",
    "    # Run DTW\n",
    "    numSteps = weights.shape[0]\n",
    "    \n",
    "    for row in range(seg_length_adjusted):\n",
    "        for col in range(frag_length_adjusted):\n",
    "            if col_offset + col < new_region_start and j>0:\n",
    "                bestCost = overlap[row_offset + row, overlap_offset + col]\n",
    "            \n",
    "                # Go through each step, find the best one\n",
    "                for stepIndex in range(numSteps):\n",
    "                    rowStep = steps[0, stepIndex]\n",
    "                    colStep = steps[1, stepIndex]\n",
    "                    if row - rowStep < 0 or col - colStep < 0:\n",
    "                        continue\n",
    "\n",
    "                    costForStep = overlap[int(row_offset + row - rowStep), int(overlap_offset + col - colStep)] + \\\n",
    "                                  weights[stepIndex] * C[row_offset + row, col_offset + col]\n",
    "\n",
    "                    if costForStep < bestCost:\n",
    "                        bestCost = costForStep\n",
    "                # Save best cost and step\n",
    "                overlap[row_offset + row, overlap_offset + col] = bestCost\n",
    "            \n",
    "            else:\n",
    "                bestCost = D[row_offset + row, col_offset + col]\n",
    "                bestCostIndex = 0\n",
    "\n",
    "                # Go through each step, find the best one\n",
    "                for stepIndex in range(numSteps):\n",
    "                    rowStep = steps[0, stepIndex]\n",
    "                    colStep = steps[1, stepIndex]\n",
    "                    if row - rowStep < 0 or col - colStep < 0:\n",
    "                        continue\n",
    "                    \n",
    "                    if col_offset + col - colStep < new_region_start:\n",
    "                        costForStep = overlap[int(row_offset + row - rowStep), int(overlap_offset + col - colStep)] + \\\n",
    "                                      weights[stepIndex] * C[row_offset + row, col_offset + col]\n",
    "                    else:\n",
    "                        costForStep = D[int(row_offset + row - rowStep), int(col_offset + col - colStep)] + \\\n",
    "                                      weights[stepIndex] * C[row_offset + row, col_offset + col]\n",
    "\n",
    "                    if costForStep < bestCost:\n",
    "                        bestCost = costForStep\n",
    "                        bestCostIndex = stepIndex\n",
    "                # Save best cost and step\n",
    "                D[row_offset + row, col_offset + col] = bestCost\n",
    "                B[row_offset + row, col_offset + col] = bestCostIndex"
   ]
  },
  {
   "cell_type": "code",
   "execution_count": 27,
   "metadata": {},
   "outputs": [
    {
     "name": "stdout",
     "output_type": "stream",
     "text": [
      "2 Done\n",
      "4 Done\n",
      "8 Done\n",
      "16 Done\n",
      "32 Done\n"
     ]
    }
   ],
   "source": [
    "np.random.seed(0)\n",
    "K = 8\n",
    "M_list = [2, 4, 8, 16, 32]\n",
    "num_runs = 100\n",
    "seq_len = 1000\n",
    "times = np.zeros((len(M_list), 2))\n",
    "for i, M in enumerate(M_list):\n",
    "    for run in range(num_runs):\n",
    "        # create random feature sequences\n",
    "        F1 = np.abs(np.random.randn(12, seq_len))\n",
    "        F1 = F1 / np.linalg.norm(F1, axis = 1, keepdims=True)\n",
    "        F2 = np.abs(np.random.randn(12, seq_len))\n",
    "        F2 = F2 / np.linalg.norm(F2, axis = 1, keepdims=True)\n",
    "        \n",
    "        _, gpu_cost_times = GPU_WSDTW_fragmented(F1, F2, K, M, \\\n",
    "                                        profile=True, \\\n",
    "                                        gpu_backtrace=False, gpu_cost=True)\n",
    "        _, cpu_cost_times = GPU_WSDTW_fragmented(F1, F2, K, M, \\\n",
    "                                        profile=True, \\\n",
    "                                        gpu_backtrace=False, gpu_cost=False)\n",
    "        \n",
    "        times[i,0] += gpu_cost_times[0]/num_runs\n",
    "        times[i,1] += cpu_cost_times[:2].sum()/num_runs        \n",
    "    print(str(M) + ' Done')"
   ]
  },
  {
   "cell_type": "code",
   "execution_count": 44,
   "metadata": {},
   "outputs": [],
   "source": [
    "np.random.seed(0)\n",
    "K = 4\n",
    "M_list = [2, 4, 8, 16, 32]\n",
    "num_runs = 100\n",
    "seq_len = 1000\n",
    "gpu = []\n",
    "cpu = []\n",
    "for run in range(num_runs):\n",
    "    # create random feature sequences\n",
    "    F1 = np.abs(np.random.randn(12, seq_len))\n",
    "    F1 = F1 / np.linalg.norm(F1, axis = 1, keepdims=True)\n",
    "    F2 = np.abs(np.random.randn(12, seq_len))\n",
    "    F2 = F2 / np.linalg.norm(F2, axis = 1, keepdims=True)\n",
    "\n",
    "    _, _, gpu_cost_times = GPU_WSDTW_fragmented(F1, F2, K, 32, \\\n",
    "                                    profile=True, \\\n",
    "                                    gpu_backtrace=False, gpu_cost=True)\n",
    "    _, _, cpu_cost_times = GPU_WSDTW_fragmented(F1, F2, K, 32, \\\n",
    "                                    profile=True, \\\n",
    "                                    gpu_backtrace=False, gpu_cost=False)\n",
    "\n",
    "    gpu.append(gpu_cost_times)\n",
    "    cpu.append(cpu_cost_times)"
   ]
  },
  {
   "cell_type": "code",
   "execution_count": 45,
   "metadata": {},
   "outputs": [
    {
     "data": {
      "text/plain": [
       "array([0.00231995, 0.37125216, 0.45693793])"
      ]
     },
     "execution_count": 45,
     "metadata": {},
     "output_type": "execute_result"
    }
   ],
   "source": [
    "np.mean(np.array(gpu), axis=0)"
   ]
  },
  {
   "cell_type": "code",
   "execution_count": 46,
   "metadata": {},
   "outputs": [
    {
     "data": {
      "text/plain": [
       "array([0.0020878 , 0.00439337, 0.14626899, 0.37368864])"
      ]
     },
     "execution_count": 46,
     "metadata": {},
     "output_type": "execute_result"
    }
   ],
   "source": [
    "np.mean(np.array(cpu), axis=0)"
   ]
  },
  {
   "cell_type": "code",
   "execution_count": 29,
   "metadata": {},
   "outputs": [
    {
     "data": {
      "image/png": "[encoded data removed]",
      "text/plain": [
       "<Figure size 432x288 with 1 Axes>"
      ]
     },
     "metadata": {
      "needs_background": "light"
     },
     "output_type": "display_data"
    }
   ],
   "source": [
    "plt.plot(cpu_cost_times, 'r*')\n",
    "plt.plot(gpu_cost_times, 'b*')\n",
    "plt.show()"
   ]
  },
  {
   "cell_type": "code",
   "execution_count": 28,
   "metadata": {},
   "outputs": [
    {
     "data": {
      "image/png": "[encoded data removed]",
      "text/plain": [
       "<Figure size 432x288 with 1 Axes>"
      ]
     },
     "metadata": {
      "needs_background": "light"
     },
     "output_type": "display_data"
    }
   ],
   "source": [
    "x = np.arange(len(M_list))\n",
    "width = .4\n",
    "\n",
    "plt.bar(x-width/2, times[:,0], width)\n",
    "plt.bar(x+width/2, times[:,1], width)\n",
    "plt.xticks(x, map(str, M_list))\n",
    "plt.title('Cost & Fragment DTW Duration for Multiple Sub-fragment Divisions (K=4)')\n",
    "plt.xlabel('Number of Sub-fragments')\n",
    "plt.ylabel('Average Duration')\n",
    "plt.legend(['GPU Cost', 'CPU Cost'])\n",
    "plt.show()"
   ]
  },
  {
   "cell_type": "code",
   "execution_count": 72,
   "metadata": {},
   "outputs": [
    {
     "name": "stdout",
     "output_type": "stream",
     "text": [
      "50\n"
     ]
    }
   ],
   "source": [
    "K = 5\n",
    "M = 5\n",
    "\n",
    "match_sum = 0\n",
    "for i in range(50):\n",
    "    F1 = np.abs(np.random.randn(12, 100))\n",
    "    F1 = F1 / np.linalg.norm(F1, axis = 1, keepdims=True)\n",
    "    F2 = np.abs(np.random.randn(12, 100))\n",
    "    F2 = F2 / np.linalg.norm(F2, axis = 1, keepdims=True) \n",
    "    \n",
    "    path_gpu = GPU_WSDTW_fragmented(F1, F2, K, M, \\\n",
    "                                    gpu_backtrace=True, gpu_cost=True)\n",
    "    path_cpu = WSDTW(F1, F2, K)\n",
    "    \n",
    "    if path_gpu.shape[1] != path_cpu.shape[1]:\n",
    "        print(i)\n",
    "        print('gpu', path_gpu[:,:10])\n",
    "        print('cpu', path_cpu[:,:10])\n",
    "    \n",
    "    if np.allclose(path_gpu, path_cpu): match_sum += 1\n",
    "print(match_sum)"
   ]
  },
  {
   "cell_type": "code",
   "execution_count": 153,
   "metadata": {},
   "outputs": [
    {
     "name": "stdout",
     "output_type": "stream",
     "text": [
      "0 Match\n",
      "1 Match\n",
      "2 Match\n",
      "3 Match\n",
      "4 Match\n",
      "5 Match\n",
      "6 Match\n",
      "7 Match\n",
      "8 Match\n",
      "9 Match\n",
      "10 Match\n",
      "11 Match\n",
      "12 Match\n",
      "13 Match\n",
      "14 Match\n",
      "15 Match\n",
      "16 Match\n",
      "17 Match\n",
      "18 Match\n",
      "19 Match\n",
      "20 Match\n",
      "21 Match\n",
      "22 Match\n",
      "23 Match\n",
      "24 Match\n",
      "25 Match\n",
      "26 Match\n",
      "27 Match\n",
      "28 Match\n",
      "29 Match\n",
      "30 Match\n",
      "31 Match\n",
      "32 Match\n",
      "33 Match\n",
      "34 Match\n",
      "35 Match\n",
      "36 Match\n",
      "37 Match\n",
      "38 Match\n",
      "39 Match\n",
      "40 Match\n",
      "41 Match\n",
      "42 Match\n",
      "43 Match\n",
      "44 Match\n",
      "45 Match\n",
      "46 Match\n",
      "47 Match\n",
      "48 Match\n",
      "49 Match\n"
     ]
    }
   ],
   "source": [
    "Steps = subseqDTWDefaultSteps\n",
    "weights = subseqDTWDefaultWeights\n",
    "\n",
    "K = 5\n",
    "M = 10\n",
    "\n",
    "for i in range(50):\n",
    "    F1 = np.abs(np.random.randn(12, 100))\n",
    "    F1 = F1 / np.linalg.norm(F1, axis = 1, keepdims=True)\n",
    "    F2 = np.abs(np.random.randn(12, 100))\n",
    "    F2 = F2 / np.linalg.norm(F2, axis = 1, keepdims=True)    \n",
    "    \n",
    "    # load features onto GPU\n",
    "    F1_global = cuda.to_device(F1)\n",
    "    F2_global = cuda.to_device(F2)\n",
    "    \n",
    "    segLength = int(np.ceil(F1.shape[1]/K))\n",
    "    fragLength = int(np.ceil(F2.shape[1]/M) + 2*segLength)\n",
    "\n",
    "    # load steps/weights onto GPU\n",
    "    steps_global = cuda.to_device(Steps)\n",
    "    weights_global = cuda.to_device(weights)\n",
    "    zeros = np.zeros((K,M))\n",
    "\n",
    "    # allocate mem. for padding matrices\n",
    "    overlap_global = cuda.device_array((F1.shape[1], 2*segLength*(M-1)), dtype = np.float64)\n",
    "\n",
    "    # allocate mem. for cost, cum. cost, and backtrace matrices\n",
    "    cost_dims = (F1.shape[1], F2.shape[1])\n",
    "    C_global = cuda.device_array(cost_dims)\n",
    "    D_global = cuda.device_array(cost_dims)\n",
    "    B_global = cuda.device_array(cost_dims, dtype=np.uint32)\n",
    "\n",
    "    GPU_Cost_And_DTW[K, M](C_global, D_global, B_global, \\\n",
    "                           F1_global, F2_global, \\\n",
    "                           steps_global, weights_global, \\\n",
    "                           segLength, fragLength, overlap_global, MAX_FLOAT, zeros)\n",
    "\n",
    "    D = D_global.copy_to_host()\n",
    "    B = B_global.copy_to_host()\n",
    "    \n",
    "    # Calculate using old method\n",
    "    D_GT, B_GT = WSDTW(F1, F2, K)\n",
    "    \n",
    "    Dmatch = np.allclose(D, np.vstack(D_GT))\n",
    "    Bmatch = np.allclose(B, np.vstack(B_GT))\n",
    "    \n",
    "    if not Dmatch or not Bmatch:\n",
    "        print(i, \"No Match\")\n",
    "    else:\n",
    "        print(i, \"Match\")"
   ]
  },
  {
   "cell_type": "code",
   "execution_count": 148,
   "metadata": {},
   "outputs": [
    {
     "name": "stdout",
     "output_type": "stream",
     "text": [
      "[0.85992764 0.84602638 0.85744025 0.87558091 0.90345081 0.79710404\n",
      " 0.89512524 0.69185473 0.82601685 0.88184511 0.7188346  0.87180717\n",
      " 0.80075499 0.79154838 0.89369295 0.770325   0.79602002 0.8749637\n",
      " 0.86839006 0.82729299 0.84966108 0.85110394 0.88353993 0.84198153\n",
      " 0.86994783 0.90617479 0.79860633 0.91071794 0.88787288 0.85719852\n",
      " 0.81206954 0.85154916 0.87190783 0.83156523 0.81757121 0.8911386\n",
      " 0.87813901 0.91026294 0.86010802 0.85975796 0.76877801 0.80774985\n",
      " 0.73611051 0.85893847 0.67539785 0.81165926 0.88371879 0.79811452\n",
      " 0.80214736 0.92923217]\n"
     ]
    }
   ],
   "source": [
    "print(D[0,:])"
   ]
  },
  {
   "cell_type": "code",
   "execution_count": 149,
   "metadata": {
    "scrolled": true
   },
   "outputs": [
    {
     "name": "stdout",
     "output_type": "stream",
     "text": [
      "[0.85992764 0.84602638 0.85744025 0.87558091 0.90345081 0.79710404\n",
      " 0.89512524 0.69185473 0.82601685 0.88184511 0.7188346  0.87180717\n",
      " 0.80075499 0.79154838 0.89369295 0.770325   0.79602002 0.8749637\n",
      " 0.86839006 0.82729299 0.84966108 0.85110394 0.88353993 0.84198153\n",
      " 0.86994783 0.90617479 0.79860633 0.91071794 0.88787288 0.85719852\n",
      " 0.81206954 0.85154916 0.87190783 0.83156523 0.81757121 0.8911386\n",
      " 0.87813901 0.91026294 0.86010802 0.85975796 0.76877801 0.80774985\n",
      " 0.73611051 0.85893847 0.67539785 0.81165926 0.88371879 0.79811452\n",
      " 0.80214736 0.92923217]\n"
     ]
    }
   ],
   "source": [
    "print(np.vstack(D_GT)[0,:])"
   ]
  },
  {
   "cell_type": "code",
   "execution_count": 139,
   "metadata": {},
   "outputs": [],
   "source": [
    "C = C_global.copy_to_host()"
   ]
  },
  {
   "cell_type": "code",
   "execution_count": 140,
   "metadata": {},
   "outputs": [
    {
     "data": {
      "text/plain": [
       "array([ 0.80683272,  0.83473883,  0.83784144,  0.79734891,  0.82368336,\n",
       "        0.78939387,  0.79435391,  0.78762583,  0.80194992,  0.86789348,\n",
       "        0.10208118,  1.03680173, -0.21895183, -0.24001065,  0.36096825,\n",
       "        1.00454376,  0.16802987,  0.27507241,  0.57341735,  0.55215173,\n",
       "        0.78232306,  0.80201182,  0.89928207,  0.81059646,  0.79117139,\n",
       "        0.84636836,  0.85306549,  0.85490411,  0.70449268,  0.87519397,\n",
       "        0.76872104,  0.79168108,  0.80569761,  0.82365751,  0.81704299,\n",
       "        0.86469018,  0.87260373,  0.78032269,  0.8495297 ,  0.8149697 ,\n",
       "        0.85053164,  0.90094766,  0.88234279,  0.84560389,  0.88719364,\n",
       "        0.82008274,  0.78610908,  0.78302255,  0.78715804,  0.81994179])"
      ]
     },
     "execution_count": 140,
     "metadata": {},
     "output_type": "execute_result"
    }
   ],
   "source": [
    "C[0,:]"
   ]
  },
  {
   "cell_type": "code",
   "execution_count": 143,
   "metadata": {},
   "outputs": [
    {
     "data": {
      "text/plain": [
       "array([[1., 1., 1., 1., 1.],\n",
       "       [1., 1., 1., 1., 1.],\n",
       "       [1., 1., 1., 1., 1.],\n",
       "       [1., 1., 1., 1., 1.],\n",
       "       [1., 1., 1., 1., 1.]])"
      ]
     },
     "execution_count": 143,
     "metadata": {},
     "output_type": "execute_result"
    }
   ],
   "source": [
    "zeros"
   ]
  },
  {
   "cell_type": "code",
   "execution_count": 41,
   "metadata": {},
   "outputs": [],
   "source": [
    "@cuda.jit\n",
    "def addMatrices(A, B, C):\n",
    "    for i in range(C.shape[0]):\n",
    "        for j in range(C.shape[1]):\n",
    "            C[i,j] = A[i,j] + B[i,j]"
   ]
  },
  {
   "cell_type": "code",
   "execution_count": 42,
   "metadata": {},
   "outputs": [],
   "source": [
    "dim = (100, 100)\n",
    "B = np.ones(dim)\n",
    "A = np.ones(dim) * 2\n",
    "\n",
    "times = []\n",
    "for i in range(1000):\n",
    "    times.append(time.time())\n",
    "    A_global = cuda.to_device(A)\n",
    "    B_global = cuda.to_device(B)\n",
    "    C_global = cuda.device_array(dim)\n",
    "    addMatrices[1,1](A_global, B_global, C_global)\n",
    "    C = C_global.copy_to_host()\n",
    "    \n",
    "times.append(time.time())\n",
    "timeavg = np.mean(np.diff(times))"
   ]
  },
  {
   "cell_type": "code",
   "execution_count": 43,
   "metadata": {},
   "outputs": [
    {
     "name": "stdout",
     "output_type": "stream",
     "text": [
      "0.0029019112586975097\n"
     ]
    }
   ],
   "source": [
    "print(timeavg)"
   ]
  },
  {
   "cell_type": "code",
   "execution_count": 44,
   "metadata": {},
   "outputs": [],
   "source": [
    "times2 = []\n",
    "for i in range(1000):\n",
    "    times2.append(time.time())\n",
    "    addMatrices[1, 1](A, B, C)\n",
    "    \n",
    "times2.append(time.time())\n",
    "timeavg2 = np.mean(np.diff(times2))"
   ]
  },
  {
   "cell_type": "code",
   "execution_count": 45,
   "metadata": {},
   "outputs": [
    {
     "data": {
      "text/plain": [
       "0.0029915826320648193"
      ]
     },
     "execution_count": 45,
     "metadata": {},
     "output_type": "execute_result"
    }
   ],
   "source": [
    "timeavg2"
   ]
  },
  {
   "cell_type": "markdown",
   "metadata": {},
   "source": [
    "### Larger Memory Load"
   ]
  },
  {
   "cell_type": "code",
   "execution_count": 75,
   "metadata": {
    "scrolled": false
   },
   "outputs": [],
   "source": [
    "np.random.seed(0)\n",
    "K = 8\n",
    "M = 8\n",
    "long_seq_len = 18440 # 20k fails\n",
    "long_feat1 = np.random.randn(12,long_seq_len)\n",
    "long_feat2 = np.random.randn(12,long_seq_len)\n",
    "\n",
    "test_path = GPU_WSDTW_fragmented(long_feat1, long_feat2, K, M, \\\n",
    "                                 Steps = subseqDTWDefaultSteps, weights = subseqDTWDefaultWeights, \\\n",
    "                                 outfile = None, profile = False, gpu_backtrace=True, gpu_cost=False)"
   ]
  },
  {
   "cell_type": "markdown",
   "metadata": {},
   "source": [
    "$11.720983$ GB available per GPU core"
   ]
  },
  {
   "cell_type": "code",
   "execution_count": 55,
   "metadata": {},
   "outputs": [
    {
     "name": "stdout",
     "output_type": "stream",
     "text": [
      "Fri Jul  2 02:15:06 2021       \n",
      "+-----------------------------------------------------------------------------+\n",
      "| NVIDIA-SMI 460.27.04    Driver Version: 460.27.04    CUDA Version: 11.2     |\n",
      "|-------------------------------+----------------------+----------------------+\n",
      "| GPU  Name        Persistence-M| Bus-Id        Disp.A | Volatile Uncorr. ECC |\n",
      "| Fan  Temp  Perf  Pwr:Usage/Cap|         Memory-Usage | GPU-Util  Compute M. |\n",
      "|                               |                      |               MIG M. |\n",
      "|===============================+======================+======================|\n",
      "|   0  GeForce GTX 108...  On   | 00000000:18:00.0 Off |                  N/A |\n",
      "| 23%   24C    P8     8W / 250W |    141MiB / 11178MiB |      0%      Default |\n",
      "|                               |                      |                  N/A |\n",
      "+-------------------------------+----------------------+----------------------+\n",
      "|   1  GeForce GTX 108...  On   | 00000000:3B:00.0 Off |                  N/A |\n",
      "| 23%   25C    P8     9W / 250W |      4MiB / 11178MiB |      0%      Default |\n",
      "|                               |                      |                  N/A |\n",
      "+-------------------------------+----------------------+----------------------+\n",
      "                                                                               \n",
      "+-----------------------------------------------------------------------------+\n",
      "| Processes:                                                                  |\n",
      "|  GPU   GI   CI        PID   Type   Process name                  GPU Memory |\n",
      "|        ID   ID                                                   Usage      |\n",
      "|=============================================================================|\n",
      "|    0   N/A  N/A     23429      C   ...onda3/envs/MIR/bin/python      137MiB |\n",
      "+-----------------------------------------------------------------------------+\n"
     ]
    }
   ],
   "source": [
    "!nvidia-smi"
   ]
  },
  {
   "cell_type": "code",
   "execution_count": null,
   "metadata": {},
   "outputs": [],
   "source": []
  }
 ],
 "metadata": {
  "kernelspec": {
   "display_name": "Python 3",
   "language": "python",
   "name": "python3"
  },
  "language_info": {
   "codemirror_mode": {
    "name": "ipython",
    "version": 3
   },
   "file_extension": ".py",
   "mimetype": "text/x-python",
   "name": "python",
   "nbconvert_exporter": "python",
   "pygments_lexer": "ipython3",
   "version": "3.7.10"
  }
 },
 "nbformat": 4,
 "nbformat_minor": 4
}
