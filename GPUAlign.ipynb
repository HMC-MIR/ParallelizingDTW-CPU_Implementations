{
 "cells": [
  {
   "cell_type": "code",
   "execution_count": 1,
   "metadata": {},
   "outputs": [],
   "source": [
    "import numpy as np\n",
    "import scipy.spatial.distance as dist\n",
    "import matplotlib.pyplot as plt\n",
    "import librosa as lb\n",
    "import os.path\n",
    "from pathlib import Path\n",
    "import pickle\n",
    "import multiprocessing\n",
    "import time\n",
    "import gc\n",
    "from numba import jit, njit, cuda, float64, uint32\n",
    "import torch\n",
    "import timeit"
   ]
  },
  {
   "cell_type": "code",
   "execution_count": 2,
   "metadata": {},
   "outputs": [],
   "source": [
    "DTWDefaultSteps = np.array([[1, 1, 2],\n",
    "                            [1, 2, 1]], dtype = np.uint32)\n",
    "\n",
    "DTWDefaultWeights = np.array([2, 3, 3], dtype = np.float64)\n",
    "\n",
    "\n",
    "subseqDTWDefaultSteps = np.array([[1, 1, 2],\n",
    "                                  [1, 2, 1]], dtype = np.float64)\n",
    "\n",
    "subseqDTWDefaultWeights = np.array([1, 1, 2], dtype = np.float64)\n",
    "\n",
    "\n",
    "MAX_FLOAT = float('inf')"
   ]
  },
  {
   "cell_type": "code",
   "execution_count": 3,
   "metadata": {},
   "outputs": [],
   "source": [
    "featureFile1 = \"implementation_test/test_features/Features_1.npy\"\n",
    "featureFile2 = \"implementation_test/test_features/Features_2.npy\"\n",
    "featureFile3 = \"implementation_test/test_features/Features_3.npy\"\n",
    "featureFile4 = \"implementation_test/test_features/Features_4.npy\""
   ]
  },
  {
   "cell_type": "code",
   "execution_count": 4,
   "metadata": {},
   "outputs": [],
   "source": [
    "@njit\n",
    "def DTW_Cost_To_DandB(C, Steps = DTWDefaultSteps, weights = DTWDefaultWeights, subsequence=False):\n",
    "    '''\n",
    "    Find the accumulated cost matrix and backtrace matrix from a cost matrix using Dynamic time warping\n",
    "    \n",
    "    Arguments:\n",
    "    C -- The Cost matrix\n",
    "    Steps -- The available steps, where the first row is the row steps, the second row is the column steps\n",
    "    weights -- The weights of the steps\n",
    "    subsequence -- True if subsequence DTW should be performed rather than standard DTW\n",
    "             \n",
    "    Returns:\n",
    "    D -- The accumulated cost matrix\n",
    "    B -- The backtrace matrix\n",
    "    '''\n",
    "    '''\n",
    "    Section for verifying input\n",
    "    '''\n",
    "    # Ensure parameters have correct dtypes and dimensions\n",
    "    try:\n",
    "        C = C.astype(np.float64)\n",
    "        assert C.ndim == 2\n",
    "    except:\n",
    "        print(\"FAILURE: The type of the cost matrix is wrong - please pass in a 2-d numpy array\")\n",
    "        return\n",
    "\n",
    "    try:\n",
    "        Steps = Steps.astype(np.uint32)\n",
    "        assert Steps.ndim == 2\n",
    "    except:\n",
    "        print(\"FAILURE: The type of the steps matrix is wrong - please pass in a 2-d numpy array\")\n",
    "        return\n",
    "\n",
    "    try:\n",
    "        weights = weights.astype(np.float64)\n",
    "        assert weights.ndim == 1\n",
    "    except:\n",
    "        print(\"FAILURE: The type of the steps matrix is wrong - please pass in a 2-d numpy array\")\n",
    "        return\n",
    "    \n",
    "    # Ensure steps and weights sizes are appropriate\n",
    "    stepsShape = Steps.shape\n",
    "    numDifSteps = len(weights)\n",
    "    \n",
    "    if stepsShape[0] != 2:\n",
    "        print(\"FAILURE: The size of the steps matrix is wrong - please pass in a 2-d numpy array with 2 rows\")\n",
    "        return\n",
    "    if stepsShape[1] != numDifSteps:\n",
    "        print(\"FAILURE: The number of steps and weights do not line up - please make sure that there are the same number of steps and weights\")\n",
    "        return\n",
    "    \n",
    "    '''\n",
    "    Algorithm\n",
    "    '''\n",
    "    # Separate steps\n",
    "    rowSteps = Steps[0,:]\n",
    "    colSteps = Steps[1,:]\n",
    "\n",
    "    # Define Relevant Variables\n",
    "    numRows = C.shape[0]\n",
    "    numCols = C.shape[1]\n",
    "    \n",
    "    numDifSteps = len(weights)\n",
    "    maxRowStep = max(rowSteps)\n",
    "    maxColStep = max(colSteps)\n",
    "    \n",
    "    # Set up accumulated cost matrix D and backtrace matrix B\n",
    "    D = np.ones((numRows + maxRowStep, numCols + maxColStep), dtype = np.float64) * MAX_FLOAT\n",
    "    B = np.zeros((numRows, numCols), dtype = np.uint32)\n",
    "    \n",
    "    # Fill up D and B\n",
    "    if subsequence:  # Initialize entire bottom row of D for subsequence\n",
    "        D[maxRowStep, maxColStep:] = C[0,:]\n",
    "    else:\n",
    "        D[maxRowStep, maxColStep] = C[0,0]  # Initialize bottom corner if for standard DTW\n",
    "    for row in range(maxRowStep, numRows + maxRowStep, 1):\n",
    "        for col in range(maxColStep, numCols + maxColStep, 1):\n",
    "            bestCost = D[row, col]\n",
    "            bestCostIndex = 0\n",
    "            # Go through each step, find the best one\n",
    "            for stepIndex in range(numDifSteps):\n",
    "                costForStep = D[row - rowSteps[stepIndex], col - colSteps[stepIndex]] + weights[stepIndex] * C[row - maxRowStep, col - maxColStep]\n",
    "                if costForStep < bestCost:\n",
    "                    bestCost = costForStep\n",
    "                    bestCostIndex = stepIndex\n",
    "            # Save best cost and step\n",
    "            D[row,col] = bestCost\n",
    "            B[row - maxRowStep, col - maxColStep] = bestCostIndex\n",
    "    \n",
    "    # Return accumulated cost matrix D and backtrace matrix B\n",
    "    return D[maxRowStep:, maxColStep:], B"
   ]
  },
  {
   "cell_type": "code",
   "execution_count": 5,
   "metadata": {},
   "outputs": [],
   "source": [
    "@njit\n",
    "def DTW_Backtrace(D, B, Steps=DTWDefaultSteps, subsequence=False, startCol=-1):\n",
    "    '''\n",
    "    Backtrace through an accumulated cost matrix and backtrace matrix to find a path\n",
    "    \n",
    "    Arguments:\n",
    "    D -- The accumulated cost matrix\n",
    "    B -- The backtrace matrix\n",
    "    Steps -- The available steps\n",
    "    subsequence -- True if subsequence DTW should be performed rather than standard DTW\n",
    "    startCol -- The column to begin backtracing from, or -1 if not specified\n",
    "    \n",
    "    Returns:\n",
    "    fwdPath -- A 2d numpy array storing the optimal path. The first row is the path through the rows.\n",
    "            The second row is the path through the columns\n",
    "    '''\n",
    "    '''\n",
    "    Section for verifying input\n",
    "    '''\n",
    "    # Ensure parameters have correct dtypes and dimensions\n",
    "    try:\n",
    "        D = D.astype(np.float64)\n",
    "        assert D.ndim == 2\n",
    "    except:\n",
    "        print(\"FAILURE: The type of the accumulated cost matrix is wrong - please pass in a 2-d numpy array\")\n",
    "        return\n",
    "\n",
    "    try:\n",
    "        B = B.astype(np.uint32)\n",
    "        assert B.ndim == 2\n",
    "    except:\n",
    "        print(\"FAILURE: The type of the backtrace matrix is wrong - please pass in a 2-d numpy array\")\n",
    "        return\n",
    "    \n",
    "    try:\n",
    "        Steps = Steps.astype(np.uint32)\n",
    "        assert Steps.ndim == 2\n",
    "    except:\n",
    "        print(\"FAILURE: The type of the steps matrix is wrong - please pass in a 2-d numpy array\")\n",
    "        return\n",
    "\n",
    "    # Ensure that D and B are the same shape\n",
    "    if D.shape != B.shape:\n",
    "        print(\"FAILURE: The accumulated cost matrix and backtrace matrix are not the same size - please make sure their sizes match\")\n",
    "        return\n",
    "    \n",
    "    \n",
    "    '''\n",
    "    Backtrace through D and B\n",
    "    '''\n",
    "    # Separate steps\n",
    "    rowSteps = Steps[0,:]\n",
    "    colSteps = Steps[1,:]\n",
    "    \n",
    "    # Initialize variables\n",
    "    numRows = D.shape[0]\n",
    "    numCols = D.shape[1]\n",
    "    \n",
    "    curRow = numRows - 1  # Always start at last row\n",
    "    curCol = numCols - 1  # Standard DTW: Start at top-right corner\n",
    "    if startCol > 0:\n",
    "        curCol = startCol\n",
    "    elif subsequence:  # Subsequence: Choose lowest cost of top row\n",
    "        curCol = np.argmin(D[numRows-1,:])\n",
    "    \n",
    "    endCol = curCol\n",
    "    endCost = D[curRow, curCol]\n",
    "    stepsInPath = 1\n",
    "    stepIndex = 0\n",
    "    done = (subsequence and curRow == 0) or (curRow == 0 and curCol == 0)\n",
    "    path = np.zeros((2, numRows + numCols), dtype=np.uint32) # make as large as could need, then chop at the end\n",
    "    path[0, 0] = curRow\n",
    "    path[1, 0] = curCol\n",
    "    # Backtrace\n",
    "    while not done:\n",
    "        if D[curRow, curCol] == MAX_FLOAT:  # No path exists to current location\n",
    "            return\n",
    "        \n",
    "        # you're done if you've made it to the bottom left (non sub-sequence)\n",
    "        # or just the bottom (sub-sequence)\n",
    "        # find the step size\n",
    "        curStepIndex = B[curRow, curCol]\n",
    "        curRowStep = rowSteps[curStepIndex]\n",
    "        curColStep = colSteps[curStepIndex]\n",
    "        # backtrack by 1 step\n",
    "        curRow = curRow - curRowStep\n",
    "        curCol = curCol - curColStep\n",
    "        # add your new location onto the path\n",
    "        path[0, stepsInPath] = curRow\n",
    "        path[1, stepsInPath] = curCol\n",
    "        stepsInPath = stepsInPath + 1\n",
    "        # check to see if you're done\n",
    "        done = (subsequence and curRow == 0) or (curRow == 0 and curCol == 0)\n",
    "    # reverse the path (a matrix with two rows) and return it\n",
    "    fwdPath = np.fliplr(path[:, 0:stepsInPath])\n",
    "    return fwdPath\n",
    "    #return fwdPath, endCol, endCost"
   ]
  },
  {
   "cell_type": "code",
   "execution_count": 6,
   "metadata": {},
   "outputs": [],
   "source": [
    "@njit\n",
    "def getSegmentEndingLocs(wp):\n",
    "    '''\n",
    "    Takes in a segment level path through and returns the columns where each segment ends\n",
    "    \n",
    "    Arguments:\n",
    "    wp -- A segment level path (as a 2d numpy array with 2 rows)\n",
    "    \n",
    "    Returns:\n",
    "    endLocs -- A list where the ith entry is the column where the ith segment ends\n",
    "    '''\n",
    "    prevLoc = wp[:,0] # [r,c]\n",
    "    endLocs = []\n",
    "    for i in range(wp.shape[1]):\n",
    "        curLoc = wp[:,i]\n",
    "        if curLoc[0] != prevLoc[0]: # if row changes\n",
    "            endLocs.append(curLoc[1])\n",
    "        prevLoc = curLoc\n",
    "        \n",
    "    return endLocs"
   ]
  },
  {
   "cell_type": "code",
   "execution_count": 7,
   "metadata": {},
   "outputs": [],
   "source": [
    "@cuda.jit\n",
    "def GPU_DTW_shared(D, B, C, segLength, steps, weights):\n",
    "    '''\n",
    "    '''\n",
    "    # Extract segments into shared memory\n",
    "    i = cuda.grid(1)\n",
    "    \n",
    "    # init shared matrices\n",
    "    #C_frag = cuda.shared.array((segLength,C.shape[1]), float64)\n",
    "    #D_frag = cuda.shared.array((segLength,C.shape[1]), float64)\n",
    "    C_shared = cuda.shared.array(shape=0, dtype=float64)\n",
    "    \n",
    "    segWidth = C.shape[1]\n",
    "    \n",
    "    #C_shared = np.zeros(segWidth*segLength*2 + 9, dtype = np.float64)\n",
    "    \n",
    "    \n",
    "    COffset = 9\n",
    "    DOffset = segWidth*segLength + COffset\n",
    "    # fill matrices\n",
    "    for r in range(segLength):\n",
    "        for c in range(segWidth):\n",
    "            C_shared[COffset+r*segWidth+c] = C[int(min(i*segLength+r, C.shape[0])), c]\n",
    "            C_shared[DOffset+r*segWidth+c] = D[int(min(i*segLength+r, C.shape[0])), c]\n",
    "    \n",
    "    for j in range(steps.shape[0]):\n",
    "        for k in range(steps.shape[1]):\n",
    "            C_shared[3*j + k] = steps[j,k]\n",
    "            \n",
    "    for j in range(len(weights)):\n",
    "        C_shared[6 + j] = weights[j]\n",
    "\n",
    "    \n",
    "    # Run DTW\n",
    "    \n",
    "    numSteps = 3\n",
    "    \n",
    "    # Fill up D and B\n",
    "    for c in range(segWidth): # subsequence init\n",
    "        C_shared[DOffset+c] = C_shared[COffset+c] \n",
    "    \n",
    "    for row in range(segLength):\n",
    "        for col in range(segWidth):\n",
    "            bestCost = C_shared[DOffset+row*segWidth+col]\n",
    "            bestCostIndex = 0\n",
    "            # Go through each step, find the best one\n",
    "            for stepIndex in range(numSteps):\n",
    "                if row - C_shared[stepIndex] < 0 or col - C_shared[numSteps+stepIndex] < 0:\n",
    "                    continue\n",
    "                \n",
    "                costForStep = C_shared[int(DOffset + (row - C_shared[stepIndex]) * segWidth + col \\\n",
    "                            - C_shared[numSteps + stepIndex])] + C_shared[int(2 * numSteps + stepIndex)] * \\\n",
    "                            C_shared[int(COffset + row*segWidth + col)]\n",
    "                \n",
    "                if costForStep < bestCost:\n",
    "                    bestCost = costForStep\n",
    "                    bestCostIndex = stepIndex\n",
    "            # Save best cost and step\n",
    "            C_shared[DOffset + row * segWidth + col] = bestCost\n",
    "            B[row + i*segLength, col] = bestCostIndex\n",
    "    \n",
    "    # Copy D and B segments into global memory\n",
    "    for r in range(segLength):\n",
    "        if (i*segLength + r == C.shape[0]):\n",
    "            break\n",
    "        for c in range(segWidth):\n",
    "            D[i*segLength+r, c] = C_shared[DOffset + r * segWidth + c]"
   ]
  },
  {
   "cell_type": "code",
   "execution_count": 8,
   "metadata": {},
   "outputs": [],
   "source": [
    "@cuda.jit\n",
    "def GPU_DTW_global(D, B, C, segLength, steps, weights):\n",
    "    '''\n",
    "    '''\n",
    "    # Extract segments into shared memory\n",
    "    i = cuda.grid(1)\n",
    "    #i=0\n",
    "    \n",
    "    offset = i*segLength\n",
    "    segWidth = C.shape[1]\n",
    "    \n",
    "    # Run DTW\n",
    "    \n",
    "    numSteps = 3\n",
    "    \n",
    "    # Fill up D and B\n",
    "    for c in range(segWidth): # subsequence init\n",
    "        D[offset,c] = C[offset,c]\n",
    "    \n",
    "    for row in range(segLength):\n",
    "        if (offset + row == C.shape[0]):\n",
    "            break\n",
    "        for col in range(segWidth):\n",
    "            bestCost = D[offset+row,col]\n",
    "            bestCostIndex = 0\n",
    "            # Go through each step, find the best one\n",
    "            for stepIndex in range(numSteps):\n",
    "                rowStep = steps[0, stepIndex]\n",
    "                colStep = steps[1, stepIndex]\n",
    "                if row - rowStep < 0 or col - colStep < 0:\n",
    "                    continue\n",
    "                \n",
    "                costForStep = D[int(offset + (row - rowStep)), int(col - colStep)] + \\\n",
    "                              weights[stepIndex] * C[offset + row, col]\n",
    "                \n",
    "                if costForStep < bestCost:\n",
    "                    bestCost = costForStep\n",
    "                    bestCostIndex = stepIndex\n",
    "            # Save best cost and step\n",
    "            D[offset + row, col] = bestCost\n",
    "            B[offset + row, col] = bestCostIndex"
   ]
  },
  {
   "cell_type": "code",
   "execution_count": 79,
   "metadata": {},
   "outputs": [],
   "source": [
    "@jit(forceobj=True)\n",
    "def GPU_WSDTW(queryFeatureFile, refFeatureFile, K, Steps = subseqDTWDefaultSteps, weights = subseqDTWDefaultWeights, \\\n",
    "              outfile = None, profile = False):\n",
    "    '''\n",
    "    '''\n",
    "    \n",
    "    # Extract Feature matrices\n",
    "    F1 = np.load(queryFeatureFile, allow_pickle = True)\n",
    "    F2 = np.load(refFeatureFile, allow_pickle = True)\n",
    "    \n",
    "#     F1 = F1[:, :100]\n",
    "#     F2 = F2[:, :100]\n",
    "    \n",
    "    \n",
    "    \n",
    "    if max(F1.shape[1], F2.shape[1]) / min(F1.shape[1], F2.shape[1]) >= 2: # no valid path possible\n",
    "        print(\"FAILURE - Feature sizes are too different to align with DTW\")\n",
    "        return\n",
    "    \n",
    "    # start time logging\n",
    "    times = []\n",
    "    times.append(time.time())\n",
    "    \n",
    "    # Compute Cost\n",
    "    # NOTE: This could also be done segment by segment.\n",
    "    # I am doing it all up front to match the implementation in the old code.\n",
    "    C = 1 - F1.T @ F2\n",
    "    \n",
    "    # Subsequence DTW each segment without backtracing\n",
    "    segLength = int(np.ceil(F1.shape[1] / K))\n",
    "    segWidth = C.shape[1]\n",
    "    \n",
    "    Cseg = np.zeros((K + 1, C.shape[1]), dtype = np.float64)\n",
    "    D = np.ones(C.shape, dtype = np.float64) * MAX_FLOAT\n",
    "    B = np.zeros(C.shape, dtype = np.int32)\n",
    "    \n",
    "    totalSize = C.nbytes + D.nbytes + B.nbytes\n",
    "    totalSegmentSize = int(np.ceil((totalSize-B.nbytes) / K))  # If necessary, maybe just put C and D in shared memory\n",
    "    times.append(time.time())\n",
    "    if totalSize > torch.cuda.get_device_properties(0).total_memory:  # C > 11GB\n",
    "        # Pass in fragment by fragment\n",
    "        print('Fragment too large for global memory') \n",
    "        # Pass in as many fragments as possible at once\n",
    "        # Some Function\n",
    "        # Implement Later if Desired\n",
    "    elif totalSegmentSize > 96000:  # Can't use shared memory\n",
    "        print('Fragment too large for shared memory')\n",
    "        GPU_DTW_global[K,1](D, B, C, segLength, Steps, weights)\n",
    "        #GPU_DTW_global(D, B, C, segLength, Steps, weights)\n",
    "    else:\n",
    "        GPU_DTW_shared[K,1,0,totalSegmentSize+Steps.nbytes+weights.nbytes](D, B, C, segLength, Steps, weights)\n",
    "        #GPU_DTW_shared(D, B, C, segLength, Steps, weights)\n",
    "    times.append(time.time())\n",
    "    for i in range(K):\n",
    "        Cseg[i+1,:] = D[min((i+1)*segLength-1,D.shape[0]-1),:]\n",
    "    \n",
    "    # run segment-level DTW (Not subsequence)\n",
    "    segmentSteps = np.array([[0, 1],\n",
    "                             [1, C.shape[0]//(2 * K)]], #NOTE: This could cause differences with old implementation\n",
    "                            dtype=np.uint32)\n",
    "    segmentWeights = np.array([0, 1])\n",
    "    \n",
    "    Dseg, Bseg = DTW_Cost_To_DandB(Cseg, Steps = segmentSteps, weights = segmentWeights)\n",
    "    times.append(time.time())\n",
    "    wpseg = DTW_Backtrace(Dseg, Bseg, Steps=segmentSteps)\n",
    "    times.append(time.time())\n",
    "    # Backtrace through segments with segment level path as guide\n",
    "    # On GPU?\n",
    "    path = []\n",
    "    # Frame level backtrace segment by segment\n",
    "    segmentEndIdxs = getSegmentEndingLocs(wpseg)\n",
    "    times.append(time.time())\n",
    "    for i, endidx in enumerate(segmentEndIdxs):\n",
    "        D_i = D[i*segLength:min((i+1)*segLength, D.shape[0]),:]\n",
    "        B_i = B[i*segLength:min((i+1)*segLength, B.shape[0]),:]\n",
    "        pathSeg = DTW_Backtrace(D_i, B_i, Steps = Steps, subsequence = True, startCol = endidx)\n",
    "        # Add offset to row indices so they match with overall path\n",
    "        pathSeg[0,:] = pathSeg[0,:] + (i * segLength)\n",
    "\n",
    "        # Append fragment to full path\n",
    "        path.append(pathSeg.copy())\n",
    "    times.append(time.time())\n",
    "    wp_merged = np.hstack(path)\n",
    "    \n",
    "    if outfile:\n",
    "        pickle.dump(wp_merged, open(outfile, 'wb'))\n",
    "\n",
    "    if profile:\n",
    "        return wp_merged, np.diff(times)\n",
    "    else:\n",
    "        return wp_merged"
   ]
  },
  {
   "cell_type": "code",
   "execution_count": 80,
   "metadata": {},
   "outputs": [],
   "source": [
    "@jit(forceobj = True)\n",
    "def WSDTW(queryFeatureFile, refFeatureFile, segments, Steps = subseqDTWDefaultSteps, weights = subseqDTWDefaultWeights, \\\n",
    "          outfile = None, profile = False):\n",
    "    '''\n",
    "    Runs a weakly-ordered segmental DTW between query and reference features matrices\n",
    "    \n",
    "    Arguments:\n",
    "    queryFeatureFile -- The file containing the query feature matrix\n",
    "    refFeatureFile -- The file containing the reference feature matrix\n",
    "    segments -- The number of segments to divide F1 into\n",
    "    Steps -- The allowed steps\n",
    "    weights -- The weights for the steps\n",
    "    \n",
    "    Returns:\n",
    "    path -- The optimal weakly-ordered, segmented alignment path between F1 and F2\n",
    "    '''\n",
    "    # Extract Feature matrices\n",
    "    F1 = np.load(queryFeatureFile, allow_pickle = True)#[:,:100]\n",
    "    F2 = np.load(refFeatureFile, allow_pickle = True)#[:,:100]\n",
    "\n",
    "    if max(F1.shape[1], F2.shape[1]) / min(F1.shape[1], F2.shape[1]) >= 2: # no valid path possible\n",
    "        print(\"FAILURE - Feature sizes are too different to align with DTW\")\n",
    "        return\n",
    "    \n",
    "    # start time logging\n",
    "    times = []\n",
    "    times.append(time.time())\n",
    "    \n",
    "    # Compute Cost\n",
    "    # NOTE: This could also be done segment by segment.\n",
    "    # I am doing it all up front to match the implementation in the old code.\n",
    "    C = 1 - F1.T @ F2\n",
    "    \n",
    "    times.append(time.time())\n",
    "    \n",
    "    # Subsequence DTW each segment without backtracing\n",
    "    segLength = int(np.ceil(F1.shape[1] / segments))\n",
    "    Cseg = np.zeros((segments + 1, C.shape[1]), dtype = np.float64)\n",
    "    Dparts = []\n",
    "    Bparts = []\n",
    "    for i in range(segments):\n",
    "        segStart = i * segLength\n",
    "        segEnd = min(segStart + segLength, C.shape[0])\n",
    "        # Ensuring that the segment is contiguous here ensures best performance in later computations\n",
    "        currentSeg = np.ascontiguousarray(C[segStart:segEnd,:])\n",
    "        D_i, B_i = DTW_Cost_To_DandB(currentSeg, Steps = Steps, weights = weights, subsequence = True)\n",
    "        \n",
    "        # Store D_i and B_i for segment and construct Cseg\n",
    "        Dparts.append(D_i)\n",
    "        Bparts.append(B_i)\n",
    "        \n",
    "        # NOTE: May need to separate this into a different loop for runtime profiling\n",
    "        Cseg[i + 1,:] = D_i[-1,:]\n",
    "    times.append(time.time())\n",
    "    \n",
    "    # run segment-level DTW (Not subsequence)\n",
    "    segmentSteps = np.array([[0, 1],\n",
    "                             [1, C.shape[0]//(2 * segments)]], #NOTE: This could cause differences with old implementation\n",
    "                            dtype=np.uint32)\n",
    "    segmentWeights = np.array([0, 1])\n",
    "    \n",
    "    Dseg, Bseg = DTW_Cost_To_DandB(Cseg, Steps = segmentSteps, weights = segmentWeights)\n",
    "\n",
    "    times.append(time.time())\n",
    "    \n",
    "    wpseg = DTW_Backtrace(Dseg, Bseg, Steps=segmentSteps)\n",
    "    \n",
    "    times.append(time.time())\n",
    "    \n",
    "    # Backtrace through segments with segment level path as guide\n",
    "    path = []\n",
    "    # Frame level backtrace segment by segment\n",
    "    segmentEndIdxs = getSegmentEndingLocs(wpseg)\n",
    "    \n",
    "    times.append(time.time())\n",
    "    \n",
    "    for i, endidx in enumerate(segmentEndIdxs):\n",
    "        pathSeg = DTW_Backtrace(Dparts[i], Bparts[i], Steps = Steps, subsequence = True, startCol = endidx)\n",
    "        # Add offset to row indices so they match with overall path\n",
    "        pathSeg[0,:] = pathSeg[0,:] + (i * segLength)\n",
    "\n",
    "        # Append fragment to full path\n",
    "        path.append(pathSeg.copy())\n",
    "    \n",
    "    wp_merged = np.hstack(path)\n",
    "    \n",
    "    times.append(time.time())\n",
    "    \n",
    "    if outfile:\n",
    "        pickle.dump(wp_merged, open(outfile, 'wb'))\n",
    "\n",
    "    if profile:\n",
    "        return wp_merged, np.diff(times)\n",
    "    else:\n",
    "        return wp_merged"
   ]
  },
  {
   "cell_type": "markdown",
   "metadata": {},
   "source": [
    "### Test with K=5"
   ]
  },
  {
   "cell_type": "code",
   "execution_count": 103,
   "metadata": {},
   "outputs": [
    {
     "name": "stdout",
     "output_type": "stream",
     "text": [
      "Fragment too large for shared memory\n"
     ]
    }
   ],
   "source": [
    "path, times = GPU_WSDTW(featureFile3, featureFile4, 5, Steps = subseqDTWDefaultSteps, weights = subseqDTWDefaultWeights, profile = True)"
   ]
  },
  {
   "cell_type": "code",
   "execution_count": 104,
   "metadata": {},
   "outputs": [],
   "source": [
    "GTPath, GTtimes = WSDTW(featureFile3, featureFile4, 5, profile = True)"
   ]
  },
  {
   "cell_type": "code",
   "execution_count": 105,
   "metadata": {},
   "outputs": [
    {
     "data": {
      "text/plain": [
       "True"
      ]
     },
     "execution_count": 105,
     "metadata": {},
     "output_type": "execute_result"
    }
   ],
   "source": [
    "np.allclose(path,GTPath)"
   ]
  },
  {
   "cell_type": "code",
   "execution_count": 108,
   "metadata": {},
   "outputs": [
    {
     "data": {
      "image/png": "[encoded data removed]",
      "text/plain": [
       "<Figure size 432x288 with 1 Axes>"
      ]
     },
     "metadata": {
      "needs_background": "light"
     },
     "output_type": "display_data"
    }
   ],
   "source": [
    "plt.plot(times,'*');\n",
    "plt.plot(GTtimes,'.');"
   ]
  },
  {
   "cell_type": "code",
   "execution_count": 109,
   "metadata": {},
   "outputs": [],
   "source": [
    "C = np.random.random((100,100))\n",
    "segLength = int(np.ceil(C.shape[1] / 5))\n",
    "D = np.ones(C.shape, dtype = np.float64) * MAX_FLOAT\n",
    "B = np.zeros(C.shape, dtype = np.int32)\n",
    "\n",
    "totalSize = C.nbytes + D.nbytes + B.nbytes\n",
    "totalSegmentSize = int(np.ceil((totalSize-B.nbytes) / 5))\n",
    "Steps = subseqDTWDefaultSteps\n",
    "weights = subseqDTWDefaultWeights"
   ]
  },
  {
   "cell_type": "code",
   "execution_count": 110,
   "metadata": {},
   "outputs": [
    {
     "name": "stdout",
     "output_type": "stream",
     "text": [
      "4.01 ms ± 14.3 µs per loop (mean ± std. dev. of 7 runs, 100 loops each)\n"
     ]
    }
   ],
   "source": [
    "%timeit GPU_DTW_shared[5,1,0,totalSegmentSize+Steps.nbytes+weights.nbytes](D, B, C, segLength, Steps, weights)"
   ]
  },
  {
   "cell_type": "code",
   "execution_count": 111,
   "metadata": {},
   "outputs": [
    {
     "name": "stdout",
     "output_type": "stream",
     "text": [
      "207 µs ± 1.18 µs per loop (mean ± std. dev. of 7 runs, 1000 loops each)\n"
     ]
    }
   ],
   "source": [
    "%timeit DTW_Cost_To_DandB(C, Steps = Steps, weights = weights, subsequence=True)"
   ]
  },
  {
   "cell_type": "code",
   "execution_count": 112,
   "metadata": {},
   "outputs": [
    {
     "data": {
      "text/plain": [
       "0.39084577560424805"
      ]
     },
     "execution_count": 112,
     "metadata": {},
     "output_type": "execute_result"
    }
   ],
   "source": [
    "np.sum(times)"
   ]
  },
  {
   "cell_type": "code",
   "execution_count": 113,
   "metadata": {},
   "outputs": [
    {
     "data": {
      "text/plain": [
       "0.0324101448059082"
      ]
     },
     "execution_count": 113,
     "metadata": {},
     "output_type": "execute_result"
    }
   ],
   "source": [
    "np.sum(GTtimes)"
   ]
  },
  {
   "cell_type": "markdown",
   "metadata": {},
   "source": [
    "### Test with K=10"
   ]
  },
  {
   "cell_type": "code",
   "execution_count": 114,
   "metadata": {},
   "outputs": [
    {
     "name": "stdout",
     "output_type": "stream",
     "text": [
      "Fragment too large for shared memory\n"
     ]
    }
   ],
   "source": [
    "path, times = GPU_WSDTW(featureFile3, featureFile4, 10, Steps = subseqDTWDefaultSteps, weights = subseqDTWDefaultWeights, profile = True)"
   ]
  },
  {
   "cell_type": "code",
   "execution_count": 115,
   "metadata": {},
   "outputs": [],
   "source": [
    "GTPath, GTtimes = WSDTW(featureFile3, featureFile4, 10, profile = True)"
   ]
  },
  {
   "cell_type": "code",
   "execution_count": 116,
   "metadata": {},
   "outputs": [
    {
     "data": {
      "text/plain": [
       "True"
      ]
     },
     "execution_count": 116,
     "metadata": {},
     "output_type": "execute_result"
    }
   ],
   "source": [
    "np.allclose(path,GTPath)"
   ]
  },
  {
   "cell_type": "code",
   "execution_count": 119,
   "metadata": {},
   "outputs": [
    {
     "data": {
      "image/png": "[encoded data removed]",
      "text/plain": [
       "<Figure size 432x288 with 1 Axes>"
      ]
     },
     "metadata": {
      "needs_background": "light"
     },
     "output_type": "display_data"
    }
   ],
   "source": [
    "plt.plot(times,'*');\n",
    "plt.plot(GTtimes,'.');"
   ]
  },
  {
   "cell_type": "code",
   "execution_count": 120,
   "metadata": {},
   "outputs": [],
   "source": [
    "C = np.random.random((100,100))\n",
    "segLength = int(np.ceil(C.shape[1] / 5))\n",
    "D = np.ones(C.shape, dtype = np.float64) * MAX_FLOAT\n",
    "B = np.zeros(C.shape, dtype = np.int32)\n",
    "\n",
    "totalSize = C.nbytes + D.nbytes + B.nbytes\n",
    "totalSegmentSize = int(np.ceil((totalSize-B.nbytes) / 5))\n",
    "Steps = subseqDTWDefaultSteps\n",
    "weights = subseqDTWDefaultWeights"
   ]
  },
  {
   "cell_type": "code",
   "execution_count": 121,
   "metadata": {},
   "outputs": [
    {
     "name": "stdout",
     "output_type": "stream",
     "text": [
      "4 ms ± 13.3 µs per loop (mean ± std. dev. of 7 runs, 100 loops each)\n"
     ]
    }
   ],
   "source": [
    "%timeit GPU_DTW_shared[5,1,0,totalSegmentSize+Steps.nbytes+weights.nbytes](D, B, C, segLength, Steps, weights)"
   ]
  },
  {
   "cell_type": "code",
   "execution_count": 122,
   "metadata": {},
   "outputs": [
    {
     "name": "stdout",
     "output_type": "stream",
     "text": [
      "207 µs ± 696 ns per loop (mean ± std. dev. of 7 runs, 1000 loops each)\n"
     ]
    }
   ],
   "source": [
    "%timeit DTW_Cost_To_DandB(C, Steps = Steps, weights = weights, subsequence=True)"
   ]
  },
  {
   "cell_type": "code",
   "execution_count": 123,
   "metadata": {},
   "outputs": [
    {
     "data": {
      "text/plain": [
       "0.20346498489379883"
      ]
     },
     "execution_count": 123,
     "metadata": {},
     "output_type": "execute_result"
    }
   ],
   "source": [
    "np.sum(times)"
   ]
  },
  {
   "cell_type": "code",
   "execution_count": 124,
   "metadata": {},
   "outputs": [
    {
     "data": {
      "text/plain": [
       "0.03592061996459961"
      ]
     },
     "execution_count": 124,
     "metadata": {},
     "output_type": "execute_result"
    }
   ],
   "source": [
    "np.sum(GTtimes)"
   ]
  },
  {
   "cell_type": "markdown",
   "metadata": {},
   "source": [
    "### Test on Larger Matrices"
   ]
  },
  {
   "cell_type": "code",
   "execution_count": 136,
   "metadata": {},
   "outputs": [
    {
     "name": "stdout",
     "output_type": "stream",
     "text": [
      "Fragment too large for shared memory\n"
     ]
    }
   ],
   "source": [
    "path, times = GPU_WSDTW(featureFile1, featureFile2, 10, Steps = subseqDTWDefaultSteps, weights = subseqDTWDefaultWeights, profile = True)"
   ]
  },
  {
   "cell_type": "code",
   "execution_count": 137,
   "metadata": {},
   "outputs": [],
   "source": [
    "GTPath, GTtimes = WSDTW(featureFile1, featureFile2, 10, profile = True)"
   ]
  },
  {
   "cell_type": "code",
   "execution_count": 138,
   "metadata": {},
   "outputs": [
    {
     "data": {
      "text/plain": [
       "True"
      ]
     },
     "execution_count": 138,
     "metadata": {},
     "output_type": "execute_result"
    }
   ],
   "source": [
    "np.allclose(path,GTPath)"
   ]
  },
  {
   "cell_type": "code",
   "execution_count": 141,
   "metadata": {},
   "outputs": [
    {
     "data": {
      "image/png": "[encoded data removed]",
      "text/plain": [
       "<Figure size 432x288 with 1 Axes>"
      ]
     },
     "metadata": {
      "needs_background": "light"
     },
     "output_type": "display_data"
    }
   ],
   "source": [
    "plt.plot(times,'*');\n",
    "plt.plot(GTtimes,'.');"
   ]
  },
  {
   "cell_type": "code",
   "execution_count": 142,
   "metadata": {},
   "outputs": [],
   "source": [
    "C = np.random.random((100,100))\n",
    "segLength = int(np.ceil(C.shape[1] / 5))\n",
    "D = np.ones(C.shape, dtype = np.float64) * MAX_FLOAT\n",
    "B = np.zeros(C.shape, dtype = np.int32)\n",
    "\n",
    "totalSize = C.nbytes + D.nbytes + B.nbytes\n",
    "totalSegmentSize = int(np.ceil((totalSize-B.nbytes) / 5))\n",
    "Steps = subseqDTWDefaultSteps\n",
    "weights = subseqDTWDefaultWeights"
   ]
  },
  {
   "cell_type": "code",
   "execution_count": 143,
   "metadata": {},
   "outputs": [
    {
     "name": "stdout",
     "output_type": "stream",
     "text": [
      "4.03 ms ± 9.72 µs per loop (mean ± std. dev. of 7 runs, 100 loops each)\n"
     ]
    }
   ],
   "source": [
    "%timeit GPU_DTW_shared[5,1,0,totalSegmentSize+Steps.nbytes+weights.nbytes](D, B, C, segLength, Steps, weights)"
   ]
  },
  {
   "cell_type": "code",
   "execution_count": 144,
   "metadata": {},
   "outputs": [
    {
     "name": "stdout",
     "output_type": "stream",
     "text": [
      "206 µs ± 677 ns per loop (mean ± std. dev. of 7 runs, 1000 loops each)\n"
     ]
    }
   ],
   "source": [
    "%timeit DTW_Cost_To_DandB(C, Steps = Steps, weights = weights, subsequence=True)"
   ]
  },
  {
   "cell_type": "code",
   "execution_count": 145,
   "metadata": {},
   "outputs": [
    {
     "data": {
      "text/plain": [
       "21.44457983970642"
      ]
     },
     "execution_count": 145,
     "metadata": {},
     "output_type": "execute_result"
    }
   ],
   "source": [
    "np.sum(times)"
   ]
  },
  {
   "cell_type": "code",
   "execution_count": 146,
   "metadata": {},
   "outputs": [
    {
     "data": {
      "text/plain": [
       "3.693242073059082"
      ]
     },
     "execution_count": 146,
     "metadata": {},
     "output_type": "execute_result"
    }
   ],
   "source": [
    "np.sum(GTtimes)"
   ]
  },
  {
   "cell_type": "code",
   "execution_count": null,
   "metadata": {},
   "outputs": [],
   "source": []
  }
 ],
 "metadata": {
  "kernelspec": {
   "display_name": "SubDTWEnvironment",
   "language": "python",
   "name": "subdtwenvironment"
  },
  "language_info": {
   "codemirror_mode": {
    "name": "ipython",
    "version": 3
   },
   "file_extension": ".py",
   "mimetype": "text/x-python",
   "name": "python",
   "nbconvert_exporter": "python",
   "pygments_lexer": "ipython3",
   "version": "3.7.7"
  }
 },
 "nbformat": 4,
 "nbformat_minor": 4
}
